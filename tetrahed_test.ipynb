{
 "cells": [
  {
   "cell_type": "markdown",
   "id": "cf47782c-f73f-4adb-b2d8-8b6e7525f78d",
   "metadata": {},
   "source": [
    "# Tetrahed test"
   ]
  },
  {
   "cell_type": "markdown",
   "id": "60814def-1ea8-4af2-8047-cb0958f19377",
   "metadata": {},
   "source": [
    "### import relevant library"
   ]
  },
  {
   "cell_type": "code",
   "execution_count": 1,
   "id": "e8834390-7e70-4706-b9fa-c787699bdd43",
   "metadata": {},
   "outputs": [],
   "source": [
    "import sympy as sp\n",
    "from einsteinpy.symbolic import MetricTensor, ChristoffelSymbols, RiemannCurvatureTensor, RicciTensor, RicciScalar, EinsteinTensor\n",
    "from sympy import init_printing\n",
    "\n",
    "import sympy as sp\n",
    "import numpy as np\n",
    "import matplotlib.pyplot as plt\n",
    "from mpl_toolkits.mplot3d import Axes3D"
   ]
  },
  {
   "cell_type": "markdown",
   "id": "aea5d858-75e1-452e-8969-49633e21041a",
   "metadata": {},
   "source": [
    "## Tetrahed computation"
   ]
  },
  {
   "cell_type": "markdown",
   "id": "8935a88d-f6ca-4f5a-be0c-a32ac6ece319",
   "metadata": {},
   "source": [
    "Here I implement the tetrahed solution of arXiv:2404.03095 to see if there is no error and to be sure that the $e_{\\mu}^0$ is indeed orthogonal to constant time hypersurface by comparing it to the expression in the 3+1 formalism. "
   ]
  },
  {
   "cell_type": "code",
   "execution_count": 2,
   "id": "741ffcc7-c016-4c71-8034-ffc1977ba451",
   "metadata": {},
   "outputs": [],
   "source": [
    "# Create symbols g0 to g10\n",
    "g = sp.symbols('g1:11')\n",
    "e_ = sp.symbols('e1:11')\n",
    "# Create a 4x4 symbolic matrix (filling from g0 to g10)\n",
    "G = sp.Matrix([\n",
    "    [g[0], g[1], g[2], g[3]],\n",
    "    [g[1], g[4], g[5], g[6]],\n",
    "    [g[2], g[5], g[7], g[8]],\n",
    "    [g[3], g[6], g[8], g[9]]\n",
    "])\n",
    "\n",
    "E = sp.Matrix([\n",
    "    [e_[0],  0   ,  0   ,  0   ],\n",
    "    [e_[1], e_[4],  0   ,  0   ],\n",
    "    [e_[2], e_[5], e_[7],  0   ],\n",
    "    [e_[3], e_[6], e_[8], e_[9]]\n",
    "])"
   ]
  },
  {
   "cell_type": "code",
   "execution_count": 3,
   "id": "e3cc9401-fae5-46ae-afdc-36a4d69ba869",
   "metadata": {},
   "outputs": [
    {
     "data": {
      "text/latex": [
       "$\\displaystyle \\left[\\begin{matrix}e_{1} & 0 & 0 & 0\\\\e_{2} & e_{5} & 0 & 0\\\\e_{3} & e_{6} & e_{8} & 0\\\\e_{4} & e_{7} & e_{9} & e_{10}\\end{matrix}\\right]$"
      ],
      "text/plain": [
       "Matrix([\n",
       "[e1,  0,  0,   0],\n",
       "[e2, e5,  0,   0],\n",
       "[e3, e6, e8,   0],\n",
       "[e4, e7, e9, e10]])"
      ]
     },
     "execution_count": 3,
     "metadata": {},
     "output_type": "execute_result"
    }
   ],
   "source": [
    "E"
   ]
  },
  {
   "cell_type": "code",
   "execution_count": 4,
   "id": "8cf5fc84-17d1-492c-9e04-039a41fcf7a8",
   "metadata": {},
   "outputs": [
    {
     "data": {
      "text/latex": [
       "$\\displaystyle \\left[\\begin{matrix}g_{1} & g_{2} & g_{3} & g_{4}\\\\g_{2} & g_{5} & g_{6} & g_{7}\\\\g_{3} & g_{6} & g_{8} & g_{9}\\\\g_{4} & g_{7} & g_{9} & g_{10}\\end{matrix}\\right]$"
      ],
      "text/plain": [
       "Matrix([\n",
       "[g1, g2, g3,  g4],\n",
       "[g2, g5, g6,  g7],\n",
       "[g3, g6, g8,  g9],\n",
       "[g4, g7, g9, g10]])"
      ]
     },
     "execution_count": 4,
     "metadata": {},
     "output_type": "execute_result"
    }
   ],
   "source": [
    "G"
   ]
  },
  {
   "cell_type": "code",
   "execution_count": 5,
   "id": "c448f545-72e3-49bd-8edb-20c18c74733f",
   "metadata": {},
   "outputs": [],
   "source": [
    "# Define the scalars A, B, C, and D\n",
    "# Define the scalars with adjusted indices\n",
    "A = g[9]\n",
    "\n",
    "B = -g[8]**2 + g[7] * g[9]\n",
    "\n",
    "C = (-g[4] * g[8]**2 - g[7] * g[6]**2 - g[9] * g[5]**2\n",
    "     + 2 * g[5] * g[6] * g[8] + g[4] * g[7] * g[9])\n",
    "\n",
    "\n",
    "D = (g[1]**2 * g[8]**2 + g[2]**2 * g[6]**2 + g[3]**2 * g[5]**2\n",
    "     - g[7] * g[9] * g[1]**2 - g[4] * g[9] * g[2]**2 - g[4] * g[7] * g[3]**2\n",
    "     - g[0] * g[9] * g[5]**2 - g[0] * g[7] * g[6]**2 - g[0] * g[4] * g[8]**2\n",
    "     + 2 * g[9] * g[1] * g[2] * g[5] + 2 * g[7] * g[1] * g[3] * g[6]\n",
    "     + 2 * g[4] * g[2] * g[3] * g[8] + 2 * g[0] * g[5] * g[6] * g[8] \n",
    "     - 2 * g[1] * g[2] * g[6] * g[8] - 2 * g[1] * g[3] * g[5] * g[8]\n",
    "     - 2 * g[2] * g[3] * g[5] * g[6] + g[0] * g[4] * g[7] * g[9])\n",
    "\n",
    "\n",
    "#note : (A,B,C,D) = (-,+,+,+)"
   ]
  },
  {
   "cell_type": "code",
   "execution_count": 6,
   "id": "f2276587-c76b-43b2-ad4f-91a36d677c51",
   "metadata": {},
   "outputs": [
    {
     "data": {
      "text/latex": [
       "$\\displaystyle g_{10}$"
      ],
      "text/plain": [
       "g10"
      ]
     },
     "metadata": {},
     "output_type": "display_data"
    },
    {
     "data": {
      "text/latex": [
       "$\\displaystyle g_{10} g_{8} - g_{9}^{2}$"
      ],
      "text/plain": [
       "g10*g8 - g9**2"
      ]
     },
     "metadata": {},
     "output_type": "display_data"
    },
    {
     "data": {
      "text/latex": [
       "$\\displaystyle g_{10} g_{5} g_{8} - g_{10} g_{6}^{2} - g_{5} g_{9}^{2} + 2 g_{6} g_{7} g_{9} - g_{7}^{2} g_{8}$"
      ],
      "text/plain": [
       "g10*g5*g8 - g10*g6**2 - g5*g9**2 + 2*g6*g7*g9 - g7**2*g8"
      ]
     },
     "metadata": {},
     "output_type": "display_data"
    },
    {
     "data": {
      "text/latex": [
       "$\\displaystyle g_{1} g_{10} g_{5} g_{8} - g_{1} g_{10} g_{6}^{2} - g_{1} g_{5} g_{9}^{2} + 2 g_{1} g_{6} g_{7} g_{9} - g_{1} g_{7}^{2} g_{8} - g_{10} g_{2}^{2} g_{8} + 2 g_{10} g_{2} g_{3} g_{6} - g_{10} g_{3}^{2} g_{5} + g_{2}^{2} g_{9}^{2} - 2 g_{2} g_{3} g_{7} g_{9} - 2 g_{2} g_{4} g_{6} g_{9} + 2 g_{2} g_{4} g_{7} g_{8} + g_{3}^{2} g_{7}^{2} + 2 g_{3} g_{4} g_{5} g_{9} - 2 g_{3} g_{4} g_{6} g_{7} - g_{4}^{2} g_{5} g_{8} + g_{4}^{2} g_{6}^{2}$"
      ],
      "text/plain": [
       "g1*g10*g5*g8 - g1*g10*g6**2 - g1*g5*g9**2 + 2*g1*g6*g7*g9 - g1*g7**2*g8 - g10*g2**2*g8 + 2*g10*g2*g3*g6 - g10*g3**2*g5 + g2**2*g9**2 - 2*g2*g3*g7*g9 - 2*g2*g4*g6*g9 + 2*g2*g4*g7*g8 + g3**2*g7**2 + 2*g3*g4*g5*g9 - 2*g3*g4*g6*g7 - g4**2*g5*g8 + g4**2*g6**2"
      ]
     },
     "metadata": {},
     "output_type": "display_data"
    }
   ],
   "source": [
    "display(A)\n",
    "display(B)\n",
    "display(C)\n",
    "display(D)"
   ]
  },
  {
   "cell_type": "code",
   "execution_count": 7,
   "id": "66bb7004-a161-4fbf-a5fb-d13434c7f632",
   "metadata": {},
   "outputs": [],
   "source": [
    "E_0 =(1 / sp.sqrt(-C * D)) * sp.Matrix([\n",
    "    C,   #here, first error of the paper, it's a +C not -C             \n",
    "     \n",
    "     g[1] * g[8]**2 + g[2] * g[5] * g[9] + g[3] * g[6] * g[7] - g[1] * g[7] * g[9] - g[2] * g[6] * g[8] - g[3] * g[5] * g[8],\n",
    "\n",
    "    g[2] * g[6]**2 + g[1] * g[5] * g[9] + g[3] * g[4] * g[8] - g[1] * g[6] * g[8] - g[2] * g[4] * g[9] - g[3] * g[5] * g[6],\n",
    "\n",
    "    g[3] * g[5]**2 + g[1] * g[6] * g[7] + g[2] * g[4] * g[8] - g[1] * g[5] * g[8] - g[2] * g[5] * g[6] - g[3] * g[4] * g[7]\n",
    "\n",
    "])\n",
    "\n",
    "\n",
    "\n",
    "E_1=(1 / sp.sqrt(B*C)) * sp.Matrix([\n",
    "    0,                \n",
    "     \n",
    "    B,\n",
    "\n",
    "    #g[5] * g[9] - g[6] * g[8], second error in the paper\n",
    "    -g[5] * g[9] + g[6] * g[8],\n",
    "\n",
    "    g[5] * g[8] - g[6] * g[7]\n",
    "\n",
    "])\n",
    "\n",
    "E_2=(1 / sp.sqrt(A*B)) * sp.Matrix([\n",
    "    0,                \n",
    "     \n",
    "    0,\n",
    "\n",
    "    A,\n",
    "\n",
    "    -g[8] \n",
    "\n",
    "])\n",
    "\n",
    "E_3=(1 / sp.sqrt(A)) * sp.Matrix([\n",
    "    0,                \n",
    "     \n",
    "    0,\n",
    "\n",
    "    0,\n",
    "\n",
    "    1\n",
    "\n",
    "])\n",
    "\n",
    "E_solution=matrix = sp.Matrix.hstack(E_0, E_1, E_2, E_3)"
   ]
  },
  {
   "cell_type": "code",
   "execution_count": 8,
   "id": "5e331f64-99bd-4387-9a75-17e725203e7c",
   "metadata": {},
   "outputs": [
    {
     "data": {
      "text/latex": [
       "$\\displaystyle \\left[\\begin{matrix}-1 & 0 & 0 & 0\\\\0 & 1 & 0 & 0\\\\0 & 0 & 1 & 0\\\\0 & 0 & 0 & 1\\end{matrix}\\right]$"
      ],
      "text/plain": [
       "Matrix([\n",
       "[-1, 0, 0, 0],\n",
       "[ 0, 1, 0, 0],\n",
       "[ 0, 0, 1, 0],\n",
       "[ 0, 0, 0, 1]])"
      ]
     },
     "metadata": {},
     "output_type": "display_data"
    }
   ],
   "source": [
    "N=E_solution.T*G*E_solution\n",
    "display(sp.simplify(N))\n",
    "#we indeed retrieve the minkowskian metric"
   ]
  },
  {
   "cell_type": "code",
   "execution_count": 10,
   "id": "d87c3a55-17b2-4aa3-8568-ce68258a4cc8",
   "metadata": {},
   "outputs": [],
   "source": [
    "#test their IMPLEMENTED solution# Define the factors (analogous to the MATLAB code)\n",
    "factor0 = G[3, 3]\n",
    "factor1 = (- G[2, 3]**2 + G[2, 2] * factor0)\n",
    "factor2 = (2 * G[1, 2] * G[1, 3] * G[2, 3] - G[3, 3] * G[1, 2]**2 - G[2, 2] * G[1, 3]**2 + G[1, 1] * factor1)\n",
    "factor3 = (- 2 * G[3, 3] * G[0, 1] * G[0, 2] * G[1, 2] \n",
    "           + 2 * G[0, 2] * G[0, 3] * G[1, 2] * G[1, 3] \n",
    "           + 2 * G[0, 1] * G[0, 2] * G[1, 3] * G[2, 3] \n",
    "           + 2 * G[0, 1] * G[0, 3] * G[1, 2] * G[2, 3] \n",
    "           - G[0, 1]**2 * G[2, 3]**2 \n",
    "           - G[0, 2]**2 * G[1, 3]**2 \n",
    "           - G[0, 3]**2 * G[1, 2]**2 \n",
    "           + G[2, 2] * (- 2 * G[0, 1] * G[0, 3] * G[1, 3] + G[3, 3] * G[0, 1]**2)\n",
    "           + G[1, 1] * (- 2 * G[0, 2] * G[0, 3] * G[2, 3] + G[3, 3] * G[0, 2]**2 + G[2, 2] * G[0, 3]**2)\n",
    "           - G[0, 0] * factor2)\n",
    "\n",
    "# Now, we will define the matrix M step by step\n",
    "\n",
    "# Initialize an empty 4x4 matrix M\n",
    "M = sp.Matrix.zeros(4, 4)\n",
    "\n",
    "# Define the elements of matrix M\n",
    "M[0, 0] = sp.sqrt(factor2 / factor3)\n",
    "M[1, 0] = (G[0, 1] * G[2, 3]**2 + G[0, 2] * G[1, 2] * G[3, 3] \n",
    "           - G[0, 2] * G[1, 3] * G[2, 3] - G[0, 3] * G[1, 2] * G[2, 3] \n",
    "           + G[0, 3] * G[1, 3] * G[2, 2] - G[0, 1] * G[2, 2] * G[3, 3]) / sp.sqrt(factor2 * factor3)\n",
    "\n",
    "\n",
    "\n",
    "\n",
    "\n",
    "M[2, 0] = (G[0, 2] * G[1, 3]**2 - G[0, 3] * G[1, 2] * G[1, 3] \n",
    "           + G[0, 1] * G[1, 2] * G[3, 3] - G[0, 1] * G[1, 3] * G[2, 3] \n",
    "           - G[0, 2] * G[1, 1] * G[3, 3] + G[0, 3] * G[1, 1] * G[2, 3]) / sp.sqrt(factor2 * factor3)\n",
    "M[3, 0] = (G[0, 3] * G[1, 2]**2 - G[0, 2] * G[1, 2] * G[1, 3] \n",
    "           - G[0, 1] * G[1, 2] * G[2, 3] + G[0, 1] * G[1, 3] * G[2, 2] \n",
    "           + G[0, 2] * G[1, 1] * G[2, 3] - G[0, 3] * G[1, 1] * G[2, 2]) / sp.sqrt(factor2 * factor3)\n",
    "\n",
    "\n",
    "\n",
    "\n",
    "\n",
    "\n",
    "\n",
    "\n",
    "M[1, 1] = sp.sqrt(factor1 / factor2)\n",
    "M[2, 1] = (G[1, 3] * G[2, 3] - G[1, 2] * G[3, 3]) / sp.sqrt(factor1 * factor2)\n",
    "M[3, 1] = (G[1, 2] * G[2, 3] - G[1, 3] * G[2, 2]) / sp.sqrt(factor1 * factor2)\n",
    "\n",
    "M[2, 2] = sp.sqrt(factor0 / factor1)\n",
    "M[3, 2] = -G[2, 3] / sp.sqrt(factor0 * factor1)\n",
    "\n",
    "M[3, 3] = sp.sqrt(1 / factor0)"
   ]
  },
  {
   "cell_type": "code",
   "execution_count": 11,
   "id": "e6488c8a-6eb4-4de5-adfb-81853105e457",
   "metadata": {},
   "outputs": [
    {
     "data": {
      "text/latex": [
       "$\\displaystyle \\left[\\begin{matrix}\\sqrt{\\frac{- g_{10} g_{6}^{2} + g_{5} \\left(g_{10} g_{8} - g_{9}^{2}\\right) + 2 g_{6} g_{7} g_{9} - g_{7}^{2} g_{8}}{- g_{1} \\left(- g_{10} g_{6}^{2} + g_{5} \\left(g_{10} g_{8} - g_{9}^{2}\\right) + 2 g_{6} g_{7} g_{9} - g_{7}^{2} g_{8}\\right) - 2 g_{10} g_{2} g_{3} g_{6} - g_{2}^{2} g_{9}^{2} + 2 g_{2} g_{3} g_{7} g_{9} + 2 g_{2} g_{4} g_{6} g_{9} - g_{3}^{2} g_{7}^{2} + 2 g_{3} g_{4} g_{6} g_{7} - g_{4}^{2} g_{6}^{2} + g_{5} \\left(g_{10} g_{3}^{2} - 2 g_{3} g_{4} g_{9} + g_{4}^{2} g_{8}\\right) + g_{8} \\left(g_{10} g_{2}^{2} - 2 g_{2} g_{4} g_{7}\\right)}} & 0 & 0 & 0\\\\\\frac{- g_{10} g_{2} g_{8} + g_{10} g_{3} g_{6} + g_{2} g_{9}^{2} - g_{3} g_{7} g_{9} - g_{4} g_{6} g_{9} + g_{4} g_{7} g_{8}}{\\sqrt{\\left(- g_{10} g_{6}^{2} + g_{5} \\left(g_{10} g_{8} - g_{9}^{2}\\right) + 2 g_{6} g_{7} g_{9} - g_{7}^{2} g_{8}\\right) \\left(- g_{1} \\left(- g_{10} g_{6}^{2} + g_{5} \\left(g_{10} g_{8} - g_{9}^{2}\\right) + 2 g_{6} g_{7} g_{9} - g_{7}^{2} g_{8}\\right) - 2 g_{10} g_{2} g_{3} g_{6} - g_{2}^{2} g_{9}^{2} + 2 g_{2} g_{3} g_{7} g_{9} + 2 g_{2} g_{4} g_{6} g_{9} - g_{3}^{2} g_{7}^{2} + 2 g_{3} g_{4} g_{6} g_{7} - g_{4}^{2} g_{6}^{2} + g_{5} \\left(g_{10} g_{3}^{2} - 2 g_{3} g_{4} g_{9} + g_{4}^{2} g_{8}\\right) + g_{8} \\left(g_{10} g_{2}^{2} - 2 g_{2} g_{4} g_{7}\\right)\\right)}} & \\sqrt{\\frac{g_{10} g_{8} - g_{9}^{2}}{- g_{10} g_{6}^{2} + g_{5} \\left(g_{10} g_{8} - g_{9}^{2}\\right) + 2 g_{6} g_{7} g_{9} - g_{7}^{2} g_{8}}} & 0 & 0\\\\\\frac{g_{10} g_{2} g_{6} - g_{10} g_{3} g_{5} - g_{2} g_{7} g_{9} + g_{3} g_{7}^{2} + g_{4} g_{5} g_{9} - g_{4} g_{6} g_{7}}{\\sqrt{\\left(- g_{10} g_{6}^{2} + g_{5} \\left(g_{10} g_{8} - g_{9}^{2}\\right) + 2 g_{6} g_{7} g_{9} - g_{7}^{2} g_{8}\\right) \\left(- g_{1} \\left(- g_{10} g_{6}^{2} + g_{5} \\left(g_{10} g_{8} - g_{9}^{2}\\right) + 2 g_{6} g_{7} g_{9} - g_{7}^{2} g_{8}\\right) - 2 g_{10} g_{2} g_{3} g_{6} - g_{2}^{2} g_{9}^{2} + 2 g_{2} g_{3} g_{7} g_{9} + 2 g_{2} g_{4} g_{6} g_{9} - g_{3}^{2} g_{7}^{2} + 2 g_{3} g_{4} g_{6} g_{7} - g_{4}^{2} g_{6}^{2} + g_{5} \\left(g_{10} g_{3}^{2} - 2 g_{3} g_{4} g_{9} + g_{4}^{2} g_{8}\\right) + g_{8} \\left(g_{10} g_{2}^{2} - 2 g_{2} g_{4} g_{7}\\right)\\right)}} & \\frac{- g_{10} g_{6} + g_{7} g_{9}}{\\sqrt{\\left(g_{10} g_{8} - g_{9}^{2}\\right) \\left(- g_{10} g_{6}^{2} + g_{5} \\left(g_{10} g_{8} - g_{9}^{2}\\right) + 2 g_{6} g_{7} g_{9} - g_{7}^{2} g_{8}\\right)}} & \\sqrt{\\frac{g_{10}}{g_{10} g_{8} - g_{9}^{2}}} & 0\\\\\\frac{- g_{2} g_{6} g_{9} + g_{2} g_{7} g_{8} + g_{3} g_{5} g_{9} - g_{3} g_{6} g_{7} - g_{4} g_{5} g_{8} + g_{4} g_{6}^{2}}{\\sqrt{\\left(- g_{10} g_{6}^{2} + g_{5} \\left(g_{10} g_{8} - g_{9}^{2}\\right) + 2 g_{6} g_{7} g_{9} - g_{7}^{2} g_{8}\\right) \\left(- g_{1} \\left(- g_{10} g_{6}^{2} + g_{5} \\left(g_{10} g_{8} - g_{9}^{2}\\right) + 2 g_{6} g_{7} g_{9} - g_{7}^{2} g_{8}\\right) - 2 g_{10} g_{2} g_{3} g_{6} - g_{2}^{2} g_{9}^{2} + 2 g_{2} g_{3} g_{7} g_{9} + 2 g_{2} g_{4} g_{6} g_{9} - g_{3}^{2} g_{7}^{2} + 2 g_{3} g_{4} g_{6} g_{7} - g_{4}^{2} g_{6}^{2} + g_{5} \\left(g_{10} g_{3}^{2} - 2 g_{3} g_{4} g_{9} + g_{4}^{2} g_{8}\\right) + g_{8} \\left(g_{10} g_{2}^{2} - 2 g_{2} g_{4} g_{7}\\right)\\right)}} & \\frac{g_{6} g_{9} - g_{7} g_{8}}{\\sqrt{\\left(g_{10} g_{8} - g_{9}^{2}\\right) \\left(- g_{10} g_{6}^{2} + g_{5} \\left(g_{10} g_{8} - g_{9}^{2}\\right) + 2 g_{6} g_{7} g_{9} - g_{7}^{2} g_{8}\\right)}} & - \\frac{g_{9}}{\\sqrt{g_{10} \\left(g_{10} g_{8} - g_{9}^{2}\\right)}} & \\sqrt{\\frac{1}{g_{10}}}\\end{matrix}\\right]$"
      ],
      "text/plain": [
       "Matrix([\n",
       "[                                                                     sqrt((-g10*g6**2 + g5*(g10*g8 - g9**2) + 2*g6*g7*g9 - g7**2*g8)/(-g1*(-g10*g6**2 + g5*(g10*g8 - g9**2) + 2*g6*g7*g9 - g7**2*g8) - 2*g10*g2*g3*g6 - g2**2*g9**2 + 2*g2*g3*g7*g9 + 2*g2*g4*g6*g9 - g3**2*g7**2 + 2*g3*g4*g6*g7 - g4**2*g6**2 + g5*(g10*g3**2 - 2*g3*g4*g9 + g4**2*g8) + g8*(g10*g2**2 - 2*g2*g4*g7))),                                                                                                   0,                              0,           0],\n",
       "[(-g10*g2*g8 + g10*g3*g6 + g2*g9**2 - g3*g7*g9 - g4*g6*g9 + g4*g7*g8)/sqrt((-g10*g6**2 + g5*(g10*g8 - g9**2) + 2*g6*g7*g9 - g7**2*g8)*(-g1*(-g10*g6**2 + g5*(g10*g8 - g9**2) + 2*g6*g7*g9 - g7**2*g8) - 2*g10*g2*g3*g6 - g2**2*g9**2 + 2*g2*g3*g7*g9 + 2*g2*g4*g6*g9 - g3**2*g7**2 + 2*g3*g4*g6*g7 - g4**2*g6**2 + g5*(g10*g3**2 - 2*g3*g4*g9 + g4**2*g8) + g8*(g10*g2**2 - 2*g2*g4*g7))),                   sqrt((g10*g8 - g9**2)/(-g10*g6**2 + g5*(g10*g8 - g9**2) + 2*g6*g7*g9 - g7**2*g8)),                              0,           0],\n",
       "[ (g10*g2*g6 - g10*g3*g5 - g2*g7*g9 + g3*g7**2 + g4*g5*g9 - g4*g6*g7)/sqrt((-g10*g6**2 + g5*(g10*g8 - g9**2) + 2*g6*g7*g9 - g7**2*g8)*(-g1*(-g10*g6**2 + g5*(g10*g8 - g9**2) + 2*g6*g7*g9 - g7**2*g8) - 2*g10*g2*g3*g6 - g2**2*g9**2 + 2*g2*g3*g7*g9 + 2*g2*g4*g6*g9 - g3**2*g7**2 + 2*g3*g4*g6*g7 - g4**2*g6**2 + g5*(g10*g3**2 - 2*g3*g4*g9 + g4**2*g8) + g8*(g10*g2**2 - 2*g2*g4*g7))), (-g10*g6 + g7*g9)/sqrt((g10*g8 - g9**2)*(-g10*g6**2 + g5*(g10*g8 - g9**2) + 2*g6*g7*g9 - g7**2*g8)),     sqrt(g10/(g10*g8 - g9**2)),           0],\n",
       "[  (-g2*g6*g9 + g2*g7*g8 + g3*g5*g9 - g3*g6*g7 - g4*g5*g8 + g4*g6**2)/sqrt((-g10*g6**2 + g5*(g10*g8 - g9**2) + 2*g6*g7*g9 - g7**2*g8)*(-g1*(-g10*g6**2 + g5*(g10*g8 - g9**2) + 2*g6*g7*g9 - g7**2*g8) - 2*g10*g2*g3*g6 - g2**2*g9**2 + 2*g2*g3*g7*g9 + 2*g2*g4*g6*g9 - g3**2*g7**2 + 2*g3*g4*g6*g7 - g4**2*g6**2 + g5*(g10*g3**2 - 2*g3*g4*g9 + g4**2*g8) + g8*(g10*g2**2 - 2*g2*g4*g7))),   (g6*g9 - g7*g8)/sqrt((g10*g8 - g9**2)*(-g10*g6**2 + g5*(g10*g8 - g9**2) + 2*g6*g7*g9 - g7**2*g8)), -g9/sqrt(g10*(g10*g8 - g9**2)), sqrt(1/g10)]])"
      ]
     },
     "execution_count": 11,
     "metadata": {},
     "output_type": "execute_result"
    }
   ],
   "source": [
    "M"
   ]
  },
  {
   "cell_type": "code",
   "execution_count": null,
   "id": "9c1bca45-fcd3-4404-ae15-de0ce4b81d39",
   "metadata": {},
   "outputs": [],
   "source": [
    "N=M.T*G*M\n",
    "display(sp.simplify(N))"
   ]
  },
  {
   "cell_type": "code",
   "execution_count": null,
   "id": "b7bdc74c-f1ba-428b-a271-3652364b883d",
   "metadata": {},
   "outputs": [],
   "source": []
  },
  {
   "cell_type": "code",
   "execution_count": null,
   "id": "f124217c-2f94-42ff-b1c5-f09ef4fe5885",
   "metadata": {},
   "outputs": [],
   "source": []
  },
  {
   "cell_type": "code",
   "execution_count": null,
   "id": "866bb281-e041-4a1e-9e4d-efc036646532",
   "metadata": {},
   "outputs": [],
   "source": []
  },
  {
   "cell_type": "code",
   "execution_count": null,
   "id": "54e26d13-2206-4453-b802-5f8653d16d30",
   "metadata": {},
   "outputs": [],
   "source": []
  },
  {
   "cell_type": "markdown",
   "id": "74e0a1bc-e1dd-4630-bfee-1981c95e59a7",
   "metadata": {
    "jp-MarkdownHeadingCollapsed": true
   },
   "source": [
    "## Check the time hypersurface orthogonality"
   ]
  },
  {
   "cell_type": "markdown",
   "id": "d7cc8b1f-76b4-4fa6-82bf-e2302b300dc1",
   "metadata": {},
   "source": [
    "Here we build the metric of the 3+1 formalism. compare $e_{\\mu}^0$ and the orthogonal vector of the 3+1 formalism and see if there are the same. It turns out there are the same but sympy don't recognise that there is a simplification possibility so extra step are required to prove that both vector are equal. "
   ]
  },
  {
   "cell_type": "code",
   "execution_count": 13,
   "id": "963271b3-1198-41a6-89f8-2d948d16dd3e",
   "metadata": {},
   "outputs": [],
   "source": [
    "# Define the new variables\n",
    "alpha, beta1, beta2, beta3 = sp.symbols('alpha beta1 beta2 beta3')\n",
    "gamma11, gamma12, gamma13 = sp.symbols('gamma11 gamma12 gamma13')\n",
    "gamma22, gamma23 = sp.symbols('gamma22 gamma23')\n",
    "gamma33 = sp.symbols('gamma33')\n",
    "\n",
    "Gamma=sp.Matrix([\n",
    "    [gamma11, gamma12, gamma13],\n",
    "    [gamma12, gamma22, gamma23],\n",
    "    [gamma13, gamma23, gamma33]\n",
    "])\n",
    "\n",
    "beta_vector = sp.Matrix([beta1, beta2, beta3])\n",
    "\n",
    "\n",
    "# Compute the covariant components beta_i\n",
    "beta_covariant = sp.simplify(Gamma.inv()) * beta_vector\n",
    "\n",
    "# Compute beta^i * beta_i\n",
    "beta_dot_beta = sp.simplify(beta_vector.dot(beta_covariant))"
   ]
  },
  {
   "cell_type": "code",
   "execution_count": 14,
   "id": "991df611-f311-4584-a8e9-6130c7ef6c51",
   "metadata": {},
   "outputs": [
    {
     "data": {
      "text/latex": [
       "$\\displaystyle \\left[\\begin{matrix}- \\alpha^{2} + \\frac{- \\beta_{1} \\left(\\beta_{1} \\left(\\gamma_{22} \\gamma_{33} - \\gamma_{23}^{2}\\right) - \\beta_{2} \\left(\\gamma_{12} \\gamma_{33} - \\gamma_{13} \\gamma_{23}\\right) + \\beta_{3} \\left(\\gamma_{12} \\gamma_{23} - \\gamma_{13} \\gamma_{22}\\right)\\right) + \\beta_{2} \\left(\\beta_{1} \\left(\\gamma_{12} \\gamma_{33} - \\gamma_{13} \\gamma_{23}\\right) - \\beta_{2} \\left(\\gamma_{11} \\gamma_{33} - \\gamma_{13}^{2}\\right) + \\beta_{3} \\left(\\gamma_{11} \\gamma_{23} - \\gamma_{12} \\gamma_{13}\\right)\\right) - \\beta_{3} \\left(\\beta_{1} \\left(\\gamma_{12} \\gamma_{23} - \\gamma_{13} \\gamma_{22}\\right) - \\beta_{2} \\left(\\gamma_{11} \\gamma_{23} - \\gamma_{12} \\gamma_{13}\\right) + \\beta_{3} \\left(\\gamma_{11} \\gamma_{22} - \\gamma_{12}^{2}\\right)\\right)}{- \\gamma_{11} \\gamma_{22} \\gamma_{33} + \\gamma_{11} \\gamma_{23}^{2} + \\gamma_{12}^{2} \\gamma_{33} - 2 \\gamma_{12} \\gamma_{13} \\gamma_{23} + \\gamma_{13}^{2} \\gamma_{22}} & \\beta_{1} & \\beta_{2} & \\beta_{3}\\\\\\beta_{1} & \\gamma_{11} & \\gamma_{12} & \\gamma_{13}\\\\\\beta_{2} & \\gamma_{12} & \\gamma_{22} & \\gamma_{23}\\\\\\beta_{3} & \\gamma_{13} & \\gamma_{23} & \\gamma_{33}\\end{matrix}\\right]$"
      ],
      "text/plain": [
       "Matrix([\n",
       "[-alpha**2 + (-beta1*(beta1*(gamma22*gamma33 - gamma23**2) - beta2*(gamma12*gamma33 - gamma13*gamma23) + beta3*(gamma12*gamma23 - gamma13*gamma22)) + beta2*(beta1*(gamma12*gamma33 - gamma13*gamma23) - beta2*(gamma11*gamma33 - gamma13**2) + beta3*(gamma11*gamma23 - gamma12*gamma13)) - beta3*(beta1*(gamma12*gamma23 - gamma13*gamma22) - beta2*(gamma11*gamma23 - gamma12*gamma13) + beta3*(gamma11*gamma22 - gamma12**2)))/(-gamma11*gamma22*gamma33 + gamma11*gamma23**2 + gamma12**2*gamma33 - 2*gamma12*gamma13*gamma23 + gamma13**2*gamma22),   beta1,   beta2,   beta3],\n",
       "[                                                                                                                                                                                                                                                                                                                                                                                                                                                                                                                                                  beta1, gamma11, gamma12, gamma13],\n",
       "[                                                                                                                                                                                                                                                                                                                                                                                                                                                                                                                                                  beta2, gamma12, gamma22, gamma23],\n",
       "[                                                                                                                                                                                                                                                                                                                                                                                                                                                                                                                                                  beta3, gamma13, gamma23, gamma33]])"
      ]
     },
     "metadata": {},
     "output_type": "display_data"
    }
   ],
   "source": [
    "# Define substitutions for the new variables\n",
    "substitutions = {\n",
    "    g[0]: -alpha**2 + beta_dot_beta,\n",
    "    g[1]: beta1,\n",
    "    g[2]: beta2,\n",
    "    g[3]: beta3,\n",
    "    g[4]: gamma11,\n",
    "    g[5]: gamma12,\n",
    "    g[6]: gamma13,\n",
    "    g[7]: gamma22,\n",
    "    g[8]: gamma23,\n",
    "    g[9]: gamma33   \n",
    "}\n",
    "\n",
    "# Update the original matrix G\n",
    "G_new = G.subs(substitutions)\n",
    "\n",
    "# Display the updated matrix\n",
    "display(G_new)"
   ]
  },
  {
   "cell_type": "code",
   "execution_count": 15,
   "id": "f879d70c-7957-4832-b0a6-3293ad983242",
   "metadata": {},
   "outputs": [
    {
     "data": {
      "text/latex": [
       "$\\displaystyle \\left[\\begin{matrix}\\frac{1}{\\alpha}\\\\\\frac{\\beta_{1} \\gamma_{22} \\gamma_{33} - \\beta_{1} \\gamma_{23}^{2} - \\beta_{2} \\gamma_{12} \\gamma_{33} + \\beta_{2} \\gamma_{13} \\gamma_{23} + \\beta_{3} \\gamma_{12} \\gamma_{23} - \\beta_{3} \\gamma_{13} \\gamma_{22}}{\\alpha \\left(- \\gamma_{11} \\gamma_{22} \\gamma_{33} + \\gamma_{11} \\gamma_{23}^{2} + \\gamma_{12}^{2} \\gamma_{33} - 2 \\gamma_{12} \\gamma_{13} \\gamma_{23} + \\gamma_{13}^{2} \\gamma_{22}\\right)}\\\\\\frac{- \\beta_{1} \\gamma_{12} \\gamma_{33} + \\beta_{1} \\gamma_{13} \\gamma_{23} + \\beta_{2} \\gamma_{11} \\gamma_{33} - \\beta_{2} \\gamma_{13}^{2} - \\beta_{3} \\gamma_{11} \\gamma_{23} + \\beta_{3} \\gamma_{12} \\gamma_{13}}{\\alpha \\left(- \\gamma_{11} \\gamma_{22} \\gamma_{33} + \\gamma_{11} \\gamma_{23}^{2} + \\gamma_{12}^{2} \\gamma_{33} - 2 \\gamma_{12} \\gamma_{13} \\gamma_{23} + \\gamma_{13}^{2} \\gamma_{22}\\right)}\\\\\\frac{\\beta_{1} \\gamma_{12} \\gamma_{23} - \\beta_{1} \\gamma_{13} \\gamma_{22} - \\beta_{2} \\gamma_{11} \\gamma_{23} + \\beta_{2} \\gamma_{12} \\gamma_{13} + \\beta_{3} \\gamma_{11} \\gamma_{22} - \\beta_{3} \\gamma_{12}^{2}}{\\alpha \\left(- \\gamma_{11} \\gamma_{22} \\gamma_{33} + \\gamma_{11} \\gamma_{23}^{2} + \\gamma_{12}^{2} \\gamma_{33} - 2 \\gamma_{12} \\gamma_{13} \\gamma_{23} + \\gamma_{13}^{2} \\gamma_{22}\\right)}\\end{matrix}\\right]$"
      ],
      "text/plain": [
       "Matrix([\n",
       "[                                                                                                                                                                                                                                                                  1/alpha],\n",
       "[ (beta1*gamma22*gamma33 - beta1*gamma23**2 - beta2*gamma12*gamma33 + beta2*gamma13*gamma23 + beta3*gamma12*gamma23 - beta3*gamma13*gamma22)/(alpha*(-gamma11*gamma22*gamma33 + gamma11*gamma23**2 + gamma12**2*gamma33 - 2*gamma12*gamma13*gamma23 + gamma13**2*gamma22))],\n",
       "[(-beta1*gamma12*gamma33 + beta1*gamma13*gamma23 + beta2*gamma11*gamma33 - beta2*gamma13**2 - beta3*gamma11*gamma23 + beta3*gamma12*gamma13)/(alpha*(-gamma11*gamma22*gamma33 + gamma11*gamma23**2 + gamma12**2*gamma33 - 2*gamma12*gamma13*gamma23 + gamma13**2*gamma22))],\n",
       "[ (beta1*gamma12*gamma23 - beta1*gamma13*gamma22 - beta2*gamma11*gamma23 + beta2*gamma12*gamma13 + beta3*gamma11*gamma22 - beta3*gamma12**2)/(alpha*(-gamma11*gamma22*gamma33 + gamma11*gamma23**2 + gamma12**2*gamma33 - 2*gamma12*gamma13*gamma23 + gamma13**2*gamma22))]])"
      ]
     },
     "metadata": {},
     "output_type": "display_data"
    }
   ],
   "source": [
    "E_0_to_compare =1/alpha*sp.Matrix([\n",
    "    1,                \n",
    "     \n",
    "    -beta_covariant[0],\n",
    "\n",
    "    -beta_covariant[1],\n",
    "\n",
    "    -beta_covariant[2]\n",
    "\n",
    "])\n",
    "\n",
    "display(sp.simplify(E_0_to_compare.expand()))"
   ]
  },
  {
   "cell_type": "code",
   "execution_count": 16,
   "id": "2cc1e44d-07d4-42ff-8134-169664c224d0",
   "metadata": {},
   "outputs": [
    {
     "data": {
      "text/latex": [
       "$\\displaystyle \\left[\\begin{matrix}\\frac{- \\beta_{1} \\gamma_{22} \\gamma_{33} + \\beta_{1} \\gamma_{23}^{2} + \\beta_{2} \\gamma_{12} \\gamma_{33} - \\beta_{2} \\gamma_{13} \\gamma_{23} - \\beta_{3} \\gamma_{12} \\gamma_{23} + \\beta_{3} \\gamma_{13} \\gamma_{22}}{- \\gamma_{11} \\gamma_{22} \\gamma_{33} + \\gamma_{11} \\gamma_{23}^{2} + \\gamma_{12}^{2} \\gamma_{33} - 2 \\gamma_{12} \\gamma_{13} \\gamma_{23} + \\gamma_{13}^{2} \\gamma_{22}}\\\\\\frac{\\beta_{1} \\gamma_{12} \\gamma_{33} - \\beta_{1} \\gamma_{13} \\gamma_{23} - \\beta_{2} \\gamma_{11} \\gamma_{33} + \\beta_{2} \\gamma_{13}^{2} + \\beta_{3} \\gamma_{11} \\gamma_{23} - \\beta_{3} \\gamma_{12} \\gamma_{13}}{- \\gamma_{11} \\gamma_{22} \\gamma_{33} + \\gamma_{11} \\gamma_{23}^{2} + \\gamma_{12}^{2} \\gamma_{33} - 2 \\gamma_{12} \\gamma_{13} \\gamma_{23} + \\gamma_{13}^{2} \\gamma_{22}}\\\\\\frac{- \\beta_{1} \\gamma_{12} \\gamma_{23} + \\beta_{1} \\gamma_{13} \\gamma_{22} + \\beta_{2} \\gamma_{11} \\gamma_{23} - \\beta_{2} \\gamma_{12} \\gamma_{13} - \\beta_{3} \\gamma_{11} \\gamma_{22} + \\beta_{3} \\gamma_{12}^{2}}{- \\gamma_{11} \\gamma_{22} \\gamma_{33} + \\gamma_{11} \\gamma_{23}^{2} + \\gamma_{12}^{2} \\gamma_{33} - 2 \\gamma_{12} \\gamma_{13} \\gamma_{23} + \\gamma_{13}^{2} \\gamma_{22}}\\end{matrix}\\right]$"
      ],
      "text/plain": [
       "Matrix([\n",
       "[(-beta1*gamma22*gamma33 + beta1*gamma23**2 + beta2*gamma12*gamma33 - beta2*gamma13*gamma23 - beta3*gamma12*gamma23 + beta3*gamma13*gamma22)/(-gamma11*gamma22*gamma33 + gamma11*gamma23**2 + gamma12**2*gamma33 - 2*gamma12*gamma13*gamma23 + gamma13**2*gamma22)],\n",
       "[ (beta1*gamma12*gamma33 - beta1*gamma13*gamma23 - beta2*gamma11*gamma33 + beta2*gamma13**2 + beta3*gamma11*gamma23 - beta3*gamma12*gamma13)/(-gamma11*gamma22*gamma33 + gamma11*gamma23**2 + gamma12**2*gamma33 - 2*gamma12*gamma13*gamma23 + gamma13**2*gamma22)],\n",
       "[(-beta1*gamma12*gamma23 + beta1*gamma13*gamma22 + beta2*gamma11*gamma23 - beta2*gamma12*gamma13 - beta3*gamma11*gamma22 + beta3*gamma12**2)/(-gamma11*gamma22*gamma33 + gamma11*gamma23**2 + gamma12**2*gamma33 - 2*gamma12*gamma13*gamma23 + gamma13**2*gamma22)]])"
      ]
     },
     "metadata": {},
     "output_type": "display_data"
    }
   ],
   "source": [
    "display(sp.simplify(beta_covariant.expand()))"
   ]
  },
  {
   "cell_type": "code",
   "execution_count": 17,
   "id": "88a59875-375b-4ebd-af5d-9e835477e230",
   "metadata": {},
   "outputs": [
    {
     "data": {
      "text/latex": [
       "$\\displaystyle \\left[\\begin{matrix}\\frac{\\gamma_{11} \\gamma_{22} \\gamma_{33} - \\gamma_{11} \\gamma_{23}^{2} - \\gamma_{12}^{2} \\gamma_{33} + 2 \\gamma_{12} \\gamma_{13} \\gamma_{23} - \\gamma_{13}^{2} \\gamma_{22}}{\\sqrt{\\alpha^{2} \\left(\\gamma_{11}^{2} \\gamma_{22}^{2} \\gamma_{33}^{2} - 2 \\gamma_{11}^{2} \\gamma_{22} \\gamma_{23}^{2} \\gamma_{33} + \\gamma_{11}^{2} \\gamma_{23}^{4} - 2 \\gamma_{11} \\gamma_{12}^{2} \\gamma_{22} \\gamma_{33}^{2} + 2 \\gamma_{11} \\gamma_{12}^{2} \\gamma_{23}^{2} \\gamma_{33} + 4 \\gamma_{11} \\gamma_{12} \\gamma_{13} \\gamma_{22} \\gamma_{23} \\gamma_{33} - 4 \\gamma_{11} \\gamma_{12} \\gamma_{13} \\gamma_{23}^{3} - 2 \\gamma_{11} \\gamma_{13}^{2} \\gamma_{22}^{2} \\gamma_{33} + 2 \\gamma_{11} \\gamma_{13}^{2} \\gamma_{22} \\gamma_{23}^{2} + \\gamma_{12}^{4} \\gamma_{33}^{2} - 4 \\gamma_{12}^{3} \\gamma_{13} \\gamma_{23} \\gamma_{33} + 2 \\gamma_{12}^{2} \\gamma_{13}^{2} \\gamma_{22} \\gamma_{33} + 4 \\gamma_{12}^{2} \\gamma_{13}^{2} \\gamma_{23}^{2} - 4 \\gamma_{12} \\gamma_{13}^{3} \\gamma_{22} \\gamma_{23} + \\gamma_{13}^{4} \\gamma_{22}^{2}\\right)}}\\\\\\frac{- \\beta_{1} \\gamma_{22} \\gamma_{33} + \\beta_{1} \\gamma_{23}^{2} + \\beta_{2} \\gamma_{12} \\gamma_{33} - \\beta_{2} \\gamma_{13} \\gamma_{23} - \\beta_{3} \\gamma_{12} \\gamma_{23} + \\beta_{3} \\gamma_{13} \\gamma_{22}}{\\sqrt{\\alpha^{2} \\left(\\gamma_{11}^{2} \\gamma_{22}^{2} \\gamma_{33}^{2} - 2 \\gamma_{11}^{2} \\gamma_{22} \\gamma_{23}^{2} \\gamma_{33} + \\gamma_{11}^{2} \\gamma_{23}^{4} - 2 \\gamma_{11} \\gamma_{12}^{2} \\gamma_{22} \\gamma_{33}^{2} + 2 \\gamma_{11} \\gamma_{12}^{2} \\gamma_{23}^{2} \\gamma_{33} + 4 \\gamma_{11} \\gamma_{12} \\gamma_{13} \\gamma_{22} \\gamma_{23} \\gamma_{33} - 4 \\gamma_{11} \\gamma_{12} \\gamma_{13} \\gamma_{23}^{3} - 2 \\gamma_{11} \\gamma_{13}^{2} \\gamma_{22}^{2} \\gamma_{33} + 2 \\gamma_{11} \\gamma_{13}^{2} \\gamma_{22} \\gamma_{23}^{2} + \\gamma_{12}^{4} \\gamma_{33}^{2} - 4 \\gamma_{12}^{3} \\gamma_{13} \\gamma_{23} \\gamma_{33} + 2 \\gamma_{12}^{2} \\gamma_{13}^{2} \\gamma_{22} \\gamma_{33} + 4 \\gamma_{12}^{2} \\gamma_{13}^{2} \\gamma_{23}^{2} - 4 \\gamma_{12} \\gamma_{13}^{3} \\gamma_{22} \\gamma_{23} + \\gamma_{13}^{4} \\gamma_{22}^{2}\\right)}}\\\\\\frac{\\beta_{1} \\gamma_{12} \\gamma_{33} - \\beta_{1} \\gamma_{13} \\gamma_{23} - \\beta_{2} \\gamma_{11} \\gamma_{33} + \\beta_{2} \\gamma_{13}^{2} + \\beta_{3} \\gamma_{11} \\gamma_{23} - \\beta_{3} \\gamma_{12} \\gamma_{13}}{\\sqrt{\\alpha^{2} \\left(\\gamma_{11}^{2} \\gamma_{22}^{2} \\gamma_{33}^{2} - 2 \\gamma_{11}^{2} \\gamma_{22} \\gamma_{23}^{2} \\gamma_{33} + \\gamma_{11}^{2} \\gamma_{23}^{4} - 2 \\gamma_{11} \\gamma_{12}^{2} \\gamma_{22} \\gamma_{33}^{2} + 2 \\gamma_{11} \\gamma_{12}^{2} \\gamma_{23}^{2} \\gamma_{33} + 4 \\gamma_{11} \\gamma_{12} \\gamma_{13} \\gamma_{22} \\gamma_{23} \\gamma_{33} - 4 \\gamma_{11} \\gamma_{12} \\gamma_{13} \\gamma_{23}^{3} - 2 \\gamma_{11} \\gamma_{13}^{2} \\gamma_{22}^{2} \\gamma_{33} + 2 \\gamma_{11} \\gamma_{13}^{2} \\gamma_{22} \\gamma_{23}^{2} + \\gamma_{12}^{4} \\gamma_{33}^{2} - 4 \\gamma_{12}^{3} \\gamma_{13} \\gamma_{23} \\gamma_{33} + 2 \\gamma_{12}^{2} \\gamma_{13}^{2} \\gamma_{22} \\gamma_{33} + 4 \\gamma_{12}^{2} \\gamma_{13}^{2} \\gamma_{23}^{2} - 4 \\gamma_{12} \\gamma_{13}^{3} \\gamma_{22} \\gamma_{23} + \\gamma_{13}^{4} \\gamma_{22}^{2}\\right)}}\\\\\\frac{- \\beta_{1} \\gamma_{12} \\gamma_{23} + \\beta_{1} \\gamma_{13} \\gamma_{22} + \\beta_{2} \\gamma_{11} \\gamma_{23} - \\beta_{2} \\gamma_{12} \\gamma_{13} - \\beta_{3} \\gamma_{11} \\gamma_{22} + \\beta_{3} \\gamma_{12}^{2}}{\\sqrt{\\alpha^{2} \\left(\\gamma_{11}^{2} \\gamma_{22}^{2} \\gamma_{33}^{2} - 2 \\gamma_{11}^{2} \\gamma_{22} \\gamma_{23}^{2} \\gamma_{33} + \\gamma_{11}^{2} \\gamma_{23}^{4} - 2 \\gamma_{11} \\gamma_{12}^{2} \\gamma_{22} \\gamma_{33}^{2} + 2 \\gamma_{11} \\gamma_{12}^{2} \\gamma_{23}^{2} \\gamma_{33} + 4 \\gamma_{11} \\gamma_{12} \\gamma_{13} \\gamma_{22} \\gamma_{23} \\gamma_{33} - 4 \\gamma_{11} \\gamma_{12} \\gamma_{13} \\gamma_{23}^{3} - 2 \\gamma_{11} \\gamma_{13}^{2} \\gamma_{22}^{2} \\gamma_{33} + 2 \\gamma_{11} \\gamma_{13}^{2} \\gamma_{22} \\gamma_{23}^{2} + \\gamma_{12}^{4} \\gamma_{33}^{2} - 4 \\gamma_{12}^{3} \\gamma_{13} \\gamma_{23} \\gamma_{33} + 2 \\gamma_{12}^{2} \\gamma_{13}^{2} \\gamma_{22} \\gamma_{33} + 4 \\gamma_{12}^{2} \\gamma_{13}^{2} \\gamma_{23}^{2} - 4 \\gamma_{12} \\gamma_{13}^{3} \\gamma_{22} \\gamma_{23} + \\gamma_{13}^{4} \\gamma_{22}^{2}\\right)}}\\end{matrix}\\right]$"
      ],
      "text/plain": [
       "Matrix([\n",
       "[                       (gamma11*gamma22*gamma33 - gamma11*gamma23**2 - gamma12**2*gamma33 + 2*gamma12*gamma13*gamma23 - gamma13**2*gamma22)/sqrt(alpha**2*(gamma11**2*gamma22**2*gamma33**2 - 2*gamma11**2*gamma22*gamma23**2*gamma33 + gamma11**2*gamma23**4 - 2*gamma11*gamma12**2*gamma22*gamma33**2 + 2*gamma11*gamma12**2*gamma23**2*gamma33 + 4*gamma11*gamma12*gamma13*gamma22*gamma23*gamma33 - 4*gamma11*gamma12*gamma13*gamma23**3 - 2*gamma11*gamma13**2*gamma22**2*gamma33 + 2*gamma11*gamma13**2*gamma22*gamma23**2 + gamma12**4*gamma33**2 - 4*gamma12**3*gamma13*gamma23*gamma33 + 2*gamma12**2*gamma13**2*gamma22*gamma33 + 4*gamma12**2*gamma13**2*gamma23**2 - 4*gamma12*gamma13**3*gamma22*gamma23 + gamma13**4*gamma22**2))],\n",
       "[(-beta1*gamma22*gamma33 + beta1*gamma23**2 + beta2*gamma12*gamma33 - beta2*gamma13*gamma23 - beta3*gamma12*gamma23 + beta3*gamma13*gamma22)/sqrt(alpha**2*(gamma11**2*gamma22**2*gamma33**2 - 2*gamma11**2*gamma22*gamma23**2*gamma33 + gamma11**2*gamma23**4 - 2*gamma11*gamma12**2*gamma22*gamma33**2 + 2*gamma11*gamma12**2*gamma23**2*gamma33 + 4*gamma11*gamma12*gamma13*gamma22*gamma23*gamma33 - 4*gamma11*gamma12*gamma13*gamma23**3 - 2*gamma11*gamma13**2*gamma22**2*gamma33 + 2*gamma11*gamma13**2*gamma22*gamma23**2 + gamma12**4*gamma33**2 - 4*gamma12**3*gamma13*gamma23*gamma33 + 2*gamma12**2*gamma13**2*gamma22*gamma33 + 4*gamma12**2*gamma13**2*gamma23**2 - 4*gamma12*gamma13**3*gamma22*gamma23 + gamma13**4*gamma22**2))],\n",
       "[ (beta1*gamma12*gamma33 - beta1*gamma13*gamma23 - beta2*gamma11*gamma33 + beta2*gamma13**2 + beta3*gamma11*gamma23 - beta3*gamma12*gamma13)/sqrt(alpha**2*(gamma11**2*gamma22**2*gamma33**2 - 2*gamma11**2*gamma22*gamma23**2*gamma33 + gamma11**2*gamma23**4 - 2*gamma11*gamma12**2*gamma22*gamma33**2 + 2*gamma11*gamma12**2*gamma23**2*gamma33 + 4*gamma11*gamma12*gamma13*gamma22*gamma23*gamma33 - 4*gamma11*gamma12*gamma13*gamma23**3 - 2*gamma11*gamma13**2*gamma22**2*gamma33 + 2*gamma11*gamma13**2*gamma22*gamma23**2 + gamma12**4*gamma33**2 - 4*gamma12**3*gamma13*gamma23*gamma33 + 2*gamma12**2*gamma13**2*gamma22*gamma33 + 4*gamma12**2*gamma13**2*gamma23**2 - 4*gamma12*gamma13**3*gamma22*gamma23 + gamma13**4*gamma22**2))],\n",
       "[(-beta1*gamma12*gamma23 + beta1*gamma13*gamma22 + beta2*gamma11*gamma23 - beta2*gamma12*gamma13 - beta3*gamma11*gamma22 + beta3*gamma12**2)/sqrt(alpha**2*(gamma11**2*gamma22**2*gamma33**2 - 2*gamma11**2*gamma22*gamma23**2*gamma33 + gamma11**2*gamma23**4 - 2*gamma11*gamma12**2*gamma22*gamma33**2 + 2*gamma11*gamma12**2*gamma23**2*gamma33 + 4*gamma11*gamma12*gamma13*gamma22*gamma23*gamma33 - 4*gamma11*gamma12*gamma13*gamma23**3 - 2*gamma11*gamma13**2*gamma22**2*gamma33 + 2*gamma11*gamma13**2*gamma22*gamma23**2 + gamma12**4*gamma33**2 - 4*gamma12**3*gamma13*gamma23*gamma33 + 2*gamma12**2*gamma13**2*gamma22*gamma33 + 4*gamma12**2*gamma13**2*gamma23**2 - 4*gamma12*gamma13**3*gamma22*gamma23 + gamma13**4*gamma22**2))]])"
      ]
     },
     "metadata": {},
     "output_type": "display_data"
    }
   ],
   "source": [
    "E_0_ortho=E_0.subs(substitutions)\n",
    "\n",
    "display(sp.simplify(sp.factor(E_0_ortho)))"
   ]
  },
  {
   "cell_type": "code",
   "execution_count": 18,
   "id": "9de53116-643b-42af-9d6b-951b655b82cb",
   "metadata": {},
   "outputs": [],
   "source": [
    "denominator=(gamma11*gamma22*gamma33-gamma11*gamma23**2-gamma12**2*gamma33+2*gamma12*gamma13*gamma23-gamma13**2*gamma22)**2"
   ]
  },
  {
   "cell_type": "code",
   "execution_count": 19,
   "id": "d53016bc-7c79-412d-bd87-8ed5d996b331",
   "metadata": {},
   "outputs": [
    {
     "data": {
      "text/latex": [
       "$\\displaystyle \\left(\\gamma_{11} \\gamma_{22} \\gamma_{33} - \\gamma_{11} \\gamma_{23}^{2} - \\gamma_{12}^{2} \\gamma_{33} + 2 \\gamma_{12} \\gamma_{13} \\gamma_{23} - \\gamma_{13}^{2} \\gamma_{22}\\right)^{2}$"
      ],
      "text/plain": [
       "(gamma11*gamma22*gamma33 - gamma11*gamma23**2 - gamma12**2*gamma33 + 2*gamma12*gamma13*gamma23 - gamma13**2*gamma22)**2"
      ]
     },
     "metadata": {},
     "output_type": "display_data"
    }
   ],
   "source": [
    "display(denominator)"
   ]
  },
  {
   "cell_type": "code",
   "execution_count": 20,
   "id": "df5d0032-eee1-4449-a3c6-eae91da095d2",
   "metadata": {},
   "outputs": [
    {
     "data": {
      "text/latex": [
       "$\\displaystyle \\gamma_{11}^{2} \\gamma_{22}^{2} \\gamma_{33}^{2} - 2 \\gamma_{11}^{2} \\gamma_{22} \\gamma_{23}^{2} \\gamma_{33} + \\gamma_{11}^{2} \\gamma_{23}^{4} - 2 \\gamma_{11} \\gamma_{12}^{2} \\gamma_{22} \\gamma_{33}^{2} + 2 \\gamma_{11} \\gamma_{12}^{2} \\gamma_{23}^{2} \\gamma_{33} + 4 \\gamma_{11} \\gamma_{12} \\gamma_{13} \\gamma_{22} \\gamma_{23} \\gamma_{33} - 4 \\gamma_{11} \\gamma_{12} \\gamma_{13} \\gamma_{23}^{3} - 2 \\gamma_{11} \\gamma_{13}^{2} \\gamma_{22}^{2} \\gamma_{33} + 2 \\gamma_{11} \\gamma_{13}^{2} \\gamma_{22} \\gamma_{23}^{2} + \\gamma_{12}^{4} \\gamma_{33}^{2} - 4 \\gamma_{12}^{3} \\gamma_{13} \\gamma_{23} \\gamma_{33} + 2 \\gamma_{12}^{2} \\gamma_{13}^{2} \\gamma_{22} \\gamma_{33} + 4 \\gamma_{12}^{2} \\gamma_{13}^{2} \\gamma_{23}^{2} - 4 \\gamma_{12} \\gamma_{13}^{3} \\gamma_{22} \\gamma_{23} + \\gamma_{13}^{4} \\gamma_{22}^{2}$"
      ],
      "text/plain": [
       "gamma11**2*gamma22**2*gamma33**2 - 2*gamma11**2*gamma22*gamma23**2*gamma33 + gamma11**2*gamma23**4 - 2*gamma11*gamma12**2*gamma22*gamma33**2 + 2*gamma11*gamma12**2*gamma23**2*gamma33 + 4*gamma11*gamma12*gamma13*gamma22*gamma23*gamma33 - 4*gamma11*gamma12*gamma13*gamma23**3 - 2*gamma11*gamma13**2*gamma22**2*gamma33 + 2*gamma11*gamma13**2*gamma22*gamma23**2 + gamma12**4*gamma33**2 - 4*gamma12**3*gamma13*gamma23*gamma33 + 2*gamma12**2*gamma13**2*gamma22*gamma33 + 4*gamma12**2*gamma13**2*gamma23**2 - 4*gamma12*gamma13**3*gamma22*gamma23 + gamma13**4*gamma22**2"
      ]
     },
     "metadata": {},
     "output_type": "display_data"
    }
   ],
   "source": [
    "display(denominator.expand())"
   ]
  },
  {
   "cell_type": "code",
   "execution_count": 21,
   "id": "a53ef8b9-416a-4a3f-a84d-7b8d7f8bee5a",
   "metadata": {},
   "outputs": [
    {
     "data": {
      "text/latex": [
       "$\\displaystyle \\left[\\begin{matrix}\\frac{1}{\\alpha}\\\\\\frac{\\beta_{1} \\gamma_{22} \\gamma_{33} - \\beta_{1} \\gamma_{23}^{2} - \\beta_{2} \\gamma_{12} \\gamma_{33} + \\beta_{2} \\gamma_{13} \\gamma_{23} + \\beta_{3} \\gamma_{12} \\gamma_{23} - \\beta_{3} \\gamma_{13} \\gamma_{22}}{\\alpha \\left(- \\gamma_{11} \\gamma_{22} \\gamma_{33} + \\gamma_{11} \\gamma_{23}^{2} + \\gamma_{12}^{2} \\gamma_{33} - 2 \\gamma_{12} \\gamma_{13} \\gamma_{23} + \\gamma_{13}^{2} \\gamma_{22}\\right)}\\\\\\frac{\\beta_{1} \\gamma_{12} \\gamma_{33} - \\beta_{1} \\gamma_{13} \\gamma_{23} - \\beta_{2} \\gamma_{11} \\gamma_{33} + \\beta_{2} \\gamma_{13}^{2} + \\beta_{3} \\gamma_{11} \\gamma_{23} - \\beta_{3} \\gamma_{12} \\gamma_{13}}{\\alpha \\left(\\gamma_{11} \\gamma_{22} \\gamma_{33} - \\gamma_{11} \\gamma_{23}^{2} - \\gamma_{12}^{2} \\gamma_{33} + 2 \\gamma_{12} \\gamma_{13} \\gamma_{23} - \\gamma_{13}^{2} \\gamma_{22}\\right)}\\\\\\frac{\\beta_{1} \\gamma_{12} \\gamma_{23} - \\beta_{1} \\gamma_{13} \\gamma_{22} - \\beta_{2} \\gamma_{11} \\gamma_{23} + \\beta_{2} \\gamma_{12} \\gamma_{13} + \\beta_{3} \\gamma_{11} \\gamma_{22} - \\beta_{3} \\gamma_{12}^{2}}{\\alpha \\left(- \\gamma_{11} \\gamma_{22} \\gamma_{33} + \\gamma_{11} \\gamma_{23}^{2} + \\gamma_{12}^{2} \\gamma_{33} - 2 \\gamma_{12} \\gamma_{13} \\gamma_{23} + \\gamma_{13}^{2} \\gamma_{22}\\right)}\\end{matrix}\\right]$"
      ],
      "text/plain": [
       "Matrix([\n",
       "[                                                                                                                                                                                                                                                                 1/alpha],\n",
       "[(beta1*gamma22*gamma33 - beta1*gamma23**2 - beta2*gamma12*gamma33 + beta2*gamma13*gamma23 + beta3*gamma12*gamma23 - beta3*gamma13*gamma22)/(alpha*(-gamma11*gamma22*gamma33 + gamma11*gamma23**2 + gamma12**2*gamma33 - 2*gamma12*gamma13*gamma23 + gamma13**2*gamma22))],\n",
       "[ (beta1*gamma12*gamma33 - beta1*gamma13*gamma23 - beta2*gamma11*gamma33 + beta2*gamma13**2 + beta3*gamma11*gamma23 - beta3*gamma12*gamma13)/(alpha*(gamma11*gamma22*gamma33 - gamma11*gamma23**2 - gamma12**2*gamma33 + 2*gamma12*gamma13*gamma23 - gamma13**2*gamma22))],\n",
       "[(beta1*gamma12*gamma23 - beta1*gamma13*gamma22 - beta2*gamma11*gamma23 + beta2*gamma12*gamma13 + beta3*gamma11*gamma22 - beta3*gamma12**2)/(alpha*(-gamma11*gamma22*gamma33 + gamma11*gamma23**2 + gamma12**2*gamma33 - 2*gamma12*gamma13*gamma23 + gamma13**2*gamma22))]])"
      ]
     },
     "metadata": {},
     "output_type": "display_data"
    }
   ],
   "source": [
    "display(sp.simplify(G_new.inv()*sp.Matrix([-alpha,0,0,0])))"
   ]
  },
  {
   "cell_type": "code",
   "execution_count": null,
   "id": "c9993d9f-7656-4751-b123-93750e39609f",
   "metadata": {},
   "outputs": [],
   "source": []
  }
 ],
 "metadata": {
  "kernelspec": {
   "display_name": "Python 3 (ipykernel)",
   "language": "python",
   "name": "python3"
  },
  "language_info": {
   "codemirror_mode": {
    "name": "ipython",
    "version": 3
   },
   "file_extension": ".py",
   "mimetype": "text/x-python",
   "name": "python",
   "nbconvert_exporter": "python",
   "pygments_lexer": "ipython3",
   "version": "3.10.12"
  }
 },
 "nbformat": 4,
 "nbformat_minor": 5
}
