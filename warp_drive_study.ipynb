{
 "cells": [
  {
   "cell_type": "markdown",
   "id": "cf47782c-f73f-4adb-b2d8-8b6e7525f78d",
   "metadata": {},
   "source": [
    "# Warp factory for Python"
   ]
  },
  {
   "cell_type": "markdown",
   "id": "4de02242-857b-4a45-ba63-d3d7e8aa324f",
   "metadata": {},
   "source": [
    "This code represents the outcome of an exploration I conducted on how to compute the stress-energy tensor for a given spacetime metric. My goal is to replicate the functionality of the \"Warp Factory\" code described in the paper arXiv:2404.03095.\n",
    "\n",
    "In contrast to the approach in that study, I aim to leverage the full capabilities of SymPy and EinsteinPy to derive analytical expressions for various quantities of interest, avoiding reliance on numerical approximations whenever possible. This symbolic approach allows for greater flexibility and precision in theoretical investigations.\n",
    "\n",
    "I may introduce additional constraints on the physicality of the energy-momentum tensor, particularly when negative energy arises, as discussed in arXiv\n",
    "/9702026.\n",
    "\n",
    "At this stage, the code is more of a collection of potential applications without a clear overarching theme or direction."
   ]
  },
  {
   "cell_type": "markdown",
   "id": "60814def-1ea8-4af2-8047-cb0958f19377",
   "metadata": {
    "jp-MarkdownHeadingCollapsed": true
   },
   "source": [
    "### import relevant library"
   ]
  },
  {
   "cell_type": "code",
   "execution_count": 1,
   "id": "e8834390-7e70-4706-b9fa-c787699bdd43",
   "metadata": {},
   "outputs": [],
   "source": [
    "import sympy as sp\n",
    "from einsteinpy.symbolic import MetricTensor, ChristoffelSymbols, RiemannCurvatureTensor, RicciTensor, RicciScalar, EinsteinTensor\n",
    "from sympy import init_printing\n",
    "\n",
    "import sympy as sp\n",
    "import numpy as np\n",
    "import matplotlib.pyplot as plt\n",
    "from mpl_toolkits.mplot3d import Axes3D"
   ]
  },
  {
   "cell_type": "code",
   "execution_count": 43,
   "id": "bb46270c-2107-45a6-ad45-b1e169bba121",
   "metadata": {},
   "outputs": [
    {
     "data": {
      "text/latex": [
       "$\\displaystyle \\left[\\begin{matrix}\\frac{\\partial}{\\partial t} V_{0}{\\left(t,x,y,z \\right)} & \\frac{\\partial}{\\partial t} V_{1}{\\left(t,x,y,z \\right)} & \\frac{\\partial}{\\partial t} V_{2}{\\left(t,x,y,z \\right)} & \\frac{\\partial}{\\partial t} V_{3}{\\left(t,x,y,z \\right)}\\\\\\frac{\\partial}{\\partial x} V_{0}{\\left(t,x,y,z \\right)} & \\frac{\\partial}{\\partial x} V_{1}{\\left(t,x,y,z \\right)} & \\frac{\\partial}{\\partial x} V_{2}{\\left(t,x,y,z \\right)} & \\frac{\\partial}{\\partial x} V_{3}{\\left(t,x,y,z \\right)}\\\\\\frac{\\partial}{\\partial y} V_{0}{\\left(t,x,y,z \\right)} & \\frac{\\partial}{\\partial y} V_{1}{\\left(t,x,y,z \\right)} & \\frac{\\partial}{\\partial y} V_{2}{\\left(t,x,y,z \\right)} & \\frac{\\partial}{\\partial y} V_{3}{\\left(t,x,y,z \\right)}\\\\\\frac{\\partial}{\\partial z} V_{0}{\\left(t,x,y,z \\right)} & \\frac{\\partial}{\\partial z} V_{1}{\\left(t,x,y,z \\right)} & \\frac{\\partial}{\\partial z} V_{2}{\\left(t,x,y,z \\right)} & \\frac{\\partial}{\\partial z} V_{3}{\\left(t,x,y,z \\right)}\\end{matrix}\\right]$"
      ],
      "text/plain": [
       "Matrix([\n",
       "[Derivative(V_0(t, x, y, z), t), Derivative(V_1(t, x, y, z), t), Derivative(V_2(t, x, y, z), t), Derivative(V_3(t, x, y, z), t)],\n",
       "[Derivative(V_0(t, x, y, z), x), Derivative(V_1(t, x, y, z), x), Derivative(V_2(t, x, y, z), x), Derivative(V_3(t, x, y, z), x)],\n",
       "[Derivative(V_0(t, x, y, z), y), Derivative(V_1(t, x, y, z), y), Derivative(V_2(t, x, y, z), y), Derivative(V_3(t, x, y, z), y)],\n",
       "[Derivative(V_0(t, x, y, z), z), Derivative(V_1(t, x, y, z), z), Derivative(V_2(t, x, y, z), z), Derivative(V_3(t, x, y, z), z)]])"
      ]
     },
     "metadata": {},
     "output_type": "display_data"
    }
   ],
   "source": [
    "\n",
    "#PARTIAL DERIVATIVES\n",
    "\n",
    "# Step 1: Define coordinates (t, x, y, z)\n",
    "t, x, y, z = sp.symbols('t x y z')\n",
    "symbols = [t, x, y, z]\n",
    "\n",
    "# Step 2: Define the vector V^v in terms of coordinates\n",
    "V_0 = sp.Function('V_0')(t, x, y, z)\n",
    "V_1 = sp.Function('V_1')(t, x, y, z)\n",
    "V_2 = sp.Function('V_2')(t, x, y, z)\n",
    "V_3 = sp.Function('V_3')(t, x, y, z)\n",
    "\n",
    "V = [V_0, V_1, V_2, V_3]\n",
    "\n",
    "# Step 3: Initialize an empty matrix for partial derivatives\n",
    "partial_matrix = sp.Matrix.zeros(4, 4)\n",
    "\n",
    "# Step 4: Compute the partial derivatives for all combinations\n",
    "for i in range(4):  # iterate over coordinates u^i\n",
    "    for j in range(4):  # iterate over vector components V^v\n",
    "        partial_matrix[i, j] = sp.diff(V[j], symbols[i])\n",
    "\n",
    "display(partial_matrix)\n",
    "\n",
    "\n"
   ]
  },
  {
   "cell_type": "code",
   "execution_count": 44,
   "id": "8ec333f9-5949-435f-9c90-391c05875962",
   "metadata": {},
   "outputs": [
    {
     "data": {
      "text/latex": [
       "$\\displaystyle \\left[\\begin{matrix}\\left[\\begin{matrix}f^{2}{\\left(t,x,y,z \\right)} v^{3}{\\left(t \\right)} \\frac{\\partial}{\\partial x} f{\\left(t,x,y,z \\right)} & - f{\\left(t,x,y,z \\right)} v^{2}{\\left(t \\right)} \\frac{\\partial}{\\partial x} f{\\left(t,x,y,z \\right)} & - \\frac{f{\\left(t,x,y,z \\right)} v^{2}{\\left(t \\right)} \\frac{\\partial}{\\partial y} f{\\left(t,x,y,z \\right)}}{2} & - \\frac{f{\\left(t,x,y,z \\right)} v^{2}{\\left(t \\right)} \\frac{\\partial}{\\partial z} f{\\left(t,x,y,z \\right)}}{2}\\\\- f{\\left(t,x,y,z \\right)} v^{2}{\\left(t \\right)} \\frac{\\partial}{\\partial x} f{\\left(t,x,y,z \\right)} & v{\\left(t \\right)} \\frac{\\partial}{\\partial x} f{\\left(t,x,y,z \\right)} & \\frac{v{\\left(t \\right)} \\frac{\\partial}{\\partial y} f{\\left(t,x,y,z \\right)}}{2} & \\frac{v{\\left(t \\right)} \\frac{\\partial}{\\partial z} f{\\left(t,x,y,z \\right)}}{2}\\\\- \\frac{f{\\left(t,x,y,z \\right)} v^{2}{\\left(t \\right)} \\frac{\\partial}{\\partial y} f{\\left(t,x,y,z \\right)}}{2} & \\frac{v{\\left(t \\right)} \\frac{\\partial}{\\partial y} f{\\left(t,x,y,z \\right)}}{2} & 0 & 0\\\\- \\frac{f{\\left(t,x,y,z \\right)} v^{2}{\\left(t \\right)} \\frac{\\partial}{\\partial z} f{\\left(t,x,y,z \\right)}}{2} & \\frac{v{\\left(t \\right)} \\frac{\\partial}{\\partial z} f{\\left(t,x,y,z \\right)}}{2} & 0 & 0\\end{matrix}\\right] & \\left[\\begin{matrix}f^{3}{\\left(t,x,y,z \\right)} v^{4}{\\left(t \\right)} \\frac{\\partial}{\\partial x} f{\\left(t,x,y,z \\right)} - f{\\left(t,x,y,z \\right)} v^{2}{\\left(t \\right)} \\frac{\\partial}{\\partial x} f{\\left(t,x,y,z \\right)} - f{\\left(t,x,y,z \\right)} \\frac{d}{d t} v{\\left(t \\right)} - v{\\left(t \\right)} \\frac{\\partial}{\\partial t} f{\\left(t,x,y,z \\right)} & - f^{2}{\\left(t,x,y,z \\right)} v^{3}{\\left(t \\right)} \\frac{\\partial}{\\partial x} f{\\left(t,x,y,z \\right)} & \\frac{\\left(- f^{2}{\\left(t,x,y,z \\right)} v^{2}{\\left(t \\right)} - 1\\right) v{\\left(t \\right)} \\frac{\\partial}{\\partial y} f{\\left(t,x,y,z \\right)}}{2} & \\frac{\\left(- f^{2}{\\left(t,x,y,z \\right)} v^{2}{\\left(t \\right)} - 1\\right) v{\\left(t \\right)} \\frac{\\partial}{\\partial z} f{\\left(t,x,y,z \\right)}}{2}\\\\- f^{2}{\\left(t,x,y,z \\right)} v^{3}{\\left(t \\right)} \\frac{\\partial}{\\partial x} f{\\left(t,x,y,z \\right)} & f{\\left(t,x,y,z \\right)} v^{2}{\\left(t \\right)} \\frac{\\partial}{\\partial x} f{\\left(t,x,y,z \\right)} & \\frac{f{\\left(t,x,y,z \\right)} v^{2}{\\left(t \\right)} \\frac{\\partial}{\\partial y} f{\\left(t,x,y,z \\right)}}{2} & \\frac{f{\\left(t,x,y,z \\right)} v^{2}{\\left(t \\right)} \\frac{\\partial}{\\partial z} f{\\left(t,x,y,z \\right)}}{2}\\\\\\frac{\\left(- f^{2}{\\left(t,x,y,z \\right)} v^{2}{\\left(t \\right)} - 1\\right) v{\\left(t \\right)} \\frac{\\partial}{\\partial y} f{\\left(t,x,y,z \\right)}}{2} & \\frac{f{\\left(t,x,y,z \\right)} v^{2}{\\left(t \\right)} \\frac{\\partial}{\\partial y} f{\\left(t,x,y,z \\right)}}{2} & 0 & 0\\\\\\frac{\\left(- f^{2}{\\left(t,x,y,z \\right)} v^{2}{\\left(t \\right)} - 1\\right) v{\\left(t \\right)} \\frac{\\partial}{\\partial z} f{\\left(t,x,y,z \\right)}}{2} & \\frac{f{\\left(t,x,y,z \\right)} v^{2}{\\left(t \\right)} \\frac{\\partial}{\\partial z} f{\\left(t,x,y,z \\right)}}{2} & 0 & 0\\end{matrix}\\right] & \\left[\\begin{matrix}- f{\\left(t,x,y,z \\right)} v^{2}{\\left(t \\right)} \\frac{\\partial}{\\partial y} f{\\left(t,x,y,z \\right)} & \\frac{v{\\left(t \\right)} \\frac{\\partial}{\\partial y} f{\\left(t,x,y,z \\right)}}{2} & 0 & 0\\\\\\frac{v{\\left(t \\right)} \\frac{\\partial}{\\partial y} f{\\left(t,x,y,z \\right)}}{2} & 0 & 0 & 0\\\\0 & 0 & 0 & 0\\\\0 & 0 & 0 & 0\\end{matrix}\\right] & \\left[\\begin{matrix}- f{\\left(t,x,y,z \\right)} v^{2}{\\left(t \\right)} \\frac{\\partial}{\\partial z} f{\\left(t,x,y,z \\right)} & \\frac{v{\\left(t \\right)} \\frac{\\partial}{\\partial z} f{\\left(t,x,y,z \\right)}}{2} & 0 & 0\\\\\\frac{v{\\left(t \\right)} \\frac{\\partial}{\\partial z} f{\\left(t,x,y,z \\right)}}{2} & 0 & 0 & 0\\\\0 & 0 & 0 & 0\\\\0 & 0 & 0 & 0\\end{matrix}\\right]\\end{matrix}\\right]$"
      ],
      "text/plain": [
       "[[[f(t, x, y, z)**2*v(t)**3*Derivative(f(t, x, y, z), x), -f(t, x, y, z)*v(t)**2*Derivative(f(t, x, y, z), x), -f(t, x, y, z)*v(t)**2*Derivative(f(t, x, y, z), y)/2, -f(t, x, y, z)*v(t)**2*Derivative(f(t, x, y, z), z)/2], [-f(t, x, y, z)*v(t)**2*Derivative(f(t, x, y, z), x), v(t)*Derivative(f(t, x, y, z), x), v(t)*Derivative(f(t, x, y, z), y)/2, v(t)*Derivative(f(t, x, y, z), z)/2], [-f(t, x, y, z)*v(t)**2*Derivative(f(t, x, y, z), y)/2, v(t)*Derivative(f(t, x, y, z), y)/2, 0, 0], [-f(t, x, y, z)*v(t)**2*Derivative(f(t, x, y, z), z)/2, v(t)*Derivative(f(t, x, y, z), z)/2, 0, 0]], [[f(t, x, y, z)**3*v(t)**4*Derivative(f(t, x, y, z), x) - f(t, x, y, z)*v(t)**2*Derivative(f(t, x, y, z), x) - f(t, x, y, z)*Derivative(v(t), t) - v(t)*Derivative(f(t, x, y, z), t), -f(t, x, y, z)**2*v(t)**3*Derivative(f(t, x, y, z), x), (-f(t, x, y, z)**2*v(t)**2 - 1)*v(t)*Derivative(f(t, x, y, z), y)/2, (-f(t, x, y, z)**2*v(t)**2 - 1)*v(t)*Derivative(f(t, x, y, z), z)/2], [-f(t, x, y, z)**2*v(t)**3*Derivative(f(t, x, y, z), x), f(t, x, y, z)*v(t)**2*Derivative(f(t, x, y, z), x), f(t, x, y, z)*v(t)**2*Derivative(f(t, x, y, z), y)/2, f(t, x, y, z)*v(t)**2*Derivative(f(t, x, y, z), z)/2], [(-f(t, x, y, z)**2*v(t)**2 - 1)*v(t)*Derivative(f(t, x, y, z), y)/2, f(t, x, y, z)*v(t)**2*Derivative(f(t, x, y, z), y)/2, 0, 0], [(-f(t, x, y, z)**2*v(t)**2 - 1)*v(t)*Derivative(f(t, x, y, z), z)/2, f(t, x, y, z)*v(t)**2*Derivative(f(t, x, y, z), z)/2, 0, 0]], [[-f(t, x, y, z)*v(t)**2*Derivative(f(t, x, y, z), y), v(t)*Derivative(f(t, x, y, z), y)/2, 0, 0], [v(t)*Derivative(f(t, x, y, z), y)/2, 0, 0, 0], [0, 0, 0, 0], [0, 0, 0, 0]], [[-f(t, x, y, z)*v(t)**2*Derivative(f(t, x, y, z), z), v(t)*Derivative(f(t, x, y, z), z)/2, 0, 0], [v(t)*Derivative(f(t, x, y, z), z)/2, 0, 0, 0], [0, 0, 0, 0], [0, 0, 0, 0]]]"
      ]
     },
     "metadata": {},
     "output_type": "display_data"
    },
    {
     "data": {
      "text/latex": [
       "$\\displaystyle \\left[\\begin{matrix}V_{h0} \\left(- \\frac{\\left(- 2 f{\\left(t,x,y,z \\right)} v^{2}{\\left(t \\right)} \\frac{\\partial}{\\partial x} f{\\left(t,x,y,z \\right)} - 2 f{\\left(t,x,y,z \\right)} \\frac{d}{d t} v{\\left(t \\right)} - 2 v{\\left(t \\right)} \\frac{\\partial}{\\partial t} f{\\left(t,x,y,z \\right)}\\right) f{\\left(t,x,y,z \\right)} v{\\left(t \\right)}}{2} - f^{2}{\\left(t,x,y,z \\right)} v{\\left(t \\right)} \\frac{d}{d t} v{\\left(t \\right)} - f{\\left(t,x,y,z \\right)} v^{2}{\\left(t \\right)} \\frac{\\partial}{\\partial t} f{\\left(t,x,y,z \\right)}\\right) + V_{h1} \\left(\\left(- \\frac{f^{2}{\\left(t,x,y,z \\right)} v^{2}{\\left(t \\right)}}{2} + \\frac{1}{2}\\right) \\left(- 2 f{\\left(t,x,y,z \\right)} v^{2}{\\left(t \\right)} \\frac{\\partial}{\\partial x} f{\\left(t,x,y,z \\right)} - 2 f{\\left(t,x,y,z \\right)} \\frac{d}{d t} v{\\left(t \\right)} - 2 v{\\left(t \\right)} \\frac{\\partial}{\\partial t} f{\\left(t,x,y,z \\right)}\\right) - \\frac{\\left(2 f^{2}{\\left(t,x,y,z \\right)} v{\\left(t \\right)} \\frac{d}{d t} v{\\left(t \\right)} + 2 f{\\left(t,x,y,z \\right)} v^{2}{\\left(t \\right)} \\frac{\\partial}{\\partial t} f{\\left(t,x,y,z \\right)}\\right) f{\\left(t,x,y,z \\right)} v{\\left(t \\right)}}{2}\\right) - V_{h2} f{\\left(t,x,y,z \\right)} v^{2}{\\left(t \\right)} \\frac{\\partial}{\\partial y} f{\\left(t,x,y,z \\right)} - V_{h3} f{\\left(t,x,y,z \\right)} v^{2}{\\left(t \\right)} \\frac{\\partial}{\\partial z} f{\\left(t,x,y,z \\right)} & - V_{h0} f{\\left(t,x,y,z \\right)} v^{2}{\\left(t \\right)} \\frac{\\partial}{\\partial x} f{\\left(t,x,y,z \\right)} - V_{h1} f^{2}{\\left(t,x,y,z \\right)} v^{3}{\\left(t \\right)} \\frac{\\partial}{\\partial x} f{\\left(t,x,y,z \\right)} + \\frac{V_{h2} v{\\left(t \\right)} \\frac{\\partial}{\\partial y} f{\\left(t,x,y,z \\right)}}{2} + \\frac{V_{h3} v{\\left(t \\right)} \\frac{\\partial}{\\partial z} f{\\left(t,x,y,z \\right)}}{2} & - \\frac{V_{h0} f{\\left(t,x,y,z \\right)} v^{2}{\\left(t \\right)} \\frac{\\partial}{\\partial y} f{\\left(t,x,y,z \\right)}}{2} + V_{h1} \\left(- \\left(- \\frac{f^{2}{\\left(t,x,y,z \\right)} v^{2}{\\left(t \\right)}}{2} + \\frac{1}{2}\\right) v{\\left(t \\right)} \\frac{\\partial}{\\partial y} f{\\left(t,x,y,z \\right)} - f^{2}{\\left(t,x,y,z \\right)} v^{3}{\\left(t \\right)} \\frac{\\partial}{\\partial y} f{\\left(t,x,y,z \\right)}\\right) & - \\frac{V_{h0} f{\\left(t,x,y,z \\right)} v^{2}{\\left(t \\right)} \\frac{\\partial}{\\partial z} f{\\left(t,x,y,z \\right)}}{2} + V_{h1} \\left(- \\left(- \\frac{f^{2}{\\left(t,x,y,z \\right)} v^{2}{\\left(t \\right)}}{2} + \\frac{1}{2}\\right) v{\\left(t \\right)} \\frac{\\partial}{\\partial z} f{\\left(t,x,y,z \\right)} - f^{2}{\\left(t,x,y,z \\right)} v^{3}{\\left(t \\right)} \\frac{\\partial}{\\partial z} f{\\left(t,x,y,z \\right)}\\right)\\\\- V_{h0} f{\\left(t,x,y,z \\right)} v^{2}{\\left(t \\right)} \\frac{\\partial}{\\partial x} f{\\left(t,x,y,z \\right)} - V_{h1} f^{2}{\\left(t,x,y,z \\right)} v^{3}{\\left(t \\right)} \\frac{\\partial}{\\partial x} f{\\left(t,x,y,z \\right)} + \\frac{V_{h2} v{\\left(t \\right)} \\frac{\\partial}{\\partial y} f{\\left(t,x,y,z \\right)}}{2} + \\frac{V_{h3} v{\\left(t \\right)} \\frac{\\partial}{\\partial z} f{\\left(t,x,y,z \\right)}}{2} & V_{h0} v{\\left(t \\right)} \\frac{\\partial}{\\partial x} f{\\left(t,x,y,z \\right)} + V_{h1} f{\\left(t,x,y,z \\right)} v^{2}{\\left(t \\right)} \\frac{\\partial}{\\partial x} f{\\left(t,x,y,z \\right)} & \\frac{V_{h0} v{\\left(t \\right)} \\frac{\\partial}{\\partial y} f{\\left(t,x,y,z \\right)}}{2} + \\frac{V_{h1} f{\\left(t,x,y,z \\right)} v^{2}{\\left(t \\right)} \\frac{\\partial}{\\partial y} f{\\left(t,x,y,z \\right)}}{2} & \\frac{V_{h0} v{\\left(t \\right)} \\frac{\\partial}{\\partial z} f{\\left(t,x,y,z \\right)}}{2} + \\frac{V_{h1} f{\\left(t,x,y,z \\right)} v^{2}{\\left(t \\right)} \\frac{\\partial}{\\partial z} f{\\left(t,x,y,z \\right)}}{2}\\\\- \\frac{V_{h0} f{\\left(t,x,y,z \\right)} v^{2}{\\left(t \\right)} \\frac{\\partial}{\\partial y} f{\\left(t,x,y,z \\right)}}{2} + V_{h1} \\left(- \\left(- \\frac{f^{2}{\\left(t,x,y,z \\right)} v^{2}{\\left(t \\right)}}{2} + \\frac{1}{2}\\right) v{\\left(t \\right)} \\frac{\\partial}{\\partial y} f{\\left(t,x,y,z \\right)} - f^{2}{\\left(t,x,y,z \\right)} v^{3}{\\left(t \\right)} \\frac{\\partial}{\\partial y} f{\\left(t,x,y,z \\right)}\\right) & \\frac{V_{h0} v{\\left(t \\right)} \\frac{\\partial}{\\partial y} f{\\left(t,x,y,z \\right)}}{2} + \\frac{V_{h1} f{\\left(t,x,y,z \\right)} v^{2}{\\left(t \\right)} \\frac{\\partial}{\\partial y} f{\\left(t,x,y,z \\right)}}{2} & 0 & 0\\\\- \\frac{V_{h0} f{\\left(t,x,y,z \\right)} v^{2}{\\left(t \\right)} \\frac{\\partial}{\\partial z} f{\\left(t,x,y,z \\right)}}{2} + V_{h1} \\left(- \\left(- \\frac{f^{2}{\\left(t,x,y,z \\right)} v^{2}{\\left(t \\right)}}{2} + \\frac{1}{2}\\right) v{\\left(t \\right)} \\frac{\\partial}{\\partial z} f{\\left(t,x,y,z \\right)} - f^{2}{\\left(t,x,y,z \\right)} v^{3}{\\left(t \\right)} \\frac{\\partial}{\\partial z} f{\\left(t,x,y,z \\right)}\\right) & \\frac{V_{h0} v{\\left(t \\right)} \\frac{\\partial}{\\partial z} f{\\left(t,x,y,z \\right)}}{2} + \\frac{V_{h1} f{\\left(t,x,y,z \\right)} v^{2}{\\left(t \\right)} \\frac{\\partial}{\\partial z} f{\\left(t,x,y,z \\right)}}{2} & 0 & 0\\end{matrix}\\right]$"
      ],
      "text/plain": [
       "Matrix([\n",
       "[V_h0*(-(-2*f(t, x, y, z)*v(t)**2*Derivative(f(t, x, y, z), x) - 2*f(t, x, y, z)*Derivative(v(t), t) - 2*v(t)*Derivative(f(t, x, y, z), t))*f(t, x, y, z)*v(t)/2 - f(t, x, y, z)**2*v(t)*Derivative(v(t), t) - f(t, x, y, z)*v(t)**2*Derivative(f(t, x, y, z), t)) + V_h1*((-f(t, x, y, z)**2*v(t)**2/2 + 1/2)*(-2*f(t, x, y, z)*v(t)**2*Derivative(f(t, x, y, z), x) - 2*f(t, x, y, z)*Derivative(v(t), t) - 2*v(t)*Derivative(f(t, x, y, z), t)) - (2*f(t, x, y, z)**2*v(t)*Derivative(v(t), t) + 2*f(t, x, y, z)*v(t)**2*Derivative(f(t, x, y, z), t))*f(t, x, y, z)*v(t)/2) - V_h2*f(t, x, y, z)*v(t)**2*Derivative(f(t, x, y, z), y) - V_h3*f(t, x, y, z)*v(t)**2*Derivative(f(t, x, y, z), z), -V_h0*f(t, x, y, z)*v(t)**2*Derivative(f(t, x, y, z), x) - V_h1*f(t, x, y, z)**2*v(t)**3*Derivative(f(t, x, y, z), x) + V_h2*v(t)*Derivative(f(t, x, y, z), y)/2 + V_h3*v(t)*Derivative(f(t, x, y, z), z)/2, -V_h0*f(t, x, y, z)*v(t)**2*Derivative(f(t, x, y, z), y)/2 + V_h1*(-(-f(t, x, y, z)**2*v(t)**2/2 + 1/2)*v(t)*Derivative(f(t, x, y, z), y) - f(t, x, y, z)**2*v(t)**3*Derivative(f(t, x, y, z), y)), -V_h0*f(t, x, y, z)*v(t)**2*Derivative(f(t, x, y, z), z)/2 + V_h1*(-(-f(t, x, y, z)**2*v(t)**2/2 + 1/2)*v(t)*Derivative(f(t, x, y, z), z) - f(t, x, y, z)**2*v(t)**3*Derivative(f(t, x, y, z), z))],\n",
       "[                                                                                                                                                                                                                                                                                                                                                                                                                                                                                       -V_h0*f(t, x, y, z)*v(t)**2*Derivative(f(t, x, y, z), x) - V_h1*f(t, x, y, z)**2*v(t)**3*Derivative(f(t, x, y, z), x) + V_h2*v(t)*Derivative(f(t, x, y, z), y)/2 + V_h3*v(t)*Derivative(f(t, x, y, z), z)/2,                                                                                                            V_h0*v(t)*Derivative(f(t, x, y, z), x) + V_h1*f(t, x, y, z)*v(t)**2*Derivative(f(t, x, y, z), x),                                                                                               V_h0*v(t)*Derivative(f(t, x, y, z), y)/2 + V_h1*f(t, x, y, z)*v(t)**2*Derivative(f(t, x, y, z), y)/2,                                                                                               V_h0*v(t)*Derivative(f(t, x, y, z), z)/2 + V_h1*f(t, x, y, z)*v(t)**2*Derivative(f(t, x, y, z), z)/2],\n",
       "[                                                                                                                                                                                                                                                                                                                                                                                                                                                                                                -V_h0*f(t, x, y, z)*v(t)**2*Derivative(f(t, x, y, z), y)/2 + V_h1*(-(-f(t, x, y, z)**2*v(t)**2/2 + 1/2)*v(t)*Derivative(f(t, x, y, z), y) - f(t, x, y, z)**2*v(t)**3*Derivative(f(t, x, y, z), y)),                                                                                                        V_h0*v(t)*Derivative(f(t, x, y, z), y)/2 + V_h1*f(t, x, y, z)*v(t)**2*Derivative(f(t, x, y, z), y)/2,                                                                                                                                                                                                  0,                                                                                                                                                                                                  0],\n",
       "[                                                                                                                                                                                                                                                                                                                                                                                                                                                                                                -V_h0*f(t, x, y, z)*v(t)**2*Derivative(f(t, x, y, z), z)/2 + V_h1*(-(-f(t, x, y, z)**2*v(t)**2/2 + 1/2)*v(t)*Derivative(f(t, x, y, z), z) - f(t, x, y, z)**2*v(t)**3*Derivative(f(t, x, y, z), z)),                                                                                                        V_h0*v(t)*Derivative(f(t, x, y, z), z)/2 + V_h1*f(t, x, y, z)*v(t)**2*Derivative(f(t, x, y, z), z)/2,                                                                                                                                                                                                  0,                                                                                                                                                                                                  0]])"
      ]
     },
     "metadata": {},
     "output_type": "display_data"
    },
    {
     "data": {
      "text/latex": [
       "$\\displaystyle \\left[\\begin{matrix}V^{h0} \\left(- \\frac{\\left(- 2 f{\\left(t,x,y,z \\right)} v^{2}{\\left(t \\right)} \\frac{\\partial}{\\partial x} f{\\left(t,x,y,z \\right)} - 2 f{\\left(t,x,y,z \\right)} \\frac{d}{d t} v{\\left(t \\right)} - 2 v{\\left(t \\right)} \\frac{\\partial}{\\partial t} f{\\left(t,x,y,z \\right)}\\right) f{\\left(t,x,y,z \\right)} v{\\left(t \\right)}}{2} - f^{2}{\\left(t,x,y,z \\right)} v{\\left(t \\right)} \\frac{d}{d t} v{\\left(t \\right)} - f{\\left(t,x,y,z \\right)} v^{2}{\\left(t \\right)} \\frac{\\partial}{\\partial t} f{\\left(t,x,y,z \\right)}\\right) - V^{h1} f{\\left(t,x,y,z \\right)} v^{2}{\\left(t \\right)} \\frac{\\partial}{\\partial x} f{\\left(t,x,y,z \\right)} - \\frac{V^{h2} f{\\left(t,x,y,z \\right)} v^{2}{\\left(t \\right)} \\frac{\\partial}{\\partial y} f{\\left(t,x,y,z \\right)}}{2} - \\frac{V^{h3} f{\\left(t,x,y,z \\right)} v^{2}{\\left(t \\right)} \\frac{\\partial}{\\partial z} f{\\left(t,x,y,z \\right)}}{2} & V^{h0} \\left(\\left(- \\frac{f^{2}{\\left(t,x,y,z \\right)} v^{2}{\\left(t \\right)}}{2} + \\frac{1}{2}\\right) \\left(- 2 f{\\left(t,x,y,z \\right)} v^{2}{\\left(t \\right)} \\frac{\\partial}{\\partial x} f{\\left(t,x,y,z \\right)} - 2 f{\\left(t,x,y,z \\right)} \\frac{d}{d t} v{\\left(t \\right)} - 2 v{\\left(t \\right)} \\frac{\\partial}{\\partial t} f{\\left(t,x,y,z \\right)}\\right) - \\frac{\\left(2 f^{2}{\\left(t,x,y,z \\right)} v{\\left(t \\right)} \\frac{d}{d t} v{\\left(t \\right)} + 2 f{\\left(t,x,y,z \\right)} v^{2}{\\left(t \\right)} \\frac{\\partial}{\\partial t} f{\\left(t,x,y,z \\right)}\\right) f{\\left(t,x,y,z \\right)} v{\\left(t \\right)}}{2}\\right) - V^{h1} f^{2}{\\left(t,x,y,z \\right)} v^{3}{\\left(t \\right)} \\frac{\\partial}{\\partial x} f{\\left(t,x,y,z \\right)} + V^{h2} \\left(- \\left(- \\frac{f^{2}{\\left(t,x,y,z \\right)} v^{2}{\\left(t \\right)}}{2} + \\frac{1}{2}\\right) v{\\left(t \\right)} \\frac{\\partial}{\\partial y} f{\\left(t,x,y,z \\right)} - f^{2}{\\left(t,x,y,z \\right)} v^{3}{\\left(t \\right)} \\frac{\\partial}{\\partial y} f{\\left(t,x,y,z \\right)}\\right) + V^{h3} \\left(- \\left(- \\frac{f^{2}{\\left(t,x,y,z \\right)} v^{2}{\\left(t \\right)}}{2} + \\frac{1}{2}\\right) v{\\left(t \\right)} \\frac{\\partial}{\\partial z} f{\\left(t,x,y,z \\right)} - f^{2}{\\left(t,x,y,z \\right)} v^{3}{\\left(t \\right)} \\frac{\\partial}{\\partial z} f{\\left(t,x,y,z \\right)}\\right) & - V^{h0} f{\\left(t,x,y,z \\right)} v^{2}{\\left(t \\right)} \\frac{\\partial}{\\partial y} f{\\left(t,x,y,z \\right)} + \\frac{V^{h1} v{\\left(t \\right)} \\frac{\\partial}{\\partial y} f{\\left(t,x,y,z \\right)}}{2} & - V^{h0} f{\\left(t,x,y,z \\right)} v^{2}{\\left(t \\right)} \\frac{\\partial}{\\partial z} f{\\left(t,x,y,z \\right)} + \\frac{V^{h1} v{\\left(t \\right)} \\frac{\\partial}{\\partial z} f{\\left(t,x,y,z \\right)}}{2}\\\\- V^{h0} f{\\left(t,x,y,z \\right)} v^{2}{\\left(t \\right)} \\frac{\\partial}{\\partial x} f{\\left(t,x,y,z \\right)} + V^{h1} v{\\left(t \\right)} \\frac{\\partial}{\\partial x} f{\\left(t,x,y,z \\right)} + \\frac{V^{h2} v{\\left(t \\right)} \\frac{\\partial}{\\partial y} f{\\left(t,x,y,z \\right)}}{2} + \\frac{V^{h3} v{\\left(t \\right)} \\frac{\\partial}{\\partial z} f{\\left(t,x,y,z \\right)}}{2} & - V^{h0} f^{2}{\\left(t,x,y,z \\right)} v^{3}{\\left(t \\right)} \\frac{\\partial}{\\partial x} f{\\left(t,x,y,z \\right)} + V^{h1} f{\\left(t,x,y,z \\right)} v^{2}{\\left(t \\right)} \\frac{\\partial}{\\partial x} f{\\left(t,x,y,z \\right)} + \\frac{V^{h2} f{\\left(t,x,y,z \\right)} v^{2}{\\left(t \\right)} \\frac{\\partial}{\\partial y} f{\\left(t,x,y,z \\right)}}{2} + \\frac{V^{h3} f{\\left(t,x,y,z \\right)} v^{2}{\\left(t \\right)} \\frac{\\partial}{\\partial z} f{\\left(t,x,y,z \\right)}}{2} & \\frac{V^{h0} v{\\left(t \\right)} \\frac{\\partial}{\\partial y} f{\\left(t,x,y,z \\right)}}{2} & \\frac{V^{h0} v{\\left(t \\right)} \\frac{\\partial}{\\partial z} f{\\left(t,x,y,z \\right)}}{2}\\\\- \\frac{V^{h0} f{\\left(t,x,y,z \\right)} v^{2}{\\left(t \\right)} \\frac{\\partial}{\\partial y} f{\\left(t,x,y,z \\right)}}{2} + \\frac{V^{h1} v{\\left(t \\right)} \\frac{\\partial}{\\partial y} f{\\left(t,x,y,z \\right)}}{2} & V^{h0} \\left(- \\left(- \\frac{f^{2}{\\left(t,x,y,z \\right)} v^{2}{\\left(t \\right)}}{2} + \\frac{1}{2}\\right) v{\\left(t \\right)} \\frac{\\partial}{\\partial y} f{\\left(t,x,y,z \\right)} - f^{2}{\\left(t,x,y,z \\right)} v^{3}{\\left(t \\right)} \\frac{\\partial}{\\partial y} f{\\left(t,x,y,z \\right)}\\right) + \\frac{V^{h1} f{\\left(t,x,y,z \\right)} v^{2}{\\left(t \\right)} \\frac{\\partial}{\\partial y} f{\\left(t,x,y,z \\right)}}{2} & 0 & 0\\\\- \\frac{V^{h0} f{\\left(t,x,y,z \\right)} v^{2}{\\left(t \\right)} \\frac{\\partial}{\\partial z} f{\\left(t,x,y,z \\right)}}{2} + \\frac{V^{h1} v{\\left(t \\right)} \\frac{\\partial}{\\partial z} f{\\left(t,x,y,z \\right)}}{2} & V^{h0} \\left(- \\left(- \\frac{f^{2}{\\left(t,x,y,z \\right)} v^{2}{\\left(t \\right)}}{2} + \\frac{1}{2}\\right) v{\\left(t \\right)} \\frac{\\partial}{\\partial z} f{\\left(t,x,y,z \\right)} - f^{2}{\\left(t,x,y,z \\right)} v^{3}{\\left(t \\right)} \\frac{\\partial}{\\partial z} f{\\left(t,x,y,z \\right)}\\right) + \\frac{V^{h1} f{\\left(t,x,y,z \\right)} v^{2}{\\left(t \\right)} \\frac{\\partial}{\\partial z} f{\\left(t,x,y,z \\right)}}{2} & 0 & 0\\end{matrix}\\right]$"
      ],
      "text/plain": [
       "Matrix([\n",
       "[V^h0*(-(-2*f(t, x, y, z)*v(t)**2*Derivative(f(t, x, y, z), x) - 2*f(t, x, y, z)*Derivative(v(t), t) - 2*v(t)*Derivative(f(t, x, y, z), t))*f(t, x, y, z)*v(t)/2 - f(t, x, y, z)**2*v(t)*Derivative(v(t), t) - f(t, x, y, z)*v(t)**2*Derivative(f(t, x, y, z), t)) - V^h1*f(t, x, y, z)*v(t)**2*Derivative(f(t, x, y, z), x) - V^h2*f(t, x, y, z)*v(t)**2*Derivative(f(t, x, y, z), y)/2 - V^h3*f(t, x, y, z)*v(t)**2*Derivative(f(t, x, y, z), z)/2, V^h0*((-f(t, x, y, z)**2*v(t)**2/2 + 1/2)*(-2*f(t, x, y, z)*v(t)**2*Derivative(f(t, x, y, z), x) - 2*f(t, x, y, z)*Derivative(v(t), t) - 2*v(t)*Derivative(f(t, x, y, z), t)) - (2*f(t, x, y, z)**2*v(t)*Derivative(v(t), t) + 2*f(t, x, y, z)*v(t)**2*Derivative(f(t, x, y, z), t))*f(t, x, y, z)*v(t)/2) - V^h1*f(t, x, y, z)**2*v(t)**3*Derivative(f(t, x, y, z), x) + V^h2*(-(-f(t, x, y, z)**2*v(t)**2/2 + 1/2)*v(t)*Derivative(f(t, x, y, z), y) - f(t, x, y, z)**2*v(t)**3*Derivative(f(t, x, y, z), y)) + V^h3*(-(-f(t, x, y, z)**2*v(t)**2/2 + 1/2)*v(t)*Derivative(f(t, x, y, z), z) - f(t, x, y, z)**2*v(t)**3*Derivative(f(t, x, y, z), z)), -V^h0*f(t, x, y, z)*v(t)**2*Derivative(f(t, x, y, z), y) + V^h1*v(t)*Derivative(f(t, x, y, z), y)/2, -V^h0*f(t, x, y, z)*v(t)**2*Derivative(f(t, x, y, z), z) + V^h1*v(t)*Derivative(f(t, x, y, z), z)/2],\n",
       "[                                                                                                                                                                                                                                                            -V^h0*f(t, x, y, z)*v(t)**2*Derivative(f(t, x, y, z), x) + V^h1*v(t)*Derivative(f(t, x, y, z), x) + V^h2*v(t)*Derivative(f(t, x, y, z), y)/2 + V^h3*v(t)*Derivative(f(t, x, y, z), z)/2,                                                                                                                                                                                                                                                                                                                                                                                                           -V^h0*f(t, x, y, z)**2*v(t)**3*Derivative(f(t, x, y, z), x) + V^h1*f(t, x, y, z)*v(t)**2*Derivative(f(t, x, y, z), x) + V^h2*f(t, x, y, z)*v(t)**2*Derivative(f(t, x, y, z), y)/2 + V^h3*f(t, x, y, z)*v(t)**2*Derivative(f(t, x, y, z), z)/2,                                                            V^h0*v(t)*Derivative(f(t, x, y, z), y)/2,                                                            V^h0*v(t)*Derivative(f(t, x, y, z), z)/2],\n",
       "[                                                                                                                                                                                                                                                                                                                                              -V^h0*f(t, x, y, z)*v(t)**2*Derivative(f(t, x, y, z), y)/2 + V^h1*v(t)*Derivative(f(t, x, y, z), y)/2,                                                                                                                                                                                                                                                                                                                                                                                                                                                       V^h0*(-(-f(t, x, y, z)**2*v(t)**2/2 + 1/2)*v(t)*Derivative(f(t, x, y, z), y) - f(t, x, y, z)**2*v(t)**3*Derivative(f(t, x, y, z), y)) + V^h1*f(t, x, y, z)*v(t)**2*Derivative(f(t, x, y, z), y)/2,                                                                                                   0,                                                                                                   0],\n",
       "[                                                                                                                                                                                                                                                                                                                                              -V^h0*f(t, x, y, z)*v(t)**2*Derivative(f(t, x, y, z), z)/2 + V^h1*v(t)*Derivative(f(t, x, y, z), z)/2,                                                                                                                                                                                                                                                                                                                                                                                                                                                       V^h0*(-(-f(t, x, y, z)**2*v(t)**2/2 + 1/2)*v(t)*Derivative(f(t, x, y, z), z) - f(t, x, y, z)**2*v(t)**3*Derivative(f(t, x, y, z), z)) + V^h1*f(t, x, y, z)*v(t)**2*Derivative(f(t, x, y, z), z)/2,                                                                                                   0,                                                                                                   0]])"
      ]
     },
     "metadata": {},
     "output_type": "display_data"
    }
   ],
   "source": [
    "# Define the symbols for coordinates and vector components\n",
    "t, x, y, z = sp.symbols('t x y z')\n",
    "V_h = sp.symbols('V_h0 V_h1 V_h2 V_h3')  # Vector V_h (covariant components)\n",
    "V_up_h = sp.symbols('V^h0 V^h1 V^h2 V^h3')  # Vector V^h (contravariant components)\n",
    "\n",
    "# Define a simple metric (for example, flat spacetime)\n",
    "eta = sp.diag(-1, 1, 1, 1)  # Minkowski metric (flat spacetime)\n",
    "\n",
    "\n",
    "\n",
    "# Compute Christoffel Symbols for the given metric\n",
    "ch_sym = ChristoffelSymbols.from_metric(m_obj)\n",
    "\n",
    "# Christoffel symbol array (with lower indices)\n",
    "T_uv_h = ch_sym.tensor()\n",
    "\n",
    "display(sp.simplify(T_uv_h))\n",
    "\n",
    "\n",
    "# Initialize matrices A and B\n",
    "A_uv = sp.zeros(4, 4)  # A_{uv} matrix (4x4)\n",
    "B_u_v = sp.zeros(4, 4)  # B_u^v matrix (4x4)\n",
    "\n",
    "# Perform the matrix multiplication for A_uv = T_{uv}^h * V_h\n",
    "for u in range(4):\n",
    "    for v in range(4):\n",
    "        A_uv[u, v] = sum(T_uv_h[h,u,v] * V_h[h] for h in range(4))\n",
    "\n",
    "# Perform the matrix multiplication for B_u^v = T_{uh}^v * V^h\n",
    "for u in range(4):\n",
    "    for v in range(4):\n",
    "        B_u_v[u, v] = sum(T_uv_h[v,u,h]  * V_up_h[h] for h in range(4))\n",
    "\n",
    "display(A_uv)\n",
    "display(B_u_v)"
   ]
  },
  {
   "cell_type": "code",
   "execution_count": 45,
   "id": "30d17d42-0b04-4643-ad12-036071e6c2b4",
   "metadata": {},
   "outputs": [],
   "source": [
    "def christoffel_x_vector(V,metric_einsteinpy,sp_symbols, vector_is_covariant):\n",
    "    # The given metric must be a einsteinpy object not a tensor!\n",
    "\n",
    "    dim=len(sp_symbols)\n",
    "\n",
    "    # Compute Christoffel Symbols for the given metric\n",
    "    ch_sym = ChristoffelSymbols.from_metric(metric_einsteinpy)\n",
    "    \n",
    "    # Christoffel symbol array (with lower indices)\n",
    "    T_uv_h = ch_sym.tensor()\n",
    "\n",
    "\n",
    "\n",
    "    if vector_is_covariant:\n",
    "        # Initialize matrices A and B\n",
    "        A_uv = sp.zeros(dim, dim)  # A_{uv} matrix (4x4)\n",
    "        \n",
    "        # Perform the matrix multiplication for A_uv = T_{uv}^h * V_h\n",
    "        for u in range(dim):\n",
    "            for v in range(dim):\n",
    "                A_uv[u, v] = sum(T_uv_h[h,u,v] * V[h] for h in range(dim)) #first index is the upper index for christoffel symbol\n",
    "\n",
    "\n",
    "        return A_uv\n",
    "        \n",
    "    else:\n",
    "        # Initialize matrices A and B\n",
    "        B_u_v = sp.zeros(dim, dim)  # B_u^v matrix (4x4)\n",
    "        \n",
    "        \n",
    "        # Perform the matrix multiplication for B_u^v = T_{uh}^v * V^h\n",
    "        for u in range(dim):\n",
    "            for v in range(dim):\n",
    "                B_u_v[u, v] = sum(T_uv_h[v,u,h]  * V[h] for h in range(dim))\n",
    "\n",
    "        return B_u_v\n",
    "\n",
    "\n"
   ]
  },
  {
   "cell_type": "code",
   "execution_count": 46,
   "id": "e010082d-96e0-4fe9-8062-3dd1721f0eb7",
   "metadata": {},
   "outputs": [],
   "source": [
    "def covariant_derivative(V,metric_einsteinpy,sp_symbols, vector_is_covariant):\n",
    "\n",
    "    dim=len(sp_symbols)\n",
    "\n",
    "    #Initialize an empty matrix for partial derivatives\n",
    "    partial_matrix = sp.Matrix.zeros(dim,dim)\n",
    "    \n",
    "    #Compute the partial derivatives for all combinations\n",
    "    for i in range(dim):  # iterate over coordinates u^i\n",
    "        for j in range(dim):  # iterate over vector components V^v\n",
    "            partial_matrix[i, j] = sp.diff(V[j], sp_symbols[i])\n",
    "    \n",
    "\n",
    "    \n",
    "    ch_V=christoffel_x_vector(V,metric_einsteinpy,sp_symbols, vector_is_covariant)\n",
    "\n",
    "\n",
    "    if vector_is_covariant:\n",
    "\n",
    "        return partial_matrix-ch_V\n",
    "\n",
    "    else:\n",
    "\n",
    "        return partial_matrix+ch_V\n",
    "\n",
    "\n",
    "    \n",
    "    "
   ]
  },
  {
   "cell_type": "code",
   "execution_count": 47,
   "id": "95fcd867-ed77-402c-ad22-6fa57b66919e",
   "metadata": {},
   "outputs": [
    {
     "data": {
      "text/latex": [
       "$\\displaystyle \\left[\\begin{matrix}1 & \\frac{\\theta}{r}\\\\- r \\theta & 2\\end{matrix}\\right]$"
      ],
      "text/plain": [
       "Matrix([\n",
       "[       1, theta/r],\n",
       "[-r*theta,       2]])"
      ]
     },
     "metadata": {},
     "output_type": "display_data"
    },
    {
     "data": {
      "text/latex": [
       "$\\displaystyle \\left[\\begin{matrix}0 & - \\frac{2}{r}\\\\- \\frac{2}{r} & r\\end{matrix}\\right]$"
      ],
      "text/plain": [
       "Matrix([\n",
       "[   0, -2/r],\n",
       "[-2/r,    r]])"
      ]
     },
     "metadata": {},
     "output_type": "display_data"
    }
   ],
   "source": [
    "# Define the coordinates for 2D polar coordinates (r, theta)\n",
    "r, theta = sp.symbols('r theta')\n",
    "\n",
    "\n",
    "metric = [[0 for i in range(2)] for i in range(2)]\n",
    "metric[0][0] = 1\n",
    "metric[1][1] = r**2\n",
    "\n",
    "# Define the symbols array\n",
    "symbols = [r, theta]\n",
    "\n",
    "# Create a MetricTensor object\n",
    "m_obj = MetricTensor(metric, symbols)\n",
    "\n",
    "\n",
    "\n",
    "V_test = sp.Matrix([r,theta])\n",
    "\n",
    "test_contravariant=covariant_derivative(V_test,m_obj,symbols, vector_is_covariant=False)\n",
    "\n",
    "V_test = sp.Matrix([1,2])\n",
    "\n",
    "test_covariant=covariant_derivative(V_test,m_obj,symbols, vector_is_covariant=True)\n",
    "\n",
    "\n",
    "display(test_contravariant)\n",
    "\n",
    "display(test_covariant)"
   ]
  },
  {
   "cell_type": "markdown",
   "id": "ef9d6166-1d42-46d9-b414-42f58227e0e3",
   "metadata": {},
   "source": [
    "## Operating System"
   ]
  },
  {
   "cell_type": "markdown",
   "id": "5fe3a1cf-248c-40f5-927e-70a0e39c3d7c",
   "metadata": {
    "jp-MarkdownHeadingCollapsed": true
   },
   "source": [
    "### Functions"
   ]
  },
  {
   "cell_type": "code",
   "execution_count": 48,
   "id": "23c8a79f-105b-46a2-80bd-80e129569ae6",
   "metadata": {},
   "outputs": [],
   "source": [
    "def get_tetrahed(user_input_metric):\n",
    "    #The tetrahed is defined as in https://arxiv.org/abs/2404.03095\n",
    " \n",
    "    # Define the scalars A, B, C, and D\n",
    "    # Define the scalars with adjusted indices\n",
    "    A = g[9]\n",
    "    \n",
    "    B = -g[8]**2 + g[7] * g[9]\n",
    "    \n",
    "    C = (-g[4] * g[8]**2 - g[7] * g[6]**2 - g[9] * g[5]**2\n",
    "         + 2 * g[5] * g[6] * g[8] + g[4] * g[7] * g[9])\n",
    "    \n",
    "    \n",
    "    D = (g[1]**2 * g[8]**2 + g[2]**2 * g[6]**2 + g[3]**2 * g[5]**2\n",
    "         - g[7] * g[9] * g[1]**2 - g[4] * g[9] * g[2]**2 - g[4] * g[7] * g[3]**2\n",
    "         - g[0] * g[9] * g[5]**2 - g[0] * g[7] * g[6]**2 - g[0] * g[4] * g[8]**2\n",
    "         + 2 * g[9] * g[1] * g[2] * g[5] + 2 * g[7] * g[1] * g[3] * g[6]\n",
    "         + 2 * g[4] * g[2] * g[3] * g[8] + 2 * g[0] * g[5] * g[6] * g[8] \n",
    "         - 2 * g[1] * g[2] * g[6] * g[8] - 2 * g[1] * g[3] * g[5] * g[8]\n",
    "         - 2 * g[2] * g[3] * g[5] * g[6] + g[0] * g[4] * g[7] * g[9])\n",
    "    \n",
    "    \n",
    "    #note : (A,B,C,D) = (-,+,+,+)\n",
    "    \n",
    "    E_0 =(1 / sp.sqrt(-C * D)) * sp.Matrix([\n",
    "        C,   #here, first error of the paper, it's a +C not -C             \n",
    "         \n",
    "         g[1] * g[8]**2 + g[2] * g[5] * g[9] + g[3] * g[6] * g[7] - g[1] * g[7] * g[9] - g[2] * g[6] * g[8] - g[3] * g[5] * g[8],\n",
    "    \n",
    "        g[2] * g[6]**2 + g[1] * g[5] * g[9] + g[3] * g[4] * g[8] - g[1] * g[6] * g[8] - g[2] * g[4] * g[9] - g[3] * g[5] * g[6],\n",
    "    \n",
    "        g[3] * g[5]**2 + g[1] * g[6] * g[7] + g[2] * g[4] * g[8] - g[1] * g[5] * g[8] - g[2] * g[5] * g[6] - g[3] * g[4] * g[7]\n",
    "    \n",
    "    ])\n",
    "    \n",
    "    E_1=(1 / sp.sqrt(B*C)) * sp.Matrix([\n",
    "        0,                \n",
    "         \n",
    "        B,\n",
    "    \n",
    "        #g[5] * g[9] - g[6] * g[8], second error in the paper\n",
    "        -g[5] * g[9] + g[6] * g[8],\n",
    "    \n",
    "        g[5] * g[8] - g[6] * g[7]\n",
    "    \n",
    "    ])\n",
    "    \n",
    "    E_2=(1 / sp.sqrt(A*B)) * sp.Matrix([\n",
    "        0,                \n",
    "         \n",
    "        0,\n",
    "    \n",
    "        A,\n",
    "    \n",
    "        -g[8] \n",
    "    \n",
    "    ])\n",
    "    \n",
    "    E_3=(1 / sp.sqrt(A)) * sp.Matrix([\n",
    "        0,                \n",
    "         \n",
    "        0,\n",
    "    \n",
    "        0,\n",
    "    \n",
    "        1\n",
    "    \n",
    "    ])\n",
    "    \n",
    "    E_solution=matrix = sp.Matrix.hstack(E_0, E_1, E_2, E_3)\n",
    "    \n",
    "    \n",
    "    \n",
    "    E_0=sp.simplify(E_0.subs(user_input_metric))\n",
    "    E_1=sp.simplify(E_1.subs(user_input_metric))\n",
    "    E_2=sp.simplify(E_2.subs(user_input_metric))\n",
    "    E_3=sp.simplify(E_3.subs(user_input_metric))\n",
    "    \n",
    "    E_solution=sp.simplify(E_solution.subs(user_input_metric))\n",
    "\n",
    "    return E_0, E_1, E_2, E_3, E_solution\n",
    "        "
   ]
  },
  {
   "cell_type": "code",
   "execution_count": 112,
   "id": "773deaac-7447-4937-9913-c9a08503aaf6",
   "metadata": {},
   "outputs": [],
   "source": [
    "class Warp_drive:\n",
    "    def __init__(self, sp_symbols, function_substitutions, metric_from_user_input):\n",
    "        \"\"\"\n",
    "        Initializes a new Warp_drive object.\n",
    "        \n",
    "        :sp_symbols: List of symbols to represent spacetime coordinate.\n",
    "        \n",
    "        :function_substitutions. Dictionnary of sympy functions\n",
    "            example: {f:f_actual,v:v_actual}\n",
    "            f and v are the symbolic function depending on spacetime coordinates and f_actual \n",
    "            and v_actual are the actual functions expression.\n",
    "            \n",
    "        :metric_from_user_input: Dictionnary associating g1,g2,...,g9 the symbol of the metric \n",
    "        to the desired metric.\n",
    "        \n",
    "        \"\"\"\n",
    "        self.symbols = sp_symbols\n",
    "        self.f_subs = function_substitutions\n",
    "        self.user_input_metric = metric_from_user_input\n",
    "\n",
    "\n",
    "    def build_and_compute(self):\n",
    "       \n",
    "    \n",
    "        #Construct the template on which we are going to substitute user inputs\n",
    "        metric_symbol = sp.symbols('g1:11')\n",
    "    \n",
    "        metric_template = sp.Matrix([\n",
    "            [g[0], g[1], g[2], g[3]],\n",
    "            [g[1], g[4], g[5], g[6]],\n",
    "            [g[2], g[5], g[7], g[8]],\n",
    "            [g[3], g[6], g[8], g[9]]\n",
    "        ])\n",
    "    \n",
    "        \n",
    "    \n",
    "        # Update the template\n",
    "        Metric = metric_template.subs(self.user_input_metric)\n",
    "        \n",
    "        # Create a MetricTensor object that can be used with einsteinpy\n",
    "        m_obj = MetricTensor(sp.Array(Metric), self.symbols)\n",
    "    \n",
    "        #no need to compute the following quantity but they are available at this point\n",
    "        \n",
    "        # Compute Christoffel symbols\n",
    "        #ch = ChristoffelSymbols.from_metric(m_obj)\n",
    "        \n",
    "        # Compute Riemann Curvature Tensor\n",
    "        #riemann = RiemannCurvatureTensor.from_christoffels(ch)\n",
    "        \n",
    "        # Compute Ricci Tensor\n",
    "        #ricci = RicciTensor.from_riemann(riemann)\n",
    "        \n",
    "        # Compute Ricci Scalar\n",
    "        #ricci_scalar = RicciScalar.from_riccitensor(ricci)\n",
    "        \n",
    "        # Compute EinsteinTensor\n",
    "        einst = EinsteinTensor.from_metric(m_obj)\n",
    "        #we go back to sympy object\n",
    "        Einstein_tensor=einst.tensor() \n",
    "        Tuv=sp.simplify(sp.Matrix(Einstein_tensor)) #mind that the unit are not yet correct\n",
    "    \n",
    "        self.Metric=Metric\n",
    "        self.Tuv=Tuv\n",
    "    \n",
    "        print(\"Einstein tensor computed.\")#############################################################################\n",
    "    \n",
    "    \n",
    "        #Get tetrahed\n",
    "        E_0, E_1, E_2, E_3, E_solution = get_tetrahed(self.user_input_metric)\n",
    "    \n",
    "        # The tetrahed corresponding to the local observer whose 4-velocity vector is orthogonal \n",
    "        # to constant time hypersurface. \n",
    "    \n",
    "        print(\"Tetrahed computed.\")####################################################################################\n",
    "        \n",
    "    \n",
    "        #compute Tu^v^, the energy-momentum tensor from the perspective of a local observer \n",
    "        Tuv_ref=sp.simplify((E_solution.T)*Tuv*E_solution)\n",
    "    \n",
    "        self.Tuv_ref=Tuv_ref\n",
    "        \n",
    "        #NEC ====================================================================\n",
    "        \n",
    "        # Define symbolic variables theta and psi\n",
    "        theta, psi = sp.symbols('theta psi')\n",
    "        \n",
    "        # Define the parametric null-vector (1, sin(theta)*cos(psi), sin(theta)*sin(psi), cos(theta)) \n",
    "        ku = sp.Matrix([\n",
    "            1,\n",
    "            sp.sin(theta) * sp.cos(psi),\n",
    "            sp.sin(theta) * sp.sin(psi),\n",
    "            sp.cos(theta)\n",
    "        ])\n",
    "        \n",
    "        NEC=ku.T*Tuv_ref*ku\n",
    "        NEC=NEC[0,0] #conversion from matrix (1,1) to scalar\n",
    "    \n",
    "        self.NEC=NEC\n",
    "        \n",
    "        #WEC ====================================================================\n",
    "        \n",
    "        # Define the rapidities\n",
    "        eta_1, eta_2, eta_3 = sp.symbols('eta_1 eta_2 eta_3')\n",
    "        \n",
    "        # Define the hyperbolic functions\n",
    "        cosh_1, sinh_1 = sp.cosh(eta_1), sp.sinh(eta_1)\n",
    "        cosh_2, sinh_2 = sp.cosh(eta_2), sp.sinh(eta_2)\n",
    "        cosh_3, sinh_3 = sp.cosh(eta_3), sp.sinh(eta_3)\n",
    "        \n",
    "        # Lorentz boost in the x-direction (eta_1)\n",
    "        Lambda_1 = sp.Matrix([\n",
    "            [cosh_1, -sinh_1, 0, 0],\n",
    "            [-sinh_1, cosh_1, 0, 0],\n",
    "            [0, 0, 1, 0],\n",
    "            [0, 0, 0, 1]\n",
    "        ])\n",
    "        \n",
    "        # Lorentz boost in the y-direction (eta_2)\n",
    "        Lambda_2 = sp.Matrix([\n",
    "            [cosh_2, 0, -sinh_2, 0],\n",
    "            [0, 1, 0, 0],\n",
    "            [-sinh_2, 0, cosh_2, 0],\n",
    "            [0, 0, 0, 1]\n",
    "        ])\n",
    "        \n",
    "        # Lorentz boost in the z-direction (eta_3)\n",
    "        Lambda_3 = sp.Matrix([\n",
    "            [cosh_3, 0, 0, -sinh_3],\n",
    "            [0, 1, 0, 0],\n",
    "            [0, 0, 1, 0],\n",
    "            [-sinh_3, 0, 0, cosh_3]\n",
    "        ])\n",
    "        \n",
    "        # Define the parametric time-vector\n",
    "        Uu=sp.Matrix([1,0,0,0])\n",
    "        Uu=Lambda_1*Lambda_2*Lambda_3*Uu\n",
    "        \n",
    "        WEC=Uu.T*Tuv_ref*Uu\n",
    "        WEC=WEC[0,0]\n",
    "    \n",
    "        self.WEC=WEC\n",
    "        \n",
    "        #SEC ====================================================================\n",
    "        minkowski=sp.Matrix([\n",
    "            [-1, 0, 0, 0],\n",
    "            [0, 1, 0, 0],\n",
    "            [0, 0, 1, 0],\n",
    "            [0, 0, 0, 1]\n",
    "        ])\n",
    "        \n",
    "        \n",
    "        trace_Tuv_ref=-Tuv_ref[0,0]+Tuv_ref[1,1]+Tuv_ref[2,2]+Tuv_ref[3,3]\n",
    "        \n",
    "        SEC=Uu.T*(Tuv_ref-0.5*(trace_Tuv_ref)*minkowski)*Uu\n",
    "        SEC=SEC[0,0]\n",
    "    \n",
    "        self.SEC=SEC\n",
    "        \n",
    "        #DEC ====================================================================\n",
    "        \n",
    "        minkowski_inv=minkowski\n",
    "        \n",
    "        energy_flow=-minkowski_inv*Tuv_ref*Uu\n",
    "    \n",
    "        #the original dominant energy condition\n",
    "        DEC_intern=energy_flow.T*minkowski*energy_flow\n",
    "        DEC_intern=DEC_intern[0,0]\n",
    "    \n",
    "        #we define the dominant energy condition as in https://arxiv.org/abs/2404.03095 to make it comparable to other energy conditions\n",
    "        DEC= -sp.sign(DEC_intern) * sp.sqrt(sp.Abs(DEC_intern))\n",
    "    \n",
    "        self.DEC=DEC\n",
    "        \n",
    "        print(\"Energy conditions computed.\")###########################################################################\n",
    "        \n",
    "    \n",
    "        #note that in this section, the quantities computed are not expressed in the standard units yet\n",
    "    \n",
    "        \n",
    "        #Momentum ===============================================================\n",
    "        momentum=Tuv_ref[1:,0]\n",
    "        \n",
    "        self.Momentum=momentum\n",
    "        \n",
    "        #Metric scalar ==========================================================\n",
    "    \n",
    "        #4-velocity vector\n",
    "        Uu=E_0\n",
    "        \n",
    "        U_u=Metric*Uu\n",
    "        \n",
    "        Metric_inv=Metric.inv()\n",
    "        \n",
    "        P_uv = Metric + U_u*U_u.T\n",
    "    \n",
    "        Du_Uv=covariant_derivative(U_u,m_obj,self.symbols, vector_is_covariant=True)\n",
    "    \n",
    "    \n",
    "        \n",
    "        Pa_u = sp.zeros(4, 4)\n",
    "        \n",
    "        for a in range(4):\n",
    "            for u in range(4):\n",
    "                Pa_u[a,u] = sum(Metric_inv[a,b] * P_uv[b,u] for b in range(4))\n",
    "        Pb_v = Pa_u.copy()\n",
    "        \n",
    "    \n",
    "        \n",
    "        A_av = sp.zeros(4, 4)\n",
    "    \n",
    "        for a in range(4):\n",
    "            for v in range(4):\n",
    "                A_av[a, v] = sum(Pb_v[b,v] * Du_Uv[a,b] for b in range(4))\n",
    "    \n",
    "    \n",
    "        \n",
    "        B_uv = sp.zeros(4, 4)\n",
    "    \n",
    "        for u in range(4):\n",
    "            for v in range(4):\n",
    "                B_uv[u,v] = sum(Pa_u[a,u] * A_av[a,v] for a in range(4))\n",
    "    \n",
    "        \n",
    "    \n",
    "    \n",
    "        expansion_uv=B_uv+B_uv.T\n",
    "        expansion_scalar=sp.simplify(sum(Metric_inv[u,v] * expansion_uv[u,v] for u in range(4) for v in range(4)))\n",
    "        self.expansion_scalar=expansion_scalar\n",
    "    \n",
    "        \n",
    "        shear_uv=expansion_uv-expansion_scalar*P_uv/3\n",
    "        shear_uv_up = Metric_inv * shear_uv * Metric_inv\n",
    "        shear_scalar = sp.simplify(sp.sqrt(1/2*sp.simplify(sum(shear_uv[u,v] * shear_uv_up[u,v] for u in range(4) for v in range(4)))))\n",
    "        self.shear_scalar=shear_scalar\n",
    "    \n",
    "    \n",
    "        \n",
    "        vorticity_uv=B_uv-B_uv.T\n",
    "        vorticity_uv_up = Metric_inv * vorticity_uv * Metric_inv\n",
    "        vorticity_scalar = sp.simplify(sp.sqrt(1/2*sp.simplify(sum(vorticity_uv[u,v] * vorticity_uv_up[u,v] for u in range(4) for v in range(4)))))\n",
    "        self.vorticity_scalar=vorticity_scalar\n",
    "        \n",
    "    \n",
    "        \n",
    "        print(\"Metric scalar computed.\")###########################################################################\n",
    "    \n",
    "    \n",
    "        #Extrinsic Curvature\n",
    "    \n",
    "    \n",
    "        #convert metric to 3+1 formalism\n",
    "        #first we need to establish what alpha beta gamma are in terms of g1,g2,g3,...\n",
    "        \n",
    "        # Define the 3+1 variables\n",
    "        alpha, beta1, beta2, beta3 = sp.symbols('alpha beta1 beta2 beta3')\n",
    "        gamma11, gamma12, gamma13 = sp.symbols('gamma11 gamma12 gamma13')\n",
    "        gamma22, gamma23 = sp.symbols('gamma22 gamma23')\n",
    "        gamma33 = sp.symbols('gamma33')\n",
    "        \n",
    "        Gamma=sp.Matrix([\n",
    "            [gamma11, gamma12, gamma13],\n",
    "            [gamma12, gamma22, gamma23],\n",
    "            [gamma13, gamma23, gamma33]\n",
    "        ])\n",
    "        \n",
    "        beta_vector = sp.Matrix([beta1, beta2, beta3])\n",
    "        \n",
    "        \n",
    "        # Compute the covariant components beta_i\n",
    "        beta_covariant = sp.simplify(Gamma.inv()) * beta_vector\n",
    "        \n",
    "        # Compute beta^i * beta_i\n",
    "        beta_dot_beta = sp.simplify(beta_vector.dot(beta_covariant))\n",
    "        \n",
    "        \n",
    "        \n",
    "        # Those several substitutions allow to obtain alpha beta gamma are in terms of g1,g2,g3,...\n",
    "        substitution_step1= {\n",
    "            beta1:g[1],\n",
    "            beta2:g[2],\n",
    "            beta3:g[3],\n",
    "            gamma11:g[4],\n",
    "            gamma12:g[5],\n",
    "            gamma13:g[6],\n",
    "            gamma22:g[7],\n",
    "            gamma23:g[8],\n",
    "            gamma33:g[9]\n",
    "        }\n",
    "        \n",
    "        substitution_step2= {\n",
    "            alpha:sp.sqrt(-g[0]+beta_dot_beta.subs(substitution_step1))\n",
    "        }\n",
    "        \n",
    "        substitution_3_1_form= substitution_step1 | substitution_step2\n",
    "        \n",
    "        \n",
    "        \n",
    "        #compute Kij and its scalar\n",
    "        symbols_3=self.symbols[1:] #we take only spatial coordinate into accounts to compute Kij\n",
    "        \n",
    "        \n",
    "        metric_3=Gamma.subs(substitution_3_1_form).subs(self.user_input_metric)\n",
    "        metric_3_einsteinpy = MetricTensor(sp.Array(metric_3), symbols_3)\n",
    "        \n",
    "        DiBj=covariant_derivative(beta_vector.subs(substitution_3_1_form).subs(self.user_input_metric),metric_3_einsteinpy,symbols_3, vector_is_covariant=True)\n",
    "        \n",
    "        #Kij=(1/2α) * (∇ i βj + ∇ j βi - ∂/∂t γij )\n",
    "        Kij=sp.simplify(1/(2*alpha.subs(substitution_3_1_form).subs(self.user_input_metric))*(DiBj+DiBj.T-sp.diff(metric_3,self.symbols[0])))\n",
    "        \n",
    "        K=sp.simplify(-alpha.subs(substitution_3_1_form).subs(self.user_input_metric)*sum(metric_3.inv()[i,j]* Kij[i,j] for i in range(3) for j in range(3)))\n",
    "    \n",
    "    \n",
    "        self.alpha=sp.simplify(alpha.subs(substitution_3_1_form).subs(self.user_input_metric))\n",
    "        self.beta1=beta1.subs(substitution_3_1_form).subs(self.user_input_metric)\n",
    "        self.beta2=beta2.subs(substitution_3_1_form).subs(self.user_input_metric)\n",
    "        self.beta3=beta3.subs(substitution_3_1_form).subs(self.user_input_metric)\n",
    "        self.beta_beta=beta_dot_beta.subs(substitution_3_1_form).subs(self.user_input_metric)\n",
    "        self.Gamma=Gamma.subs(substitution_3_1_form).subs(self.user_input_metric)\n",
    "    \n",
    "        self.K=K\n",
    "        \n",
    "        \n",
    "    \n",
    "        print(\"Extrinsic curvature computed.\")###########################################################################\n",
    "    \n",
    "        \n",
    "\n",
    "    def greet(self):\n",
    "        \"\"\"\n",
    "        Prints a greeting message \n",
    "        \"\"\"\n",
    "        print(f\"Hello, this is a test.\")\n",
    "\n",
    "   "
   ]
  },
  {
   "cell_type": "code",
   "execution_count": 113,
   "id": "7a60f58a-2b22-4edd-9fef-af01823e0369",
   "metadata": {},
   "outputs": [],
   "source": [
    "#Numerical Evaluation\n",
    "\n",
    "\n",
    "#to display\n",
    "\n",
    "#beta1,2,3 [unit = 1]\n",
    "#gamma matrix [unit = 1]\n",
    "#alpha [unit = 1]\n",
    "#T^^ for n0 (conversion needed) [unit = J m^-3]\n",
    "#T^^ for minimum values among all observer (conversion needed) [unit = J m^-3]\n",
    "#stress scalar (might be the same as expansion scalar) [unit = J m^-3]\n",
    "#shear scalar [unit = m^-1]\n",
    "#vorticity scalar [unit = m^-1]\n",
    "#K scalar [unit = m^-1]\n",
    "#Momentum flow (conversion needed with extra /c to go back to momentum)  [unit = kg m s^-1 m^-3]\n",
    "#expansion scalar [unit = m^-1]\n",
    "#NEC (conversion needed) [unit = J m^-3]\n",
    "#WEC (conversion needed) [unit = J m^-3]\n",
    "#SEC (conversion needed) [unit = J m^-3]\n",
    "#DEC (conversion needed) [unit = J m^-3]\n",
    "\n",
    "\n",
    "\n",
    "gravity_const=6.6743*1e-11\n",
    "c_speed_const=299792458\n",
    "pi_8=8*np.pi\n",
    "physical_energy_conversion=c_speed_const**4/pi_8/gravity_const\n",
    "physical_momentum_conversion=physical_energy_conversion/c_speed_const\n",
    "\n",
    "#additional notes:\n",
    "#   time must be given in distance (thus multiply by c).\n",
    "#   R = 1/m^2\n",
    "#   g=1\n",
    "#   Tuv = c^4/8piG = J/m^3\n",
    "\n",
    "\n",
    "    \n",
    "    \n",
    "    \n",
    "    \n",
    "\n",
    "\n",
    "   \n",
    "\n",
    "    "
   ]
  },
  {
   "cell_type": "markdown",
   "id": "8037e315-5c30-4f2b-8233-2d061412972e",
   "metadata": {
    "jp-MarkdownHeadingCollapsed": true
   },
   "source": [
    "### Workflow "
   ]
  },
  {
   "cell_type": "code",
   "execution_count": 114,
   "id": "88b5b44c-e214-48be-bb97-404e0fc98e73",
   "metadata": {},
   "outputs": [
    {
     "name": "stdout",
     "output_type": "stream",
     "text": [
      "Einstein tensor computed.\n",
      "Tetrahed computed.\n",
      "Energy conditions computed.\n",
      "Metric scalar computed.\n",
      "Extrinsic curvature computed.\n"
     ]
    }
   ],
   "source": [
    "##################################################### USER INPUT ########################################################\n",
    "\n",
    "\n",
    "# Define substitutions for the new variables\n",
    "\n",
    "t,x,y,z = sp.symbols('t x y z')\n",
    "symbols = [t,x,y,z] #IMPORTANT first symbol must be time\n",
    "\n",
    "# Define the functions to be input in the metric\n",
    "v = sp.Function('v')(t)\n",
    "f = sp.Function('f')(t, x, y, z)\n",
    "\n",
    "f_subs={}\n",
    "\n",
    "#user input metric using symbol\n",
    "user_input_metric = {\n",
    "    g[0]: -1 + v**2*f**2,\n",
    "    g[1]: -v*f,\n",
    "    g[2]: 0,\n",
    "    g[3]: 0,\n",
    "    g[4]: 1,\n",
    "    g[5]: 0,\n",
    "    g[6]: 0,\n",
    "    g[7]: 1,\n",
    "    g[8]: 0,\n",
    "    g[9]: 1   \n",
    "}\n",
    "\n",
    "##########################################################################################################################\n",
    "\n",
    "\n",
    "warp_test=Warp_drive(symbols, f_subs, user_input_metric)\n",
    "warp_test.build_and_compute()"
   ]
  },
  {
   "cell_type": "code",
   "execution_count": 115,
   "id": "78ea6405-c1da-432a-b5b9-37c3539f3fca",
   "metadata": {},
   "outputs": [
    {
     "data": {
      "text/latex": [
       "$\\displaystyle \\left[\\begin{matrix}f^{2}{\\left(t,x,y,z \\right)} v^{2}{\\left(t \\right)} - 1 & - f{\\left(t,x,y,z \\right)} v{\\left(t \\right)} & 0 & 0\\\\- f{\\left(t,x,y,z \\right)} v{\\left(t \\right)} & 1 & 0 & 0\\\\0 & 0 & 1 & 0\\\\0 & 0 & 0 & 1\\end{matrix}\\right]$"
      ],
      "text/plain": [
       "Matrix([\n",
       "[f(t, x, y, z)**2*v(t)**2 - 1, -f(t, x, y, z)*v(t), 0, 0],\n",
       "[         -f(t, x, y, z)*v(t),                   1, 0, 0],\n",
       "[                           0,                   0, 1, 0],\n",
       "[                           0,                   0, 0, 1]])"
      ]
     },
     "metadata": {},
     "output_type": "display_data"
    }
   ],
   "source": [
    "display(warp_test.Metric)"
   ]
  },
  {
   "cell_type": "code",
   "execution_count": 116,
   "id": "b7715787-ce84-4116-acc8-e2c3e7e8ff3a",
   "metadata": {},
   "outputs": [
    {
     "data": {
      "text/latex": [
       "$\\displaystyle \\left[\\begin{matrix}\\left(- 0.75 f^{2}{\\left(t,x,y,z \\right)} v^{2}{\\left(t \\right)} \\left(\\frac{\\partial}{\\partial y} f{\\left(t,x,y,z \\right)}\\right)^{2} - 0.75 f^{2}{\\left(t,x,y,z \\right)} v^{2}{\\left(t \\right)} \\left(\\frac{\\partial}{\\partial z} f{\\left(t,x,y,z \\right)}\\right)^{2} - 1.0 f{\\left(t,x,y,z \\right)} \\frac{\\partial^{2}}{\\partial y^{2}} f{\\left(t,x,y,z \\right)} - 1.0 f{\\left(t,x,y,z \\right)} \\frac{\\partial^{2}}{\\partial z^{2}} f{\\left(t,x,y,z \\right)} - 0.25 \\left(\\frac{\\partial}{\\partial y} f{\\left(t,x,y,z \\right)}\\right)^{2} - 0.25 \\left(\\frac{\\partial}{\\partial z} f{\\left(t,x,y,z \\right)}\\right)^{2}\\right) v^{2}{\\left(t \\right)} & \\left(0.75 f{\\left(t,x,y,z \\right)} v^{2}{\\left(t \\right)} \\left(\\frac{\\partial}{\\partial y} f{\\left(t,x,y,z \\right)}\\right)^{2} + 0.75 f{\\left(t,x,y,z \\right)} v^{2}{\\left(t \\right)} \\left(\\frac{\\partial}{\\partial z} f{\\left(t,x,y,z \\right)}\\right)^{2} + 0.5 \\frac{\\partial^{2}}{\\partial y^{2}} f{\\left(t,x,y,z \\right)} + 0.5 \\frac{\\partial^{2}}{\\partial z^{2}} f{\\left(t,x,y,z \\right)}\\right) v{\\left(t \\right)} & - \\frac{\\left(f^{2}{\\left(t,x,y,z \\right)} v^{2}{\\left(t \\right)} \\frac{\\partial^{2}}{\\partial y\\partial x} f{\\left(t,x,y,z \\right)} + 2 f{\\left(t,x,y,z \\right)} v^{2}{\\left(t \\right)} \\frac{\\partial}{\\partial x} f{\\left(t,x,y,z \\right)} \\frac{\\partial}{\\partial y} f{\\left(t,x,y,z \\right)} + f{\\left(t,x,y,z \\right)} v{\\left(t \\right)} \\frac{\\partial^{2}}{\\partial y\\partial t} f{\\left(t,x,y,z \\right)} + f{\\left(t,x,y,z \\right)} \\frac{\\partial}{\\partial y} f{\\left(t,x,y,z \\right)} \\frac{d}{d t} v{\\left(t \\right)} + \\frac{\\partial^{2}}{\\partial y\\partial x} f{\\left(t,x,y,z \\right)}\\right) v{\\left(t \\right)}}{2} & - \\frac{\\left(f^{2}{\\left(t,x,y,z \\right)} v^{2}{\\left(t \\right)} \\frac{\\partial^{2}}{\\partial z\\partial x} f{\\left(t,x,y,z \\right)} + 2 f{\\left(t,x,y,z \\right)} v^{2}{\\left(t \\right)} \\frac{\\partial}{\\partial x} f{\\left(t,x,y,z \\right)} \\frac{\\partial}{\\partial z} f{\\left(t,x,y,z \\right)} + f{\\left(t,x,y,z \\right)} v{\\left(t \\right)} \\frac{\\partial^{2}}{\\partial z\\partial t} f{\\left(t,x,y,z \\right)} + f{\\left(t,x,y,z \\right)} \\frac{\\partial}{\\partial z} f{\\left(t,x,y,z \\right)} \\frac{d}{d t} v{\\left(t \\right)} + \\frac{\\partial^{2}}{\\partial z\\partial x} f{\\left(t,x,y,z \\right)}\\right) v{\\left(t \\right)}}{2}\\\\\\left(0.75 f{\\left(t,x,y,z \\right)} v^{2}{\\left(t \\right)} \\left(\\frac{\\partial}{\\partial y} f{\\left(t,x,y,z \\right)}\\right)^{2} + 0.75 f{\\left(t,x,y,z \\right)} v^{2}{\\left(t \\right)} \\left(\\frac{\\partial}{\\partial z} f{\\left(t,x,y,z \\right)}\\right)^{2} + 0.5 \\frac{\\partial^{2}}{\\partial y^{2}} f{\\left(t,x,y,z \\right)} + 0.5 \\frac{\\partial^{2}}{\\partial z^{2}} f{\\left(t,x,y,z \\right)}\\right) v{\\left(t \\right)} & 0.75 \\left(- \\left(\\frac{\\partial}{\\partial y} f{\\left(t,x,y,z \\right)}\\right)^{2} - \\left(\\frac{\\partial}{\\partial z} f{\\left(t,x,y,z \\right)}\\right)^{2}\\right) v^{2}{\\left(t \\right)} & \\frac{f{\\left(t,x,y,z \\right)} v^{2}{\\left(t \\right)} \\frac{\\partial^{2}}{\\partial y\\partial x} f{\\left(t,x,y,z \\right)}}{2} + v^{2}{\\left(t \\right)} \\frac{\\partial}{\\partial x} f{\\left(t,x,y,z \\right)} \\frac{\\partial}{\\partial y} f{\\left(t,x,y,z \\right)} + \\frac{v{\\left(t \\right)} \\frac{\\partial^{2}}{\\partial y\\partial t} f{\\left(t,x,y,z \\right)}}{2} + \\frac{\\frac{\\partial}{\\partial y} f{\\left(t,x,y,z \\right)} \\frac{d}{d t} v{\\left(t \\right)}}{2} & \\frac{f{\\left(t,x,y,z \\right)} v^{2}{\\left(t \\right)} \\frac{\\partial^{2}}{\\partial z\\partial x} f{\\left(t,x,y,z \\right)}}{2} + v^{2}{\\left(t \\right)} \\frac{\\partial}{\\partial x} f{\\left(t,x,y,z \\right)} \\frac{\\partial}{\\partial z} f{\\left(t,x,y,z \\right)} + \\frac{v{\\left(t \\right)} \\frac{\\partial^{2}}{\\partial z\\partial t} f{\\left(t,x,y,z \\right)}}{2} + \\frac{\\frac{\\partial}{\\partial z} f{\\left(t,x,y,z \\right)} \\frac{d}{d t} v{\\left(t \\right)}}{2}\\\\- \\frac{\\left(f^{2}{\\left(t,x,y,z \\right)} v^{2}{\\left(t \\right)} \\frac{\\partial^{2}}{\\partial y\\partial x} f{\\left(t,x,y,z \\right)} + 2 f{\\left(t,x,y,z \\right)} v^{2}{\\left(t \\right)} \\frac{\\partial}{\\partial x} f{\\left(t,x,y,z \\right)} \\frac{\\partial}{\\partial y} f{\\left(t,x,y,z \\right)} + f{\\left(t,x,y,z \\right)} v{\\left(t \\right)} \\frac{\\partial^{2}}{\\partial y\\partial t} f{\\left(t,x,y,z \\right)} + f{\\left(t,x,y,z \\right)} \\frac{\\partial}{\\partial y} f{\\left(t,x,y,z \\right)} \\frac{d}{d t} v{\\left(t \\right)} + \\frac{\\partial^{2}}{\\partial y\\partial x} f{\\left(t,x,y,z \\right)}\\right) v{\\left(t \\right)}}{2} & \\frac{f{\\left(t,x,y,z \\right)} v^{2}{\\left(t \\right)} \\frac{\\partial^{2}}{\\partial y\\partial x} f{\\left(t,x,y,z \\right)}}{2} + v^{2}{\\left(t \\right)} \\frac{\\partial}{\\partial x} f{\\left(t,x,y,z \\right)} \\frac{\\partial}{\\partial y} f{\\left(t,x,y,z \\right)} + \\frac{v{\\left(t \\right)} \\frac{\\partial^{2}}{\\partial y\\partial t} f{\\left(t,x,y,z \\right)}}{2} + \\frac{\\frac{\\partial}{\\partial y} f{\\left(t,x,y,z \\right)} \\frac{d}{d t} v{\\left(t \\right)}}{2} & - 1.0 f{\\left(t,x,y,z \\right)} v^{2}{\\left(t \\right)} \\frac{\\partial^{2}}{\\partial x^{2}} f{\\left(t,x,y,z \\right)} - 1.0 v^{2}{\\left(t \\right)} \\left(\\frac{\\partial}{\\partial x} f{\\left(t,x,y,z \\right)}\\right)^{2} + 0.25 v^{2}{\\left(t \\right)} \\left(\\frac{\\partial}{\\partial y} f{\\left(t,x,y,z \\right)}\\right)^{2} - 0.25 v^{2}{\\left(t \\right)} \\left(\\frac{\\partial}{\\partial z} f{\\left(t,x,y,z \\right)}\\right)^{2} - 1.0 v{\\left(t \\right)} \\frac{\\partial^{2}}{\\partial x\\partial t} f{\\left(t,x,y,z \\right)} - 1.0 \\frac{\\partial}{\\partial x} f{\\left(t,x,y,z \\right)} \\frac{d}{d t} v{\\left(t \\right)} & \\frac{v^{2}{\\left(t \\right)} \\frac{\\partial}{\\partial y} f{\\left(t,x,y,z \\right)} \\frac{\\partial}{\\partial z} f{\\left(t,x,y,z \\right)}}{2}\\\\- \\frac{\\left(f^{2}{\\left(t,x,y,z \\right)} v^{2}{\\left(t \\right)} \\frac{\\partial^{2}}{\\partial z\\partial x} f{\\left(t,x,y,z \\right)} + 2 f{\\left(t,x,y,z \\right)} v^{2}{\\left(t \\right)} \\frac{\\partial}{\\partial x} f{\\left(t,x,y,z \\right)} \\frac{\\partial}{\\partial z} f{\\left(t,x,y,z \\right)} + f{\\left(t,x,y,z \\right)} v{\\left(t \\right)} \\frac{\\partial^{2}}{\\partial z\\partial t} f{\\left(t,x,y,z \\right)} + f{\\left(t,x,y,z \\right)} \\frac{\\partial}{\\partial z} f{\\left(t,x,y,z \\right)} \\frac{d}{d t} v{\\left(t \\right)} + \\frac{\\partial^{2}}{\\partial z\\partial x} f{\\left(t,x,y,z \\right)}\\right) v{\\left(t \\right)}}{2} & \\frac{f{\\left(t,x,y,z \\right)} v^{2}{\\left(t \\right)} \\frac{\\partial^{2}}{\\partial z\\partial x} f{\\left(t,x,y,z \\right)}}{2} + v^{2}{\\left(t \\right)} \\frac{\\partial}{\\partial x} f{\\left(t,x,y,z \\right)} \\frac{\\partial}{\\partial z} f{\\left(t,x,y,z \\right)} + \\frac{v{\\left(t \\right)} \\frac{\\partial^{2}}{\\partial z\\partial t} f{\\left(t,x,y,z \\right)}}{2} + \\frac{\\frac{\\partial}{\\partial z} f{\\left(t,x,y,z \\right)} \\frac{d}{d t} v{\\left(t \\right)}}{2} & \\frac{v^{2}{\\left(t \\right)} \\frac{\\partial}{\\partial y} f{\\left(t,x,y,z \\right)} \\frac{\\partial}{\\partial z} f{\\left(t,x,y,z \\right)}}{2} & - 1.0 f{\\left(t,x,y,z \\right)} v^{2}{\\left(t \\right)} \\frac{\\partial^{2}}{\\partial x^{2}} f{\\left(t,x,y,z \\right)} - 1.0 v^{2}{\\left(t \\right)} \\left(\\frac{\\partial}{\\partial x} f{\\left(t,x,y,z \\right)}\\right)^{2} - 0.25 v^{2}{\\left(t \\right)} \\left(\\frac{\\partial}{\\partial y} f{\\left(t,x,y,z \\right)}\\right)^{2} + 0.25 v^{2}{\\left(t \\right)} \\left(\\frac{\\partial}{\\partial z} f{\\left(t,x,y,z \\right)}\\right)^{2} - 1.0 v{\\left(t \\right)} \\frac{\\partial^{2}}{\\partial x\\partial t} f{\\left(t,x,y,z \\right)} - 1.0 \\frac{\\partial}{\\partial x} f{\\left(t,x,y,z \\right)} \\frac{d}{d t} v{\\left(t \\right)}\\end{matrix}\\right]$"
      ],
      "text/plain": [
       "Matrix([\n",
       "[(-0.75*f(t, x, y, z)**2*v(t)**2*Derivative(f(t, x, y, z), y)**2 - 0.75*f(t, x, y, z)**2*v(t)**2*Derivative(f(t, x, y, z), z)**2 - 1.0*f(t, x, y, z)*Derivative(f(t, x, y, z), (y, 2)) - 1.0*f(t, x, y, z)*Derivative(f(t, x, y, z), (z, 2)) - 0.25*Derivative(f(t, x, y, z), y)**2 - 0.25*Derivative(f(t, x, y, z), z)**2)*v(t)**2,            (0.75*f(t, x, y, z)*v(t)**2*Derivative(f(t, x, y, z), y)**2 + 0.75*f(t, x, y, z)*v(t)**2*Derivative(f(t, x, y, z), z)**2 + 0.5*Derivative(f(t, x, y, z), (y, 2)) + 0.5*Derivative(f(t, x, y, z), (z, 2)))*v(t), -(f(t, x, y, z)**2*v(t)**2*Derivative(f(t, x, y, z), x, y) + 2*f(t, x, y, z)*v(t)**2*Derivative(f(t, x, y, z), x)*Derivative(f(t, x, y, z), y) + f(t, x, y, z)*v(t)*Derivative(f(t, x, y, z), t, y) + f(t, x, y, z)*Derivative(f(t, x, y, z), y)*Derivative(v(t), t) + Derivative(f(t, x, y, z), x, y))*v(t)/2, -(f(t, x, y, z)**2*v(t)**2*Derivative(f(t, x, y, z), x, z) + 2*f(t, x, y, z)*v(t)**2*Derivative(f(t, x, y, z), x)*Derivative(f(t, x, y, z), z) + f(t, x, y, z)*v(t)*Derivative(f(t, x, y, z), t, z) + f(t, x, y, z)*Derivative(f(t, x, y, z), z)*Derivative(v(t), t) + Derivative(f(t, x, y, z), x, z))*v(t)/2],\n",
       "[                                                                                                                    (0.75*f(t, x, y, z)*v(t)**2*Derivative(f(t, x, y, z), y)**2 + 0.75*f(t, x, y, z)*v(t)**2*Derivative(f(t, x, y, z), z)**2 + 0.5*Derivative(f(t, x, y, z), (y, 2)) + 0.5*Derivative(f(t, x, y, z), (z, 2)))*v(t),                                                                                                                                         0.75*(-Derivative(f(t, x, y, z), y)**2 - Derivative(f(t, x, y, z), z)**2)*v(t)**2,                                                                                      f(t, x, y, z)*v(t)**2*Derivative(f(t, x, y, z), x, y)/2 + v(t)**2*Derivative(f(t, x, y, z), x)*Derivative(f(t, x, y, z), y) + v(t)*Derivative(f(t, x, y, z), t, y)/2 + Derivative(f(t, x, y, z), y)*Derivative(v(t), t)/2,                                                                                      f(t, x, y, z)*v(t)**2*Derivative(f(t, x, y, z), x, z)/2 + v(t)**2*Derivative(f(t, x, y, z), x)*Derivative(f(t, x, y, z), z) + v(t)*Derivative(f(t, x, y, z), t, z)/2 + Derivative(f(t, x, y, z), z)*Derivative(v(t), t)/2],\n",
       "[                    -(f(t, x, y, z)**2*v(t)**2*Derivative(f(t, x, y, z), x, y) + 2*f(t, x, y, z)*v(t)**2*Derivative(f(t, x, y, z), x)*Derivative(f(t, x, y, z), y) + f(t, x, y, z)*v(t)*Derivative(f(t, x, y, z), t, y) + f(t, x, y, z)*Derivative(f(t, x, y, z), y)*Derivative(v(t), t) + Derivative(f(t, x, y, z), x, y))*v(t)/2, f(t, x, y, z)*v(t)**2*Derivative(f(t, x, y, z), x, y)/2 + v(t)**2*Derivative(f(t, x, y, z), x)*Derivative(f(t, x, y, z), y) + v(t)*Derivative(f(t, x, y, z), t, y)/2 + Derivative(f(t, x, y, z), y)*Derivative(v(t), t)/2,     -1.0*f(t, x, y, z)*v(t)**2*Derivative(f(t, x, y, z), (x, 2)) - 1.0*v(t)**2*Derivative(f(t, x, y, z), x)**2 + 0.25*v(t)**2*Derivative(f(t, x, y, z), y)**2 - 0.25*v(t)**2*Derivative(f(t, x, y, z), z)**2 - 1.0*v(t)*Derivative(f(t, x, y, z), t, x) - 1.0*Derivative(f(t, x, y, z), x)*Derivative(v(t), t),                                                                                                                                                                                                                                            v(t)**2*Derivative(f(t, x, y, z), y)*Derivative(f(t, x, y, z), z)/2],\n",
       "[                    -(f(t, x, y, z)**2*v(t)**2*Derivative(f(t, x, y, z), x, z) + 2*f(t, x, y, z)*v(t)**2*Derivative(f(t, x, y, z), x)*Derivative(f(t, x, y, z), z) + f(t, x, y, z)*v(t)*Derivative(f(t, x, y, z), t, z) + f(t, x, y, z)*Derivative(f(t, x, y, z), z)*Derivative(v(t), t) + Derivative(f(t, x, y, z), x, z))*v(t)/2, f(t, x, y, z)*v(t)**2*Derivative(f(t, x, y, z), x, z)/2 + v(t)**2*Derivative(f(t, x, y, z), x)*Derivative(f(t, x, y, z), z) + v(t)*Derivative(f(t, x, y, z), t, z)/2 + Derivative(f(t, x, y, z), z)*Derivative(v(t), t)/2,                                                                                                                                                                                                                                            v(t)**2*Derivative(f(t, x, y, z), y)*Derivative(f(t, x, y, z), z)/2,     -1.0*f(t, x, y, z)*v(t)**2*Derivative(f(t, x, y, z), (x, 2)) - 1.0*v(t)**2*Derivative(f(t, x, y, z), x)**2 - 0.25*v(t)**2*Derivative(f(t, x, y, z), y)**2 + 0.25*v(t)**2*Derivative(f(t, x, y, z), z)**2 - 1.0*v(t)*Derivative(f(t, x, y, z), t, x) - 1.0*Derivative(f(t, x, y, z), x)*Derivative(v(t), t)]])"
      ]
     },
     "metadata": {},
     "output_type": "display_data"
    }
   ],
   "source": [
    "display(warp_test.Tuv)"
   ]
  },
  {
   "cell_type": "code",
   "execution_count": 117,
   "id": "613a32ec-6c8d-4409-8e61-3225d422843b",
   "metadata": {},
   "outputs": [
    {
     "data": {
      "text/latex": [
       "$\\displaystyle \\left[\\begin{matrix}0.25 \\left(- \\left(\\frac{\\partial}{\\partial y} f{\\left(t,x,y,z \\right)}\\right)^{2} - \\left(\\frac{\\partial}{\\partial z} f{\\left(t,x,y,z \\right)}\\right)^{2}\\right) v^{2}{\\left(t \\right)} & 0.5 \\left(\\frac{\\partial^{2}}{\\partial y^{2}} f{\\left(t,x,y,z \\right)} + \\frac{\\partial^{2}}{\\partial z^{2}} f{\\left(t,x,y,z \\right)}\\right) v{\\left(t \\right)} & - \\frac{v{\\left(t \\right)} \\frac{\\partial^{2}}{\\partial y\\partial x} f{\\left(t,x,y,z \\right)}}{2} & - \\frac{v{\\left(t \\right)} \\frac{\\partial^{2}}{\\partial z\\partial x} f{\\left(t,x,y,z \\right)}}{2}\\\\0.5 \\left(\\frac{\\partial^{2}}{\\partial y^{2}} f{\\left(t,x,y,z \\right)} + \\frac{\\partial^{2}}{\\partial z^{2}} f{\\left(t,x,y,z \\right)}\\right) v{\\left(t \\right)} & 0.75 \\left(- \\left(\\frac{\\partial}{\\partial y} f{\\left(t,x,y,z \\right)}\\right)^{2} - \\left(\\frac{\\partial}{\\partial z} f{\\left(t,x,y,z \\right)}\\right)^{2}\\right) v^{2}{\\left(t \\right)} & \\frac{f{\\left(t,x,y,z \\right)} v^{2}{\\left(t \\right)} \\frac{\\partial^{2}}{\\partial y\\partial x} f{\\left(t,x,y,z \\right)}}{2} + v^{2}{\\left(t \\right)} \\frac{\\partial}{\\partial x} f{\\left(t,x,y,z \\right)} \\frac{\\partial}{\\partial y} f{\\left(t,x,y,z \\right)} + \\frac{v{\\left(t \\right)} \\frac{\\partial^{2}}{\\partial y\\partial t} f{\\left(t,x,y,z \\right)}}{2} + \\frac{\\frac{\\partial}{\\partial y} f{\\left(t,x,y,z \\right)} \\frac{d}{d t} v{\\left(t \\right)}}{2} & \\frac{f{\\left(t,x,y,z \\right)} v^{2}{\\left(t \\right)} \\frac{\\partial^{2}}{\\partial z\\partial x} f{\\left(t,x,y,z \\right)}}{2} + v^{2}{\\left(t \\right)} \\frac{\\partial}{\\partial x} f{\\left(t,x,y,z \\right)} \\frac{\\partial}{\\partial z} f{\\left(t,x,y,z \\right)} + \\frac{v{\\left(t \\right)} \\frac{\\partial^{2}}{\\partial z\\partial t} f{\\left(t,x,y,z \\right)}}{2} + \\frac{\\frac{\\partial}{\\partial z} f{\\left(t,x,y,z \\right)} \\frac{d}{d t} v{\\left(t \\right)}}{2}\\\\- \\frac{v{\\left(t \\right)} \\frac{\\partial^{2}}{\\partial y\\partial x} f{\\left(t,x,y,z \\right)}}{2} & \\frac{f{\\left(t,x,y,z \\right)} v^{2}{\\left(t \\right)} \\frac{\\partial^{2}}{\\partial y\\partial x} f{\\left(t,x,y,z \\right)}}{2} + v^{2}{\\left(t \\right)} \\frac{\\partial}{\\partial x} f{\\left(t,x,y,z \\right)} \\frac{\\partial}{\\partial y} f{\\left(t,x,y,z \\right)} + \\frac{v{\\left(t \\right)} \\frac{\\partial^{2}}{\\partial y\\partial t} f{\\left(t,x,y,z \\right)}}{2} + \\frac{\\frac{\\partial}{\\partial y} f{\\left(t,x,y,z \\right)} \\frac{d}{d t} v{\\left(t \\right)}}{2} & - 1.0 f{\\left(t,x,y,z \\right)} v^{2}{\\left(t \\right)} \\frac{\\partial^{2}}{\\partial x^{2}} f{\\left(t,x,y,z \\right)} - 1.0 v^{2}{\\left(t \\right)} \\left(\\frac{\\partial}{\\partial x} f{\\left(t,x,y,z \\right)}\\right)^{2} + 0.25 v^{2}{\\left(t \\right)} \\left(\\frac{\\partial}{\\partial y} f{\\left(t,x,y,z \\right)}\\right)^{2} - 0.25 v^{2}{\\left(t \\right)} \\left(\\frac{\\partial}{\\partial z} f{\\left(t,x,y,z \\right)}\\right)^{2} - 1.0 v{\\left(t \\right)} \\frac{\\partial^{2}}{\\partial x\\partial t} f{\\left(t,x,y,z \\right)} - 1.0 \\frac{\\partial}{\\partial x} f{\\left(t,x,y,z \\right)} \\frac{d}{d t} v{\\left(t \\right)} & \\frac{v^{2}{\\left(t \\right)} \\frac{\\partial}{\\partial y} f{\\left(t,x,y,z \\right)} \\frac{\\partial}{\\partial z} f{\\left(t,x,y,z \\right)}}{2}\\\\- \\frac{v{\\left(t \\right)} \\frac{\\partial^{2}}{\\partial z\\partial x} f{\\left(t,x,y,z \\right)}}{2} & \\frac{f{\\left(t,x,y,z \\right)} v^{2}{\\left(t \\right)} \\frac{\\partial^{2}}{\\partial z\\partial x} f{\\left(t,x,y,z \\right)}}{2} + v^{2}{\\left(t \\right)} \\frac{\\partial}{\\partial x} f{\\left(t,x,y,z \\right)} \\frac{\\partial}{\\partial z} f{\\left(t,x,y,z \\right)} + \\frac{v{\\left(t \\right)} \\frac{\\partial^{2}}{\\partial z\\partial t} f{\\left(t,x,y,z \\right)}}{2} + \\frac{\\frac{\\partial}{\\partial z} f{\\left(t,x,y,z \\right)} \\frac{d}{d t} v{\\left(t \\right)}}{2} & \\frac{v^{2}{\\left(t \\right)} \\frac{\\partial}{\\partial y} f{\\left(t,x,y,z \\right)} \\frac{\\partial}{\\partial z} f{\\left(t,x,y,z \\right)}}{2} & - 1.0 f{\\left(t,x,y,z \\right)} v^{2}{\\left(t \\right)} \\frac{\\partial^{2}}{\\partial x^{2}} f{\\left(t,x,y,z \\right)} - 1.0 v^{2}{\\left(t \\right)} \\left(\\frac{\\partial}{\\partial x} f{\\left(t,x,y,z \\right)}\\right)^{2} - 0.25 v^{2}{\\left(t \\right)} \\left(\\frac{\\partial}{\\partial y} f{\\left(t,x,y,z \\right)}\\right)^{2} + 0.25 v^{2}{\\left(t \\right)} \\left(\\frac{\\partial}{\\partial z} f{\\left(t,x,y,z \\right)}\\right)^{2} - 1.0 v{\\left(t \\right)} \\frac{\\partial^{2}}{\\partial x\\partial t} f{\\left(t,x,y,z \\right)} - 1.0 \\frac{\\partial}{\\partial x} f{\\left(t,x,y,z \\right)} \\frac{d}{d t} v{\\left(t \\right)}\\end{matrix}\\right]$"
      ],
      "text/plain": [
       "Matrix([\n",
       "[0.25*(-Derivative(f(t, x, y, z), y)**2 - Derivative(f(t, x, y, z), z)**2)*v(t)**2,                                                                                                                                          0.5*(Derivative(f(t, x, y, z), (y, 2)) + Derivative(f(t, x, y, z), (z, 2)))*v(t),                                                                                                                                                                                                                                                                    -v(t)*Derivative(f(t, x, y, z), x, y)/2,                                                                                                                                                                                                                                                                    -v(t)*Derivative(f(t, x, y, z), x, z)/2],\n",
       "[ 0.5*(Derivative(f(t, x, y, z), (y, 2)) + Derivative(f(t, x, y, z), (z, 2)))*v(t),                                                                                                                                         0.75*(-Derivative(f(t, x, y, z), y)**2 - Derivative(f(t, x, y, z), z)**2)*v(t)**2,                                                                                  f(t, x, y, z)*v(t)**2*Derivative(f(t, x, y, z), x, y)/2 + v(t)**2*Derivative(f(t, x, y, z), x)*Derivative(f(t, x, y, z), y) + v(t)*Derivative(f(t, x, y, z), t, y)/2 + Derivative(f(t, x, y, z), y)*Derivative(v(t), t)/2,                                                                                  f(t, x, y, z)*v(t)**2*Derivative(f(t, x, y, z), x, z)/2 + v(t)**2*Derivative(f(t, x, y, z), x)*Derivative(f(t, x, y, z), z) + v(t)*Derivative(f(t, x, y, z), t, z)/2 + Derivative(f(t, x, y, z), z)*Derivative(v(t), t)/2],\n",
       "[                                          -v(t)*Derivative(f(t, x, y, z), x, y)/2, f(t, x, y, z)*v(t)**2*Derivative(f(t, x, y, z), x, y)/2 + v(t)**2*Derivative(f(t, x, y, z), x)*Derivative(f(t, x, y, z), y) + v(t)*Derivative(f(t, x, y, z), t, y)/2 + Derivative(f(t, x, y, z), y)*Derivative(v(t), t)/2, -1.0*f(t, x, y, z)*v(t)**2*Derivative(f(t, x, y, z), (x, 2)) - 1.0*v(t)**2*Derivative(f(t, x, y, z), x)**2 + 0.25*v(t)**2*Derivative(f(t, x, y, z), y)**2 - 0.25*v(t)**2*Derivative(f(t, x, y, z), z)**2 - 1.0*v(t)*Derivative(f(t, x, y, z), t, x) - 1.0*Derivative(f(t, x, y, z), x)*Derivative(v(t), t),                                                                                                                                                                                                                                        v(t)**2*Derivative(f(t, x, y, z), y)*Derivative(f(t, x, y, z), z)/2],\n",
       "[                                          -v(t)*Derivative(f(t, x, y, z), x, z)/2, f(t, x, y, z)*v(t)**2*Derivative(f(t, x, y, z), x, z)/2 + v(t)**2*Derivative(f(t, x, y, z), x)*Derivative(f(t, x, y, z), z) + v(t)*Derivative(f(t, x, y, z), t, z)/2 + Derivative(f(t, x, y, z), z)*Derivative(v(t), t)/2,                                                                                                                                                                                                                                        v(t)**2*Derivative(f(t, x, y, z), y)*Derivative(f(t, x, y, z), z)/2, -1.0*f(t, x, y, z)*v(t)**2*Derivative(f(t, x, y, z), (x, 2)) - 1.0*v(t)**2*Derivative(f(t, x, y, z), x)**2 - 0.25*v(t)**2*Derivative(f(t, x, y, z), y)**2 + 0.25*v(t)**2*Derivative(f(t, x, y, z), z)**2 - 1.0*v(t)*Derivative(f(t, x, y, z), t, x) - 1.0*Derivative(f(t, x, y, z), x)*Derivative(v(t), t)]])"
      ]
     },
     "metadata": {},
     "output_type": "display_data"
    }
   ],
   "source": [
    "display(warp_test.Tuv_ref)"
   ]
  },
  {
   "cell_type": "code",
   "execution_count": 118,
   "id": "875fc4d1-fa4d-456c-9781-67aaa3cbba51",
   "metadata": {},
   "outputs": [
    {
     "data": {
      "text/latex": [
       "$\\displaystyle 0.25 \\left(- \\left(\\frac{\\partial}{\\partial y} f{\\left(t,x,y,z \\right)}\\right)^{2} - \\left(\\frac{\\partial}{\\partial z} f{\\left(t,x,y,z \\right)}\\right)^{2}\\right) v^{2}{\\left(t \\right)} + 0.5 \\left(\\frac{\\partial^{2}}{\\partial y^{2}} f{\\left(t,x,y,z \\right)} + \\frac{\\partial^{2}}{\\partial z^{2}} f{\\left(t,x,y,z \\right)}\\right) v{\\left(t \\right)} \\sin{\\left(\\theta \\right)} \\cos{\\left(\\psi \\right)} + \\left(\\left(\\frac{f{\\left(t,x,y,z \\right)} v^{2}{\\left(t \\right)} \\frac{\\partial^{2}}{\\partial y\\partial x} f{\\left(t,x,y,z \\right)}}{2} + v^{2}{\\left(t \\right)} \\frac{\\partial}{\\partial x} f{\\left(t,x,y,z \\right)} \\frac{\\partial}{\\partial y} f{\\left(t,x,y,z \\right)} + \\frac{v{\\left(t \\right)} \\frac{\\partial^{2}}{\\partial y\\partial t} f{\\left(t,x,y,z \\right)}}{2} + \\frac{\\frac{\\partial}{\\partial y} f{\\left(t,x,y,z \\right)} \\frac{d}{d t} v{\\left(t \\right)}}{2}\\right) \\sin{\\left(\\theta \\right)} \\cos{\\left(\\psi \\right)} + \\left(- 1.0 f{\\left(t,x,y,z \\right)} v^{2}{\\left(t \\right)} \\frac{\\partial^{2}}{\\partial x^{2}} f{\\left(t,x,y,z \\right)} - 1.0 v^{2}{\\left(t \\right)} \\left(\\frac{\\partial}{\\partial x} f{\\left(t,x,y,z \\right)}\\right)^{2} + 0.25 v^{2}{\\left(t \\right)} \\left(\\frac{\\partial}{\\partial y} f{\\left(t,x,y,z \\right)}\\right)^{2} - 0.25 v^{2}{\\left(t \\right)} \\left(\\frac{\\partial}{\\partial z} f{\\left(t,x,y,z \\right)}\\right)^{2} - 1.0 v{\\left(t \\right)} \\frac{\\partial^{2}}{\\partial x\\partial t} f{\\left(t,x,y,z \\right)} - 1.0 \\frac{\\partial}{\\partial x} f{\\left(t,x,y,z \\right)} \\frac{d}{d t} v{\\left(t \\right)}\\right) \\sin{\\left(\\psi \\right)} \\sin{\\left(\\theta \\right)} + \\frac{v^{2}{\\left(t \\right)} \\cos{\\left(\\theta \\right)} \\frac{\\partial}{\\partial y} f{\\left(t,x,y,z \\right)} \\frac{\\partial}{\\partial z} f{\\left(t,x,y,z \\right)}}{2} - \\frac{v{\\left(t \\right)} \\frac{\\partial^{2}}{\\partial y\\partial x} f{\\left(t,x,y,z \\right)}}{2}\\right) \\sin{\\left(\\psi \\right)} \\sin{\\left(\\theta \\right)} + \\left(\\left(\\frac{f{\\left(t,x,y,z \\right)} v^{2}{\\left(t \\right)} \\frac{\\partial^{2}}{\\partial z\\partial x} f{\\left(t,x,y,z \\right)}}{2} + v^{2}{\\left(t \\right)} \\frac{\\partial}{\\partial x} f{\\left(t,x,y,z \\right)} \\frac{\\partial}{\\partial z} f{\\left(t,x,y,z \\right)} + \\frac{v{\\left(t \\right)} \\frac{\\partial^{2}}{\\partial z\\partial t} f{\\left(t,x,y,z \\right)}}{2} + \\frac{\\frac{\\partial}{\\partial z} f{\\left(t,x,y,z \\right)} \\frac{d}{d t} v{\\left(t \\right)}}{2}\\right) \\sin{\\left(\\theta \\right)} \\cos{\\left(\\psi \\right)} + \\left(- 1.0 f{\\left(t,x,y,z \\right)} v^{2}{\\left(t \\right)} \\frac{\\partial^{2}}{\\partial x^{2}} f{\\left(t,x,y,z \\right)} - 1.0 v^{2}{\\left(t \\right)} \\left(\\frac{\\partial}{\\partial x} f{\\left(t,x,y,z \\right)}\\right)^{2} - 0.25 v^{2}{\\left(t \\right)} \\left(\\frac{\\partial}{\\partial y} f{\\left(t,x,y,z \\right)}\\right)^{2} + 0.25 v^{2}{\\left(t \\right)} \\left(\\frac{\\partial}{\\partial z} f{\\left(t,x,y,z \\right)}\\right)^{2} - 1.0 v{\\left(t \\right)} \\frac{\\partial^{2}}{\\partial x\\partial t} f{\\left(t,x,y,z \\right)} - 1.0 \\frac{\\partial}{\\partial x} f{\\left(t,x,y,z \\right)} \\frac{d}{d t} v{\\left(t \\right)}\\right) \\cos{\\left(\\theta \\right)} + \\frac{v^{2}{\\left(t \\right)} \\sin{\\left(\\psi \\right)} \\sin{\\left(\\theta \\right)} \\frac{\\partial}{\\partial y} f{\\left(t,x,y,z \\right)} \\frac{\\partial}{\\partial z} f{\\left(t,x,y,z \\right)}}{2} - \\frac{v{\\left(t \\right)} \\frac{\\partial^{2}}{\\partial z\\partial x} f{\\left(t,x,y,z \\right)}}{2}\\right) \\cos{\\left(\\theta \\right)} + \\left(0.75 \\left(- \\left(\\frac{\\partial}{\\partial y} f{\\left(t,x,y,z \\right)}\\right)^{2} - \\left(\\frac{\\partial}{\\partial z} f{\\left(t,x,y,z \\right)}\\right)^{2}\\right) v^{2}{\\left(t \\right)} \\sin{\\left(\\theta \\right)} \\cos{\\left(\\psi \\right)} + 0.5 \\left(\\frac{\\partial^{2}}{\\partial y^{2}} f{\\left(t,x,y,z \\right)} + \\frac{\\partial^{2}}{\\partial z^{2}} f{\\left(t,x,y,z \\right)}\\right) v{\\left(t \\right)} + \\left(\\frac{f{\\left(t,x,y,z \\right)} v^{2}{\\left(t \\right)} \\frac{\\partial^{2}}{\\partial y\\partial x} f{\\left(t,x,y,z \\right)}}{2} + v^{2}{\\left(t \\right)} \\frac{\\partial}{\\partial x} f{\\left(t,x,y,z \\right)} \\frac{\\partial}{\\partial y} f{\\left(t,x,y,z \\right)} + \\frac{v{\\left(t \\right)} \\frac{\\partial^{2}}{\\partial y\\partial t} f{\\left(t,x,y,z \\right)}}{2} + \\frac{\\frac{\\partial}{\\partial y} f{\\left(t,x,y,z \\right)} \\frac{d}{d t} v{\\left(t \\right)}}{2}\\right) \\sin{\\left(\\psi \\right)} \\sin{\\left(\\theta \\right)} + \\left(\\frac{f{\\left(t,x,y,z \\right)} v^{2}{\\left(t \\right)} \\frac{\\partial^{2}}{\\partial z\\partial x} f{\\left(t,x,y,z \\right)}}{2} + v^{2}{\\left(t \\right)} \\frac{\\partial}{\\partial x} f{\\left(t,x,y,z \\right)} \\frac{\\partial}{\\partial z} f{\\left(t,x,y,z \\right)} + \\frac{v{\\left(t \\right)} \\frac{\\partial^{2}}{\\partial z\\partial t} f{\\left(t,x,y,z \\right)}}{2} + \\frac{\\frac{\\partial}{\\partial z} f{\\left(t,x,y,z \\right)} \\frac{d}{d t} v{\\left(t \\right)}}{2}\\right) \\cos{\\left(\\theta \\right)}\\right) \\sin{\\left(\\theta \\right)} \\cos{\\left(\\psi \\right)} - \\frac{v{\\left(t \\right)} \\sin{\\left(\\psi \\right)} \\sin{\\left(\\theta \\right)} \\frac{\\partial^{2}}{\\partial y\\partial x} f{\\left(t,x,y,z \\right)}}{2} - \\frac{v{\\left(t \\right)} \\cos{\\left(\\theta \\right)} \\frac{\\partial^{2}}{\\partial z\\partial x} f{\\left(t,x,y,z \\right)}}{2}$"
      ],
      "text/plain": [
       "0.25*(-Derivative(f(t, x, y, z), y)**2 - Derivative(f(t, x, y, z), z)**2)*v(t)**2 + 0.5*(Derivative(f(t, x, y, z), (y, 2)) + Derivative(f(t, x, y, z), (z, 2)))*v(t)*sin(theta)*cos(psi) + ((f(t, x, y, z)*v(t)**2*Derivative(f(t, x, y, z), x, y)/2 + v(t)**2*Derivative(f(t, x, y, z), x)*Derivative(f(t, x, y, z), y) + v(t)*Derivative(f(t, x, y, z), t, y)/2 + Derivative(f(t, x, y, z), y)*Derivative(v(t), t)/2)*sin(theta)*cos(psi) + (-1.0*f(t, x, y, z)*v(t)**2*Derivative(f(t, x, y, z), (x, 2)) - 1.0*v(t)**2*Derivative(f(t, x, y, z), x)**2 + 0.25*v(t)**2*Derivative(f(t, x, y, z), y)**2 - 0.25*v(t)**2*Derivative(f(t, x, y, z), z)**2 - 1.0*v(t)*Derivative(f(t, x, y, z), t, x) - 1.0*Derivative(f(t, x, y, z), x)*Derivative(v(t), t))*sin(psi)*sin(theta) + v(t)**2*cos(theta)*Derivative(f(t, x, y, z), y)*Derivative(f(t, x, y, z), z)/2 - v(t)*Derivative(f(t, x, y, z), x, y)/2)*sin(psi)*sin(theta) + ((f(t, x, y, z)*v(t)**2*Derivative(f(t, x, y, z), x, z)/2 + v(t)**2*Derivative(f(t, x, y, z), x)*Derivative(f(t, x, y, z), z) + v(t)*Derivative(f(t, x, y, z), t, z)/2 + Derivative(f(t, x, y, z), z)*Derivative(v(t), t)/2)*sin(theta)*cos(psi) + (-1.0*f(t, x, y, z)*v(t)**2*Derivative(f(t, x, y, z), (x, 2)) - 1.0*v(t)**2*Derivative(f(t, x, y, z), x)**2 - 0.25*v(t)**2*Derivative(f(t, x, y, z), y)**2 + 0.25*v(t)**2*Derivative(f(t, x, y, z), z)**2 - 1.0*v(t)*Derivative(f(t, x, y, z), t, x) - 1.0*Derivative(f(t, x, y, z), x)*Derivative(v(t), t))*cos(theta) + v(t)**2*sin(psi)*sin(theta)*Derivative(f(t, x, y, z), y)*Derivative(f(t, x, y, z), z)/2 - v(t)*Derivative(f(t, x, y, z), x, z)/2)*cos(theta) + (0.75*(-Derivative(f(t, x, y, z), y)**2 - Derivative(f(t, x, y, z), z)**2)*v(t)**2*sin(theta)*cos(psi) + 0.5*(Derivative(f(t, x, y, z), (y, 2)) + Derivative(f(t, x, y, z), (z, 2)))*v(t) + (f(t, x, y, z)*v(t)**2*Derivative(f(t, x, y, z), x, y)/2 + v(t)**2*Derivative(f(t, x, y, z), x)*Derivative(f(t, x, y, z), y) + v(t)*Derivative(f(t, x, y, z), t, y)/2 + Derivative(f(t, x, y, z), y)*Derivative(v(t), t)/2)*sin(psi)*sin(theta) + (f(t, x, y, z)*v(t)**2*Derivative(f(t, x, y, z), x, z)/2 + v(t)**2*Derivative(f(t, x, y, z), x)*Derivative(f(t, x, y, z), z) + v(t)*Derivative(f(t, x, y, z), t, z)/2 + Derivative(f(t, x, y, z), z)*Derivative(v(t), t)/2)*cos(theta))*sin(theta)*cos(psi) - v(t)*sin(psi)*sin(theta)*Derivative(f(t, x, y, z), x, y)/2 - v(t)*cos(theta)*Derivative(f(t, x, y, z), x, z)/2"
      ]
     },
     "metadata": {},
     "output_type": "display_data"
    }
   ],
   "source": [
    "display(warp_test.NEC)"
   ]
  },
  {
   "cell_type": "code",
   "execution_count": 119,
   "id": "8c2670f3-cb5d-4b90-a5d4-23ef170752dd",
   "metadata": {},
   "outputs": [
    {
     "data": {
      "text/latex": [
       "$\\displaystyle - \\left(- \\left(\\frac{f{\\left(t,x,y,z \\right)} v^{2}{\\left(t \\right)} \\frac{\\partial^{2}}{\\partial y\\partial x} f{\\left(t,x,y,z \\right)}}{2} + v^{2}{\\left(t \\right)} \\frac{\\partial}{\\partial x} f{\\left(t,x,y,z \\right)} \\frac{\\partial}{\\partial y} f{\\left(t,x,y,z \\right)} + \\frac{v{\\left(t \\right)} \\frac{\\partial^{2}}{\\partial y\\partial t} f{\\left(t,x,y,z \\right)}}{2} + \\frac{\\frac{\\partial}{\\partial y} f{\\left(t,x,y,z \\right)} \\frac{d}{d t} v{\\left(t \\right)}}{2}\\right) \\sinh{\\left(\\eta_{1} \\right)} \\cosh{\\left(\\eta_{2} \\right)} \\cosh{\\left(\\eta_{3} \\right)} - \\left(- 1.0 f{\\left(t,x,y,z \\right)} v^{2}{\\left(t \\right)} \\frac{\\partial^{2}}{\\partial x^{2}} f{\\left(t,x,y,z \\right)} - 1.0 v^{2}{\\left(t \\right)} \\left(\\frac{\\partial}{\\partial x} f{\\left(t,x,y,z \\right)}\\right)^{2} + 0.25 v^{2}{\\left(t \\right)} \\left(\\frac{\\partial}{\\partial y} f{\\left(t,x,y,z \\right)}\\right)^{2} - 0.25 v^{2}{\\left(t \\right)} \\left(\\frac{\\partial}{\\partial z} f{\\left(t,x,y,z \\right)}\\right)^{2} - 1.0 v{\\left(t \\right)} \\frac{\\partial^{2}}{\\partial x\\partial t} f{\\left(t,x,y,z \\right)} - 1.0 \\frac{\\partial}{\\partial x} f{\\left(t,x,y,z \\right)} \\frac{d}{d t} v{\\left(t \\right)}\\right) \\sinh{\\left(\\eta_{2} \\right)} \\cosh{\\left(\\eta_{3} \\right)} - \\frac{v^{2}{\\left(t \\right)} \\sinh{\\left(\\eta_{3} \\right)} \\frac{\\partial}{\\partial y} f{\\left(t,x,y,z \\right)} \\frac{\\partial}{\\partial z} f{\\left(t,x,y,z \\right)}}{2} - \\frac{v{\\left(t \\right)} \\cosh{\\left(\\eta_{1} \\right)} \\cosh{\\left(\\eta_{2} \\right)} \\cosh{\\left(\\eta_{3} \\right)} \\frac{\\partial^{2}}{\\partial y\\partial x} f{\\left(t,x,y,z \\right)}}{2}\\right) \\sinh{\\left(\\eta_{2} \\right)} \\cosh{\\left(\\eta_{3} \\right)} - \\left(- \\left(\\frac{f{\\left(t,x,y,z \\right)} v^{2}{\\left(t \\right)} \\frac{\\partial^{2}}{\\partial z\\partial x} f{\\left(t,x,y,z \\right)}}{2} + v^{2}{\\left(t \\right)} \\frac{\\partial}{\\partial x} f{\\left(t,x,y,z \\right)} \\frac{\\partial}{\\partial z} f{\\left(t,x,y,z \\right)} + \\frac{v{\\left(t \\right)} \\frac{\\partial^{2}}{\\partial z\\partial t} f{\\left(t,x,y,z \\right)}}{2} + \\frac{\\frac{\\partial}{\\partial z} f{\\left(t,x,y,z \\right)} \\frac{d}{d t} v{\\left(t \\right)}}{2}\\right) \\sinh{\\left(\\eta_{1} \\right)} \\cosh{\\left(\\eta_{2} \\right)} \\cosh{\\left(\\eta_{3} \\right)} - \\left(- 1.0 f{\\left(t,x,y,z \\right)} v^{2}{\\left(t \\right)} \\frac{\\partial^{2}}{\\partial x^{2}} f{\\left(t,x,y,z \\right)} - 1.0 v^{2}{\\left(t \\right)} \\left(\\frac{\\partial}{\\partial x} f{\\left(t,x,y,z \\right)}\\right)^{2} - 0.25 v^{2}{\\left(t \\right)} \\left(\\frac{\\partial}{\\partial y} f{\\left(t,x,y,z \\right)}\\right)^{2} + 0.25 v^{2}{\\left(t \\right)} \\left(\\frac{\\partial}{\\partial z} f{\\left(t,x,y,z \\right)}\\right)^{2} - 1.0 v{\\left(t \\right)} \\frac{\\partial^{2}}{\\partial x\\partial t} f{\\left(t,x,y,z \\right)} - 1.0 \\frac{\\partial}{\\partial x} f{\\left(t,x,y,z \\right)} \\frac{d}{d t} v{\\left(t \\right)}\\right) \\sinh{\\left(\\eta_{3} \\right)} - \\frac{v^{2}{\\left(t \\right)} \\sinh{\\left(\\eta_{2} \\right)} \\cosh{\\left(\\eta_{3} \\right)} \\frac{\\partial}{\\partial y} f{\\left(t,x,y,z \\right)} \\frac{\\partial}{\\partial z} f{\\left(t,x,y,z \\right)}}{2} - \\frac{v{\\left(t \\right)} \\cosh{\\left(\\eta_{1} \\right)} \\cosh{\\left(\\eta_{2} \\right)} \\cosh{\\left(\\eta_{3} \\right)} \\frac{\\partial^{2}}{\\partial z\\partial x} f{\\left(t,x,y,z \\right)}}{2}\\right) \\sinh{\\left(\\eta_{3} \\right)} - \\left(- 0.75 \\left(- \\left(\\frac{\\partial}{\\partial y} f{\\left(t,x,y,z \\right)}\\right)^{2} - \\left(\\frac{\\partial}{\\partial z} f{\\left(t,x,y,z \\right)}\\right)^{2}\\right) v^{2}{\\left(t \\right)} \\sinh{\\left(\\eta_{1} \\right)} \\cosh{\\left(\\eta_{2} \\right)} \\cosh{\\left(\\eta_{3} \\right)} + 0.5 \\left(\\frac{\\partial^{2}}{\\partial y^{2}} f{\\left(t,x,y,z \\right)} + \\frac{\\partial^{2}}{\\partial z^{2}} f{\\left(t,x,y,z \\right)}\\right) v{\\left(t \\right)} \\cosh{\\left(\\eta_{1} \\right)} \\cosh{\\left(\\eta_{2} \\right)} \\cosh{\\left(\\eta_{3} \\right)} - \\left(\\frac{f{\\left(t,x,y,z \\right)} v^{2}{\\left(t \\right)} \\frac{\\partial^{2}}{\\partial y\\partial x} f{\\left(t,x,y,z \\right)}}{2} + v^{2}{\\left(t \\right)} \\frac{\\partial}{\\partial x} f{\\left(t,x,y,z \\right)} \\frac{\\partial}{\\partial y} f{\\left(t,x,y,z \\right)} + \\frac{v{\\left(t \\right)} \\frac{\\partial^{2}}{\\partial y\\partial t} f{\\left(t,x,y,z \\right)}}{2} + \\frac{\\frac{\\partial}{\\partial y} f{\\left(t,x,y,z \\right)} \\frac{d}{d t} v{\\left(t \\right)}}{2}\\right) \\sinh{\\left(\\eta_{2} \\right)} \\cosh{\\left(\\eta_{3} \\right)} - \\left(\\frac{f{\\left(t,x,y,z \\right)} v^{2}{\\left(t \\right)} \\frac{\\partial^{2}}{\\partial z\\partial x} f{\\left(t,x,y,z \\right)}}{2} + v^{2}{\\left(t \\right)} \\frac{\\partial}{\\partial x} f{\\left(t,x,y,z \\right)} \\frac{\\partial}{\\partial z} f{\\left(t,x,y,z \\right)} + \\frac{v{\\left(t \\right)} \\frac{\\partial^{2}}{\\partial z\\partial t} f{\\left(t,x,y,z \\right)}}{2} + \\frac{\\frac{\\partial}{\\partial z} f{\\left(t,x,y,z \\right)} \\frac{d}{d t} v{\\left(t \\right)}}{2}\\right) \\sinh{\\left(\\eta_{3} \\right)}\\right) \\sinh{\\left(\\eta_{1} \\right)} \\cosh{\\left(\\eta_{2} \\right)} \\cosh{\\left(\\eta_{3} \\right)} + \\left(0.25 \\left(- \\left(\\frac{\\partial}{\\partial y} f{\\left(t,x,y,z \\right)}\\right)^{2} - \\left(\\frac{\\partial}{\\partial z} f{\\left(t,x,y,z \\right)}\\right)^{2}\\right) v^{2}{\\left(t \\right)} \\cosh{\\left(\\eta_{1} \\right)} \\cosh{\\left(\\eta_{2} \\right)} \\cosh{\\left(\\eta_{3} \\right)} - 0.5 \\left(\\frac{\\partial^{2}}{\\partial y^{2}} f{\\left(t,x,y,z \\right)} + \\frac{\\partial^{2}}{\\partial z^{2}} f{\\left(t,x,y,z \\right)}\\right) v{\\left(t \\right)} \\sinh{\\left(\\eta_{1} \\right)} \\cosh{\\left(\\eta_{2} \\right)} \\cosh{\\left(\\eta_{3} \\right)} + \\frac{v{\\left(t \\right)} \\sinh{\\left(\\eta_{2} \\right)} \\cosh{\\left(\\eta_{3} \\right)} \\frac{\\partial^{2}}{\\partial y\\partial x} f{\\left(t,x,y,z \\right)}}{2} + \\frac{v{\\left(t \\right)} \\sinh{\\left(\\eta_{3} \\right)} \\frac{\\partial^{2}}{\\partial z\\partial x} f{\\left(t,x,y,z \\right)}}{2}\\right) \\cosh{\\left(\\eta_{1} \\right)} \\cosh{\\left(\\eta_{2} \\right)} \\cosh{\\left(\\eta_{3} \\right)}$"
      ],
      "text/plain": [
       "-(-(f(t, x, y, z)*v(t)**2*Derivative(f(t, x, y, z), x, y)/2 + v(t)**2*Derivative(f(t, x, y, z), x)*Derivative(f(t, x, y, z), y) + v(t)*Derivative(f(t, x, y, z), t, y)/2 + Derivative(f(t, x, y, z), y)*Derivative(v(t), t)/2)*sinh(eta_1)*cosh(eta_2)*cosh(eta_3) - (-1.0*f(t, x, y, z)*v(t)**2*Derivative(f(t, x, y, z), (x, 2)) - 1.0*v(t)**2*Derivative(f(t, x, y, z), x)**2 + 0.25*v(t)**2*Derivative(f(t, x, y, z), y)**2 - 0.25*v(t)**2*Derivative(f(t, x, y, z), z)**2 - 1.0*v(t)*Derivative(f(t, x, y, z), t, x) - 1.0*Derivative(f(t, x, y, z), x)*Derivative(v(t), t))*sinh(eta_2)*cosh(eta_3) - v(t)**2*sinh(eta_3)*Derivative(f(t, x, y, z), y)*Derivative(f(t, x, y, z), z)/2 - v(t)*cosh(eta_1)*cosh(eta_2)*cosh(eta_3)*Derivative(f(t, x, y, z), x, y)/2)*sinh(eta_2)*cosh(eta_3) - (-(f(t, x, y, z)*v(t)**2*Derivative(f(t, x, y, z), x, z)/2 + v(t)**2*Derivative(f(t, x, y, z), x)*Derivative(f(t, x, y, z), z) + v(t)*Derivative(f(t, x, y, z), t, z)/2 + Derivative(f(t, x, y, z), z)*Derivative(v(t), t)/2)*sinh(eta_1)*cosh(eta_2)*cosh(eta_3) - (-1.0*f(t, x, y, z)*v(t)**2*Derivative(f(t, x, y, z), (x, 2)) - 1.0*v(t)**2*Derivative(f(t, x, y, z), x)**2 - 0.25*v(t)**2*Derivative(f(t, x, y, z), y)**2 + 0.25*v(t)**2*Derivative(f(t, x, y, z), z)**2 - 1.0*v(t)*Derivative(f(t, x, y, z), t, x) - 1.0*Derivative(f(t, x, y, z), x)*Derivative(v(t), t))*sinh(eta_3) - v(t)**2*sinh(eta_2)*cosh(eta_3)*Derivative(f(t, x, y, z), y)*Derivative(f(t, x, y, z), z)/2 - v(t)*cosh(eta_1)*cosh(eta_2)*cosh(eta_3)*Derivative(f(t, x, y, z), x, z)/2)*sinh(eta_3) - (-0.75*(-Derivative(f(t, x, y, z), y)**2 - Derivative(f(t, x, y, z), z)**2)*v(t)**2*sinh(eta_1)*cosh(eta_2)*cosh(eta_3) + 0.5*(Derivative(f(t, x, y, z), (y, 2)) + Derivative(f(t, x, y, z), (z, 2)))*v(t)*cosh(eta_1)*cosh(eta_2)*cosh(eta_3) - (f(t, x, y, z)*v(t)**2*Derivative(f(t, x, y, z), x, y)/2 + v(t)**2*Derivative(f(t, x, y, z), x)*Derivative(f(t, x, y, z), y) + v(t)*Derivative(f(t, x, y, z), t, y)/2 + Derivative(f(t, x, y, z), y)*Derivative(v(t), t)/2)*sinh(eta_2)*cosh(eta_3) - (f(t, x, y, z)*v(t)**2*Derivative(f(t, x, y, z), x, z)/2 + v(t)**2*Derivative(f(t, x, y, z), x)*Derivative(f(t, x, y, z), z) + v(t)*Derivative(f(t, x, y, z), t, z)/2 + Derivative(f(t, x, y, z), z)*Derivative(v(t), t)/2)*sinh(eta_3))*sinh(eta_1)*cosh(eta_2)*cosh(eta_3) + (0.25*(-Derivative(f(t, x, y, z), y)**2 - Derivative(f(t, x, y, z), z)**2)*v(t)**2*cosh(eta_1)*cosh(eta_2)*cosh(eta_3) - 0.5*(Derivative(f(t, x, y, z), (y, 2)) + Derivative(f(t, x, y, z), (z, 2)))*v(t)*sinh(eta_1)*cosh(eta_2)*cosh(eta_3) + v(t)*sinh(eta_2)*cosh(eta_3)*Derivative(f(t, x, y, z), x, y)/2 + v(t)*sinh(eta_3)*Derivative(f(t, x, y, z), x, z)/2)*cosh(eta_1)*cosh(eta_2)*cosh(eta_3)"
      ]
     },
     "metadata": {},
     "output_type": "display_data"
    }
   ],
   "source": [
    "display(warp_test.WEC)"
   ]
  },
  {
   "cell_type": "code",
   "execution_count": 120,
   "id": "034e9b55-f8a5-4b77-a332-46749a2b76b1",
   "metadata": {},
   "outputs": [
    {
     "data": {
      "text/latex": [
       "$\\displaystyle - \\left(- \\left(- 0.25 \\left(- \\left(\\frac{\\partial}{\\partial y} f{\\left(t,x,y,z \\right)}\\right)^{2} - \\left(\\frac{\\partial}{\\partial z} f{\\left(t,x,y,z \\right)}\\right)^{2}\\right) v^{2}{\\left(t \\right)} - 0.25 v^{2}{\\left(t \\right)} \\left(\\frac{\\partial}{\\partial y} f{\\left(t,x,y,z \\right)}\\right)^{2} + 0.25 v^{2}{\\left(t \\right)} \\left(\\frac{\\partial}{\\partial z} f{\\left(t,x,y,z \\right)}\\right)^{2}\\right) \\sinh{\\left(\\eta_{3} \\right)} - \\left(\\frac{f{\\left(t,x,y,z \\right)} v^{2}{\\left(t \\right)} \\frac{\\partial^{2}}{\\partial z\\partial x} f{\\left(t,x,y,z \\right)}}{2} + v^{2}{\\left(t \\right)} \\frac{\\partial}{\\partial x} f{\\left(t,x,y,z \\right)} \\frac{\\partial}{\\partial z} f{\\left(t,x,y,z \\right)} + \\frac{v{\\left(t \\right)} \\frac{\\partial^{2}}{\\partial z\\partial t} f{\\left(t,x,y,z \\right)}}{2} + \\frac{\\frac{\\partial}{\\partial z} f{\\left(t,x,y,z \\right)} \\frac{d}{d t} v{\\left(t \\right)}}{2}\\right) \\sinh{\\left(\\eta_{1} \\right)} \\cosh{\\left(\\eta_{2} \\right)} \\cosh{\\left(\\eta_{3} \\right)} - \\frac{v^{2}{\\left(t \\right)} \\sinh{\\left(\\eta_{2} \\right)} \\cosh{\\left(\\eta_{3} \\right)} \\frac{\\partial}{\\partial y} f{\\left(t,x,y,z \\right)} \\frac{\\partial}{\\partial z} f{\\left(t,x,y,z \\right)}}{2} - \\frac{v{\\left(t \\right)} \\cosh{\\left(\\eta_{1} \\right)} \\cosh{\\left(\\eta_{2} \\right)} \\cosh{\\left(\\eta_{3} \\right)} \\frac{\\partial^{2}}{\\partial z\\partial x} f{\\left(t,x,y,z \\right)}}{2}\\right) \\sinh{\\left(\\eta_{3} \\right)} - \\left(- \\left(- 0.25 \\left(- \\left(\\frac{\\partial}{\\partial y} f{\\left(t,x,y,z \\right)}\\right)^{2} - \\left(\\frac{\\partial}{\\partial z} f{\\left(t,x,y,z \\right)}\\right)^{2}\\right) v^{2}{\\left(t \\right)} + 0.25 v^{2}{\\left(t \\right)} \\left(\\frac{\\partial}{\\partial y} f{\\left(t,x,y,z \\right)}\\right)^{2} - 0.25 v^{2}{\\left(t \\right)} \\left(\\frac{\\partial}{\\partial z} f{\\left(t,x,y,z \\right)}\\right)^{2}\\right) \\sinh{\\left(\\eta_{2} \\right)} \\cosh{\\left(\\eta_{3} \\right)} - \\left(\\frac{f{\\left(t,x,y,z \\right)} v^{2}{\\left(t \\right)} \\frac{\\partial^{2}}{\\partial y\\partial x} f{\\left(t,x,y,z \\right)}}{2} + v^{2}{\\left(t \\right)} \\frac{\\partial}{\\partial x} f{\\left(t,x,y,z \\right)} \\frac{\\partial}{\\partial y} f{\\left(t,x,y,z \\right)} + \\frac{v{\\left(t \\right)} \\frac{\\partial^{2}}{\\partial y\\partial t} f{\\left(t,x,y,z \\right)}}{2} + \\frac{\\frac{\\partial}{\\partial y} f{\\left(t,x,y,z \\right)} \\frac{d}{d t} v{\\left(t \\right)}}{2}\\right) \\sinh{\\left(\\eta_{1} \\right)} \\cosh{\\left(\\eta_{2} \\right)} \\cosh{\\left(\\eta_{3} \\right)} - \\frac{v^{2}{\\left(t \\right)} \\sinh{\\left(\\eta_{3} \\right)} \\frac{\\partial}{\\partial y} f{\\left(t,x,y,z \\right)} \\frac{\\partial}{\\partial z} f{\\left(t,x,y,z \\right)}}{2} - \\frac{v{\\left(t \\right)} \\cosh{\\left(\\eta_{1} \\right)} \\cosh{\\left(\\eta_{2} \\right)} \\cosh{\\left(\\eta_{3} \\right)} \\frac{\\partial^{2}}{\\partial y\\partial x} f{\\left(t,x,y,z \\right)}}{2}\\right) \\sinh{\\left(\\eta_{2} \\right)} \\cosh{\\left(\\eta_{3} \\right)} + \\left(- 0.5 \\left(\\frac{\\partial^{2}}{\\partial y^{2}} f{\\left(t,x,y,z \\right)} + \\frac{\\partial^{2}}{\\partial z^{2}} f{\\left(t,x,y,z \\right)}\\right) v{\\left(t \\right)} \\sinh{\\left(\\eta_{1} \\right)} \\cosh{\\left(\\eta_{2} \\right)} \\cosh{\\left(\\eta_{3} \\right)} + \\left(0.5 \\left(- \\left(\\frac{\\partial}{\\partial y} f{\\left(t,x,y,z \\right)}\\right)^{2} - \\left(\\frac{\\partial}{\\partial z} f{\\left(t,x,y,z \\right)}\\right)^{2}\\right) v^{2}{\\left(t \\right)} - 1.0 f{\\left(t,x,y,z \\right)} v^{2}{\\left(t \\right)} \\frac{\\partial^{2}}{\\partial x^{2}} f{\\left(t,x,y,z \\right)} - 1.0 v^{2}{\\left(t \\right)} \\left(\\frac{\\partial}{\\partial x} f{\\left(t,x,y,z \\right)}\\right)^{2} - 1.0 v{\\left(t \\right)} \\frac{\\partial^{2}}{\\partial x\\partial t} f{\\left(t,x,y,z \\right)} - 1.0 \\frac{\\partial}{\\partial x} f{\\left(t,x,y,z \\right)} \\frac{d}{d t} v{\\left(t \\right)}\\right) \\cosh{\\left(\\eta_{1} \\right)} \\cosh{\\left(\\eta_{2} \\right)} \\cosh{\\left(\\eta_{3} \\right)} + \\frac{v{\\left(t \\right)} \\sinh{\\left(\\eta_{2} \\right)} \\cosh{\\left(\\eta_{3} \\right)} \\frac{\\partial^{2}}{\\partial y\\partial x} f{\\left(t,x,y,z \\right)}}{2} + \\frac{v{\\left(t \\right)} \\sinh{\\left(\\eta_{3} \\right)} \\frac{\\partial^{2}}{\\partial z\\partial x} f{\\left(t,x,y,z \\right)}}{2}\\right) \\cosh{\\left(\\eta_{1} \\right)} \\cosh{\\left(\\eta_{2} \\right)} \\cosh{\\left(\\eta_{3} \\right)} - \\left(0.5 \\left(\\frac{\\partial^{2}}{\\partial y^{2}} f{\\left(t,x,y,z \\right)} + \\frac{\\partial^{2}}{\\partial z^{2}} f{\\left(t,x,y,z \\right)}\\right) v{\\left(t \\right)} \\cosh{\\left(\\eta_{1} \\right)} \\cosh{\\left(\\eta_{2} \\right)} \\cosh{\\left(\\eta_{3} \\right)} - \\left(\\frac{f{\\left(t,x,y,z \\right)} v^{2}{\\left(t \\right)} \\frac{\\partial^{2}}{\\partial y\\partial x} f{\\left(t,x,y,z \\right)}}{2} + v^{2}{\\left(t \\right)} \\frac{\\partial}{\\partial x} f{\\left(t,x,y,z \\right)} \\frac{\\partial}{\\partial y} f{\\left(t,x,y,z \\right)} + \\frac{v{\\left(t \\right)} \\frac{\\partial^{2}}{\\partial y\\partial t} f{\\left(t,x,y,z \\right)}}{2} + \\frac{\\frac{\\partial}{\\partial y} f{\\left(t,x,y,z \\right)} \\frac{d}{d t} v{\\left(t \\right)}}{2}\\right) \\sinh{\\left(\\eta_{2} \\right)} \\cosh{\\left(\\eta_{3} \\right)} - \\left(\\frac{f{\\left(t,x,y,z \\right)} v^{2}{\\left(t \\right)} \\frac{\\partial^{2}}{\\partial z\\partial x} f{\\left(t,x,y,z \\right)}}{2} + v^{2}{\\left(t \\right)} \\frac{\\partial}{\\partial x} f{\\left(t,x,y,z \\right)} \\frac{\\partial}{\\partial z} f{\\left(t,x,y,z \\right)} + \\frac{v{\\left(t \\right)} \\frac{\\partial^{2}}{\\partial z\\partial t} f{\\left(t,x,y,z \\right)}}{2} + \\frac{\\frac{\\partial}{\\partial z} f{\\left(t,x,y,z \\right)} \\frac{d}{d t} v{\\left(t \\right)}}{2}\\right) \\sinh{\\left(\\eta_{3} \\right)} - \\left(0.5 \\left(- \\left(\\frac{\\partial}{\\partial y} f{\\left(t,x,y,z \\right)}\\right)^{2} - \\left(\\frac{\\partial}{\\partial z} f{\\left(t,x,y,z \\right)}\\right)^{2}\\right) v^{2}{\\left(t \\right)} + 1.0 f{\\left(t,x,y,z \\right)} v^{2}{\\left(t \\right)} \\frac{\\partial^{2}}{\\partial x^{2}} f{\\left(t,x,y,z \\right)} + 1.0 v^{2}{\\left(t \\right)} \\left(\\frac{\\partial}{\\partial x} f{\\left(t,x,y,z \\right)}\\right)^{2} + 1.0 v{\\left(t \\right)} \\frac{\\partial^{2}}{\\partial x\\partial t} f{\\left(t,x,y,z \\right)} + 1.0 \\frac{\\partial}{\\partial x} f{\\left(t,x,y,z \\right)} \\frac{d}{d t} v{\\left(t \\right)}\\right) \\sinh{\\left(\\eta_{1} \\right)} \\cosh{\\left(\\eta_{2} \\right)} \\cosh{\\left(\\eta_{3} \\right)}\\right) \\sinh{\\left(\\eta_{1} \\right)} \\cosh{\\left(\\eta_{2} \\right)} \\cosh{\\left(\\eta_{3} \\right)}$"
      ],
      "text/plain": [
       "-(-(-0.25*(-Derivative(f(t, x, y, z), y)**2 - Derivative(f(t, x, y, z), z)**2)*v(t)**2 - 0.25*v(t)**2*Derivative(f(t, x, y, z), y)**2 + 0.25*v(t)**2*Derivative(f(t, x, y, z), z)**2)*sinh(eta_3) - (f(t, x, y, z)*v(t)**2*Derivative(f(t, x, y, z), x, z)/2 + v(t)**2*Derivative(f(t, x, y, z), x)*Derivative(f(t, x, y, z), z) + v(t)*Derivative(f(t, x, y, z), t, z)/2 + Derivative(f(t, x, y, z), z)*Derivative(v(t), t)/2)*sinh(eta_1)*cosh(eta_2)*cosh(eta_3) - v(t)**2*sinh(eta_2)*cosh(eta_3)*Derivative(f(t, x, y, z), y)*Derivative(f(t, x, y, z), z)/2 - v(t)*cosh(eta_1)*cosh(eta_2)*cosh(eta_3)*Derivative(f(t, x, y, z), x, z)/2)*sinh(eta_3) - (-(-0.25*(-Derivative(f(t, x, y, z), y)**2 - Derivative(f(t, x, y, z), z)**2)*v(t)**2 + 0.25*v(t)**2*Derivative(f(t, x, y, z), y)**2 - 0.25*v(t)**2*Derivative(f(t, x, y, z), z)**2)*sinh(eta_2)*cosh(eta_3) - (f(t, x, y, z)*v(t)**2*Derivative(f(t, x, y, z), x, y)/2 + v(t)**2*Derivative(f(t, x, y, z), x)*Derivative(f(t, x, y, z), y) + v(t)*Derivative(f(t, x, y, z), t, y)/2 + Derivative(f(t, x, y, z), y)*Derivative(v(t), t)/2)*sinh(eta_1)*cosh(eta_2)*cosh(eta_3) - v(t)**2*sinh(eta_3)*Derivative(f(t, x, y, z), y)*Derivative(f(t, x, y, z), z)/2 - v(t)*cosh(eta_1)*cosh(eta_2)*cosh(eta_3)*Derivative(f(t, x, y, z), x, y)/2)*sinh(eta_2)*cosh(eta_3) + (-0.5*(Derivative(f(t, x, y, z), (y, 2)) + Derivative(f(t, x, y, z), (z, 2)))*v(t)*sinh(eta_1)*cosh(eta_2)*cosh(eta_3) + (0.5*(-Derivative(f(t, x, y, z), y)**2 - Derivative(f(t, x, y, z), z)**2)*v(t)**2 - 1.0*f(t, x, y, z)*v(t)**2*Derivative(f(t, x, y, z), (x, 2)) - 1.0*v(t)**2*Derivative(f(t, x, y, z), x)**2 - 1.0*v(t)*Derivative(f(t, x, y, z), t, x) - 1.0*Derivative(f(t, x, y, z), x)*Derivative(v(t), t))*cosh(eta_1)*cosh(eta_2)*cosh(eta_3) + v(t)*sinh(eta_2)*cosh(eta_3)*Derivative(f(t, x, y, z), x, y)/2 + v(t)*sinh(eta_3)*Derivative(f(t, x, y, z), x, z)/2)*cosh(eta_1)*cosh(eta_2)*cosh(eta_3) - (0.5*(Derivative(f(t, x, y, z), (y, 2)) + Derivative(f(t, x, y, z), (z, 2)))*v(t)*cosh(eta_1)*cosh(eta_2)*cosh(eta_3) - (f(t, x, y, z)*v(t)**2*Derivative(f(t, x, y, z), x, y)/2 + v(t)**2*Derivative(f(t, x, y, z), x)*Derivative(f(t, x, y, z), y) + v(t)*Derivative(f(t, x, y, z), t, y)/2 + Derivative(f(t, x, y, z), y)*Derivative(v(t), t)/2)*sinh(eta_2)*cosh(eta_3) - (f(t, x, y, z)*v(t)**2*Derivative(f(t, x, y, z), x, z)/2 + v(t)**2*Derivative(f(t, x, y, z), x)*Derivative(f(t, x, y, z), z) + v(t)*Derivative(f(t, x, y, z), t, z)/2 + Derivative(f(t, x, y, z), z)*Derivative(v(t), t)/2)*sinh(eta_3) - (0.5*(-Derivative(f(t, x, y, z), y)**2 - Derivative(f(t, x, y, z), z)**2)*v(t)**2 + 1.0*f(t, x, y, z)*v(t)**2*Derivative(f(t, x, y, z), (x, 2)) + 1.0*v(t)**2*Derivative(f(t, x, y, z), x)**2 + 1.0*v(t)*Derivative(f(t, x, y, z), t, x) + 1.0*Derivative(f(t, x, y, z), x)*Derivative(v(t), t))*sinh(eta_1)*cosh(eta_2)*cosh(eta_3))*sinh(eta_1)*cosh(eta_2)*cosh(eta_3)"
      ]
     },
     "metadata": {},
     "output_type": "display_data"
    }
   ],
   "source": [
    "display(warp_test.SEC)"
   ]
  },
  {
   "cell_type": "code",
   "execution_count": 121,
   "id": "26fb4002-d1c7-4b81-95b6-3379a7901b7f",
   "metadata": {},
   "outputs": [
    {
     "data": {
      "text/latex": [
       "$\\displaystyle - \\sqrt{\\left|{\\left(- \\left(- \\frac{f{\\left(t,x,y,z \\right)} v^{2}{\\left(t \\right)} \\frac{\\partial^{2}}{\\partial y\\partial x} f{\\left(t,x,y,z \\right)}}{2} - v^{2}{\\left(t \\right)} \\frac{\\partial}{\\partial x} f{\\left(t,x,y,z \\right)} \\frac{\\partial}{\\partial y} f{\\left(t,x,y,z \\right)} - \\frac{v{\\left(t \\right)} \\frac{\\partial^{2}}{\\partial y\\partial t} f{\\left(t,x,y,z \\right)}}{2} - \\frac{\\frac{\\partial}{\\partial y} f{\\left(t,x,y,z \\right)} \\frac{d}{d t} v{\\left(t \\right)}}{2}\\right) \\sinh{\\left(\\eta_{1} \\right)} \\cosh{\\left(\\eta_{2} \\right)} \\cosh{\\left(\\eta_{3} \\right)} - \\left(1.0 f{\\left(t,x,y,z \\right)} v^{2}{\\left(t \\right)} \\frac{\\partial^{2}}{\\partial x^{2}} f{\\left(t,x,y,z \\right)} + 1.0 v^{2}{\\left(t \\right)} \\left(\\frac{\\partial}{\\partial x} f{\\left(t,x,y,z \\right)}\\right)^{2} - 0.25 v^{2}{\\left(t \\right)} \\left(\\frac{\\partial}{\\partial y} f{\\left(t,x,y,z \\right)}\\right)^{2} + 0.25 v^{2}{\\left(t \\right)} \\left(\\frac{\\partial}{\\partial z} f{\\left(t,x,y,z \\right)}\\right)^{2} + 1.0 v{\\left(t \\right)} \\frac{\\partial^{2}}{\\partial x\\partial t} f{\\left(t,x,y,z \\right)} + 1.0 \\frac{\\partial}{\\partial x} f{\\left(t,x,y,z \\right)} \\frac{d}{d t} v{\\left(t \\right)}\\right) \\sinh{\\left(\\eta_{2} \\right)} \\cosh{\\left(\\eta_{3} \\right)} + \\frac{v^{2}{\\left(t \\right)} \\sinh{\\left(\\eta_{3} \\right)} \\frac{\\partial}{\\partial y} f{\\left(t,x,y,z \\right)} \\frac{\\partial}{\\partial z} f{\\left(t,x,y,z \\right)}}{2} + \\frac{v{\\left(t \\right)} \\cosh{\\left(\\eta_{1} \\right)} \\cosh{\\left(\\eta_{2} \\right)} \\cosh{\\left(\\eta_{3} \\right)} \\frac{\\partial^{2}}{\\partial y\\partial x} f{\\left(t,x,y,z \\right)}}{2}\\right)^{2} + \\left(- \\left(- \\frac{f{\\left(t,x,y,z \\right)} v^{2}{\\left(t \\right)} \\frac{\\partial^{2}}{\\partial z\\partial x} f{\\left(t,x,y,z \\right)}}{2} - v^{2}{\\left(t \\right)} \\frac{\\partial}{\\partial x} f{\\left(t,x,y,z \\right)} \\frac{\\partial}{\\partial z} f{\\left(t,x,y,z \\right)} - \\frac{v{\\left(t \\right)} \\frac{\\partial^{2}}{\\partial z\\partial t} f{\\left(t,x,y,z \\right)}}{2} - \\frac{\\frac{\\partial}{\\partial z} f{\\left(t,x,y,z \\right)} \\frac{d}{d t} v{\\left(t \\right)}}{2}\\right) \\sinh{\\left(\\eta_{1} \\right)} \\cosh{\\left(\\eta_{2} \\right)} \\cosh{\\left(\\eta_{3} \\right)} - \\left(1.0 f{\\left(t,x,y,z \\right)} v^{2}{\\left(t \\right)} \\frac{\\partial^{2}}{\\partial x^{2}} f{\\left(t,x,y,z \\right)} + 1.0 v^{2}{\\left(t \\right)} \\left(\\frac{\\partial}{\\partial x} f{\\left(t,x,y,z \\right)}\\right)^{2} + 0.25 v^{2}{\\left(t \\right)} \\left(\\frac{\\partial}{\\partial y} f{\\left(t,x,y,z \\right)}\\right)^{2} - 0.25 v^{2}{\\left(t \\right)} \\left(\\frac{\\partial}{\\partial z} f{\\left(t,x,y,z \\right)}\\right)^{2} + 1.0 v{\\left(t \\right)} \\frac{\\partial^{2}}{\\partial x\\partial t} f{\\left(t,x,y,z \\right)} + 1.0 \\frac{\\partial}{\\partial x} f{\\left(t,x,y,z \\right)} \\frac{d}{d t} v{\\left(t \\right)}\\right) \\sinh{\\left(\\eta_{3} \\right)} + \\frac{v^{2}{\\left(t \\right)} \\sinh{\\left(\\eta_{2} \\right)} \\cosh{\\left(\\eta_{3} \\right)} \\frac{\\partial}{\\partial y} f{\\left(t,x,y,z \\right)} \\frac{\\partial}{\\partial z} f{\\left(t,x,y,z \\right)}}{2} + \\frac{v{\\left(t \\right)} \\cosh{\\left(\\eta_{1} \\right)} \\cosh{\\left(\\eta_{2} \\right)} \\cosh{\\left(\\eta_{3} \\right)} \\frac{\\partial^{2}}{\\partial z\\partial x} f{\\left(t,x,y,z \\right)}}{2}\\right)^{2} + \\left(0.75 \\left(- \\left(\\frac{\\partial}{\\partial y} f{\\left(t,x,y,z \\right)}\\right)^{2} - \\left(\\frac{\\partial}{\\partial z} f{\\left(t,x,y,z \\right)}\\right)^{2}\\right) v^{2}{\\left(t \\right)} \\sinh{\\left(\\eta_{1} \\right)} \\cosh{\\left(\\eta_{2} \\right)} \\cosh{\\left(\\eta_{3} \\right)} - 0.5 \\left(\\frac{\\partial^{2}}{\\partial y^{2}} f{\\left(t,x,y,z \\right)} + \\frac{\\partial^{2}}{\\partial z^{2}} f{\\left(t,x,y,z \\right)}\\right) v{\\left(t \\right)} \\cosh{\\left(\\eta_{1} \\right)} \\cosh{\\left(\\eta_{2} \\right)} \\cosh{\\left(\\eta_{3} \\right)} - \\left(- \\frac{f{\\left(t,x,y,z \\right)} v^{2}{\\left(t \\right)} \\frac{\\partial^{2}}{\\partial y\\partial x} f{\\left(t,x,y,z \\right)}}{2} - v^{2}{\\left(t \\right)} \\frac{\\partial}{\\partial x} f{\\left(t,x,y,z \\right)} \\frac{\\partial}{\\partial y} f{\\left(t,x,y,z \\right)} - \\frac{v{\\left(t \\right)} \\frac{\\partial^{2}}{\\partial y\\partial t} f{\\left(t,x,y,z \\right)}}{2} - \\frac{\\frac{\\partial}{\\partial y} f{\\left(t,x,y,z \\right)} \\frac{d}{d t} v{\\left(t \\right)}}{2}\\right) \\sinh{\\left(\\eta_{2} \\right)} \\cosh{\\left(\\eta_{3} \\right)} - \\left(- \\frac{f{\\left(t,x,y,z \\right)} v^{2}{\\left(t \\right)} \\frac{\\partial^{2}}{\\partial z\\partial x} f{\\left(t,x,y,z \\right)}}{2} - v^{2}{\\left(t \\right)} \\frac{\\partial}{\\partial x} f{\\left(t,x,y,z \\right)} \\frac{\\partial}{\\partial z} f{\\left(t,x,y,z \\right)} - \\frac{v{\\left(t \\right)} \\frac{\\partial^{2}}{\\partial z\\partial t} f{\\left(t,x,y,z \\right)}}{2} - \\frac{\\frac{\\partial}{\\partial z} f{\\left(t,x,y,z \\right)} \\frac{d}{d t} v{\\left(t \\right)}}{2}\\right) \\sinh{\\left(\\eta_{3} \\right)}\\right)^{2} + \\left(- 0.25 \\left(- \\left(\\frac{\\partial}{\\partial y} f{\\left(t,x,y,z \\right)}\\right)^{2} - \\left(\\frac{\\partial}{\\partial z} f{\\left(t,x,y,z \\right)}\\right)^{2}\\right) v^{2}{\\left(t \\right)} \\cosh{\\left(\\eta_{1} \\right)} \\cosh{\\left(\\eta_{2} \\right)} \\cosh{\\left(\\eta_{3} \\right)} + 0.5 \\left(\\frac{\\partial^{2}}{\\partial y^{2}} f{\\left(t,x,y,z \\right)} + \\frac{\\partial^{2}}{\\partial z^{2}} f{\\left(t,x,y,z \\right)}\\right) v{\\left(t \\right)} \\sinh{\\left(\\eta_{1} \\right)} \\cosh{\\left(\\eta_{2} \\right)} \\cosh{\\left(\\eta_{3} \\right)} - \\frac{v{\\left(t \\right)} \\sinh{\\left(\\eta_{2} \\right)} \\cosh{\\left(\\eta_{3} \\right)} \\frac{\\partial^{2}}{\\partial y\\partial x} f{\\left(t,x,y,z \\right)}}{2} - \\frac{v{\\left(t \\right)} \\sinh{\\left(\\eta_{3} \\right)} \\frac{\\partial^{2}}{\\partial z\\partial x} f{\\left(t,x,y,z \\right)}}{2}\\right) \\left(0.25 \\left(- \\left(\\frac{\\partial}{\\partial y} f{\\left(t,x,y,z \\right)}\\right)^{2} - \\left(\\frac{\\partial}{\\partial z} f{\\left(t,x,y,z \\right)}\\right)^{2}\\right) v^{2}{\\left(t \\right)} \\cosh{\\left(\\eta_{1} \\right)} \\cosh{\\left(\\eta_{2} \\right)} \\cosh{\\left(\\eta_{3} \\right)} - 0.5 \\left(\\frac{\\partial^{2}}{\\partial y^{2}} f{\\left(t,x,y,z \\right)} + \\frac{\\partial^{2}}{\\partial z^{2}} f{\\left(t,x,y,z \\right)}\\right) v{\\left(t \\right)} \\sinh{\\left(\\eta_{1} \\right)} \\cosh{\\left(\\eta_{2} \\right)} \\cosh{\\left(\\eta_{3} \\right)} + \\frac{v{\\left(t \\right)} \\sinh{\\left(\\eta_{2} \\right)} \\cosh{\\left(\\eta_{3} \\right)} \\frac{\\partial^{2}}{\\partial y\\partial x} f{\\left(t,x,y,z \\right)}}{2} + \\frac{v{\\left(t \\right)} \\sinh{\\left(\\eta_{3} \\right)} \\frac{\\partial^{2}}{\\partial z\\partial x} f{\\left(t,x,y,z \\right)}}{2}\\right)}\\right|} \\operatorname{sign}{\\left(\\left(- \\left(- \\frac{f{\\left(t,x,y,z \\right)} v^{2}{\\left(t \\right)} \\frac{\\partial^{2}}{\\partial y\\partial x} f{\\left(t,x,y,z \\right)}}{2} - v^{2}{\\left(t \\right)} \\frac{\\partial}{\\partial x} f{\\left(t,x,y,z \\right)} \\frac{\\partial}{\\partial y} f{\\left(t,x,y,z \\right)} - \\frac{v{\\left(t \\right)} \\frac{\\partial^{2}}{\\partial y\\partial t} f{\\left(t,x,y,z \\right)}}{2} - \\frac{\\frac{\\partial}{\\partial y} f{\\left(t,x,y,z \\right)} \\frac{d}{d t} v{\\left(t \\right)}}{2}\\right) \\sinh{\\left(\\eta_{1} \\right)} \\cosh{\\left(\\eta_{2} \\right)} \\cosh{\\left(\\eta_{3} \\right)} - \\left(1.0 f{\\left(t,x,y,z \\right)} v^{2}{\\left(t \\right)} \\frac{\\partial^{2}}{\\partial x^{2}} f{\\left(t,x,y,z \\right)} + 1.0 v^{2}{\\left(t \\right)} \\left(\\frac{\\partial}{\\partial x} f{\\left(t,x,y,z \\right)}\\right)^{2} - 0.25 v^{2}{\\left(t \\right)} \\left(\\frac{\\partial}{\\partial y} f{\\left(t,x,y,z \\right)}\\right)^{2} + 0.25 v^{2}{\\left(t \\right)} \\left(\\frac{\\partial}{\\partial z} f{\\left(t,x,y,z \\right)}\\right)^{2} + 1.0 v{\\left(t \\right)} \\frac{\\partial^{2}}{\\partial x\\partial t} f{\\left(t,x,y,z \\right)} + 1.0 \\frac{\\partial}{\\partial x} f{\\left(t,x,y,z \\right)} \\frac{d}{d t} v{\\left(t \\right)}\\right) \\sinh{\\left(\\eta_{2} \\right)} \\cosh{\\left(\\eta_{3} \\right)} + \\frac{v^{2}{\\left(t \\right)} \\sinh{\\left(\\eta_{3} \\right)} \\frac{\\partial}{\\partial y} f{\\left(t,x,y,z \\right)} \\frac{\\partial}{\\partial z} f{\\left(t,x,y,z \\right)}}{2} + \\frac{v{\\left(t \\right)} \\cosh{\\left(\\eta_{1} \\right)} \\cosh{\\left(\\eta_{2} \\right)} \\cosh{\\left(\\eta_{3} \\right)} \\frac{\\partial^{2}}{\\partial y\\partial x} f{\\left(t,x,y,z \\right)}}{2}\\right)^{2} + \\left(- \\left(- \\frac{f{\\left(t,x,y,z \\right)} v^{2}{\\left(t \\right)} \\frac{\\partial^{2}}{\\partial z\\partial x} f{\\left(t,x,y,z \\right)}}{2} - v^{2}{\\left(t \\right)} \\frac{\\partial}{\\partial x} f{\\left(t,x,y,z \\right)} \\frac{\\partial}{\\partial z} f{\\left(t,x,y,z \\right)} - \\frac{v{\\left(t \\right)} \\frac{\\partial^{2}}{\\partial z\\partial t} f{\\left(t,x,y,z \\right)}}{2} - \\frac{\\frac{\\partial}{\\partial z} f{\\left(t,x,y,z \\right)} \\frac{d}{d t} v{\\left(t \\right)}}{2}\\right) \\sinh{\\left(\\eta_{1} \\right)} \\cosh{\\left(\\eta_{2} \\right)} \\cosh{\\left(\\eta_{3} \\right)} - \\left(1.0 f{\\left(t,x,y,z \\right)} v^{2}{\\left(t \\right)} \\frac{\\partial^{2}}{\\partial x^{2}} f{\\left(t,x,y,z \\right)} + 1.0 v^{2}{\\left(t \\right)} \\left(\\frac{\\partial}{\\partial x} f{\\left(t,x,y,z \\right)}\\right)^{2} + 0.25 v^{2}{\\left(t \\right)} \\left(\\frac{\\partial}{\\partial y} f{\\left(t,x,y,z \\right)}\\right)^{2} - 0.25 v^{2}{\\left(t \\right)} \\left(\\frac{\\partial}{\\partial z} f{\\left(t,x,y,z \\right)}\\right)^{2} + 1.0 v{\\left(t \\right)} \\frac{\\partial^{2}}{\\partial x\\partial t} f{\\left(t,x,y,z \\right)} + 1.0 \\frac{\\partial}{\\partial x} f{\\left(t,x,y,z \\right)} \\frac{d}{d t} v{\\left(t \\right)}\\right) \\sinh{\\left(\\eta_{3} \\right)} + \\frac{v^{2}{\\left(t \\right)} \\sinh{\\left(\\eta_{2} \\right)} \\cosh{\\left(\\eta_{3} \\right)} \\frac{\\partial}{\\partial y} f{\\left(t,x,y,z \\right)} \\frac{\\partial}{\\partial z} f{\\left(t,x,y,z \\right)}}{2} + \\frac{v{\\left(t \\right)} \\cosh{\\left(\\eta_{1} \\right)} \\cosh{\\left(\\eta_{2} \\right)} \\cosh{\\left(\\eta_{3} \\right)} \\frac{\\partial^{2}}{\\partial z\\partial x} f{\\left(t,x,y,z \\right)}}{2}\\right)^{2} + \\left(0.75 \\left(- \\left(\\frac{\\partial}{\\partial y} f{\\left(t,x,y,z \\right)}\\right)^{2} - \\left(\\frac{\\partial}{\\partial z} f{\\left(t,x,y,z \\right)}\\right)^{2}\\right) v^{2}{\\left(t \\right)} \\sinh{\\left(\\eta_{1} \\right)} \\cosh{\\left(\\eta_{2} \\right)} \\cosh{\\left(\\eta_{3} \\right)} - 0.5 \\left(\\frac{\\partial^{2}}{\\partial y^{2}} f{\\left(t,x,y,z \\right)} + \\frac{\\partial^{2}}{\\partial z^{2}} f{\\left(t,x,y,z \\right)}\\right) v{\\left(t \\right)} \\cosh{\\left(\\eta_{1} \\right)} \\cosh{\\left(\\eta_{2} \\right)} \\cosh{\\left(\\eta_{3} \\right)} - \\left(- \\frac{f{\\left(t,x,y,z \\right)} v^{2}{\\left(t \\right)} \\frac{\\partial^{2}}{\\partial y\\partial x} f{\\left(t,x,y,z \\right)}}{2} - v^{2}{\\left(t \\right)} \\frac{\\partial}{\\partial x} f{\\left(t,x,y,z \\right)} \\frac{\\partial}{\\partial y} f{\\left(t,x,y,z \\right)} - \\frac{v{\\left(t \\right)} \\frac{\\partial^{2}}{\\partial y\\partial t} f{\\left(t,x,y,z \\right)}}{2} - \\frac{\\frac{\\partial}{\\partial y} f{\\left(t,x,y,z \\right)} \\frac{d}{d t} v{\\left(t \\right)}}{2}\\right) \\sinh{\\left(\\eta_{2} \\right)} \\cosh{\\left(\\eta_{3} \\right)} - \\left(- \\frac{f{\\left(t,x,y,z \\right)} v^{2}{\\left(t \\right)} \\frac{\\partial^{2}}{\\partial z\\partial x} f{\\left(t,x,y,z \\right)}}{2} - v^{2}{\\left(t \\right)} \\frac{\\partial}{\\partial x} f{\\left(t,x,y,z \\right)} \\frac{\\partial}{\\partial z} f{\\left(t,x,y,z \\right)} - \\frac{v{\\left(t \\right)} \\frac{\\partial^{2}}{\\partial z\\partial t} f{\\left(t,x,y,z \\right)}}{2} - \\frac{\\frac{\\partial}{\\partial z} f{\\left(t,x,y,z \\right)} \\frac{d}{d t} v{\\left(t \\right)}}{2}\\right) \\sinh{\\left(\\eta_{3} \\right)}\\right)^{2} + \\left(- 0.25 \\left(- \\left(\\frac{\\partial}{\\partial y} f{\\left(t,x,y,z \\right)}\\right)^{2} - \\left(\\frac{\\partial}{\\partial z} f{\\left(t,x,y,z \\right)}\\right)^{2}\\right) v^{2}{\\left(t \\right)} \\cosh{\\left(\\eta_{1} \\right)} \\cosh{\\left(\\eta_{2} \\right)} \\cosh{\\left(\\eta_{3} \\right)} + 0.5 \\left(\\frac{\\partial^{2}}{\\partial y^{2}} f{\\left(t,x,y,z \\right)} + \\frac{\\partial^{2}}{\\partial z^{2}} f{\\left(t,x,y,z \\right)}\\right) v{\\left(t \\right)} \\sinh{\\left(\\eta_{1} \\right)} \\cosh{\\left(\\eta_{2} \\right)} \\cosh{\\left(\\eta_{3} \\right)} - \\frac{v{\\left(t \\right)} \\sinh{\\left(\\eta_{2} \\right)} \\cosh{\\left(\\eta_{3} \\right)} \\frac{\\partial^{2}}{\\partial y\\partial x} f{\\left(t,x,y,z \\right)}}{2} - \\frac{v{\\left(t \\right)} \\sinh{\\left(\\eta_{3} \\right)} \\frac{\\partial^{2}}{\\partial z\\partial x} f{\\left(t,x,y,z \\right)}}{2}\\right) \\left(0.25 \\left(- \\left(\\frac{\\partial}{\\partial y} f{\\left(t,x,y,z \\right)}\\right)^{2} - \\left(\\frac{\\partial}{\\partial z} f{\\left(t,x,y,z \\right)}\\right)^{2}\\right) v^{2}{\\left(t \\right)} \\cosh{\\left(\\eta_{1} \\right)} \\cosh{\\left(\\eta_{2} \\right)} \\cosh{\\left(\\eta_{3} \\right)} - 0.5 \\left(\\frac{\\partial^{2}}{\\partial y^{2}} f{\\left(t,x,y,z \\right)} + \\frac{\\partial^{2}}{\\partial z^{2}} f{\\left(t,x,y,z \\right)}\\right) v{\\left(t \\right)} \\sinh{\\left(\\eta_{1} \\right)} \\cosh{\\left(\\eta_{2} \\right)} \\cosh{\\left(\\eta_{3} \\right)} + \\frac{v{\\left(t \\right)} \\sinh{\\left(\\eta_{2} \\right)} \\cosh{\\left(\\eta_{3} \\right)} \\frac{\\partial^{2}}{\\partial y\\partial x} f{\\left(t,x,y,z \\right)}}{2} + \\frac{v{\\left(t \\right)} \\sinh{\\left(\\eta_{3} \\right)} \\frac{\\partial^{2}}{\\partial z\\partial x} f{\\left(t,x,y,z \\right)}}{2}\\right) \\right)}$"
      ],
      "text/plain": [
       "-sqrt(Abs((-(-f(t, x, y, z)*v(t)**2*Derivative(f(t, x, y, z), x, y)/2 - v(t)**2*Derivative(f(t, x, y, z), x)*Derivative(f(t, x, y, z), y) - v(t)*Derivative(f(t, x, y, z), t, y)/2 - Derivative(f(t, x, y, z), y)*Derivative(v(t), t)/2)*sinh(eta_1)*cosh(eta_2)*cosh(eta_3) - (1.0*f(t, x, y, z)*v(t)**2*Derivative(f(t, x, y, z), (x, 2)) + 1.0*v(t)**2*Derivative(f(t, x, y, z), x)**2 - 0.25*v(t)**2*Derivative(f(t, x, y, z), y)**2 + 0.25*v(t)**2*Derivative(f(t, x, y, z), z)**2 + 1.0*v(t)*Derivative(f(t, x, y, z), t, x) + 1.0*Derivative(f(t, x, y, z), x)*Derivative(v(t), t))*sinh(eta_2)*cosh(eta_3) + v(t)**2*sinh(eta_3)*Derivative(f(t, x, y, z), y)*Derivative(f(t, x, y, z), z)/2 + v(t)*cosh(eta_1)*cosh(eta_2)*cosh(eta_3)*Derivative(f(t, x, y, z), x, y)/2)**2 + (-(-f(t, x, y, z)*v(t)**2*Derivative(f(t, x, y, z), x, z)/2 - v(t)**2*Derivative(f(t, x, y, z), x)*Derivative(f(t, x, y, z), z) - v(t)*Derivative(f(t, x, y, z), t, z)/2 - Derivative(f(t, x, y, z), z)*Derivative(v(t), t)/2)*sinh(eta_1)*cosh(eta_2)*cosh(eta_3) - (1.0*f(t, x, y, z)*v(t)**2*Derivative(f(t, x, y, z), (x, 2)) + 1.0*v(t)**2*Derivative(f(t, x, y, z), x)**2 + 0.25*v(t)**2*Derivative(f(t, x, y, z), y)**2 - 0.25*v(t)**2*Derivative(f(t, x, y, z), z)**2 + 1.0*v(t)*Derivative(f(t, x, y, z), t, x) + 1.0*Derivative(f(t, x, y, z), x)*Derivative(v(t), t))*sinh(eta_3) + v(t)**2*sinh(eta_2)*cosh(eta_3)*Derivative(f(t, x, y, z), y)*Derivative(f(t, x, y, z), z)/2 + v(t)*cosh(eta_1)*cosh(eta_2)*cosh(eta_3)*Derivative(f(t, x, y, z), x, z)/2)**2 + (0.75*(-Derivative(f(t, x, y, z), y)**2 - Derivative(f(t, x, y, z), z)**2)*v(t)**2*sinh(eta_1)*cosh(eta_2)*cosh(eta_3) - 0.5*(Derivative(f(t, x, y, z), (y, 2)) + Derivative(f(t, x, y, z), (z, 2)))*v(t)*cosh(eta_1)*cosh(eta_2)*cosh(eta_3) - (-f(t, x, y, z)*v(t)**2*Derivative(f(t, x, y, z), x, y)/2 - v(t)**2*Derivative(f(t, x, y, z), x)*Derivative(f(t, x, y, z), y) - v(t)*Derivative(f(t, x, y, z), t, y)/2 - Derivative(f(t, x, y, z), y)*Derivative(v(t), t)/2)*sinh(eta_2)*cosh(eta_3) - (-f(t, x, y, z)*v(t)**2*Derivative(f(t, x, y, z), x, z)/2 - v(t)**2*Derivative(f(t, x, y, z), x)*Derivative(f(t, x, y, z), z) - v(t)*Derivative(f(t, x, y, z), t, z)/2 - Derivative(f(t, x, y, z), z)*Derivative(v(t), t)/2)*sinh(eta_3))**2 + (-0.25*(-Derivative(f(t, x, y, z), y)**2 - Derivative(f(t, x, y, z), z)**2)*v(t)**2*cosh(eta_1)*cosh(eta_2)*cosh(eta_3) + 0.5*(Derivative(f(t, x, y, z), (y, 2)) + Derivative(f(t, x, y, z), (z, 2)))*v(t)*sinh(eta_1)*cosh(eta_2)*cosh(eta_3) - v(t)*sinh(eta_2)*cosh(eta_3)*Derivative(f(t, x, y, z), x, y)/2 - v(t)*sinh(eta_3)*Derivative(f(t, x, y, z), x, z)/2)*(0.25*(-Derivative(f(t, x, y, z), y)**2 - Derivative(f(t, x, y, z), z)**2)*v(t)**2*cosh(eta_1)*cosh(eta_2)*cosh(eta_3) - 0.5*(Derivative(f(t, x, y, z), (y, 2)) + Derivative(f(t, x, y, z), (z, 2)))*v(t)*sinh(eta_1)*cosh(eta_2)*cosh(eta_3) + v(t)*sinh(eta_2)*cosh(eta_3)*Derivative(f(t, x, y, z), x, y)/2 + v(t)*sinh(eta_3)*Derivative(f(t, x, y, z), x, z)/2)))*sign((-(-f(t, x, y, z)*v(t)**2*Derivative(f(t, x, y, z), x, y)/2 - v(t)**2*Derivative(f(t, x, y, z), x)*Derivative(f(t, x, y, z), y) - v(t)*Derivative(f(t, x, y, z), t, y)/2 - Derivative(f(t, x, y, z), y)*Derivative(v(t), t)/2)*sinh(eta_1)*cosh(eta_2)*cosh(eta_3) - (1.0*f(t, x, y, z)*v(t)**2*Derivative(f(t, x, y, z), (x, 2)) + 1.0*v(t)**2*Derivative(f(t, x, y, z), x)**2 - 0.25*v(t)**2*Derivative(f(t, x, y, z), y)**2 + 0.25*v(t)**2*Derivative(f(t, x, y, z), z)**2 + 1.0*v(t)*Derivative(f(t, x, y, z), t, x) + 1.0*Derivative(f(t, x, y, z), x)*Derivative(v(t), t))*sinh(eta_2)*cosh(eta_3) + v(t)**2*sinh(eta_3)*Derivative(f(t, x, y, z), y)*Derivative(f(t, x, y, z), z)/2 + v(t)*cosh(eta_1)*cosh(eta_2)*cosh(eta_3)*Derivative(f(t, x, y, z), x, y)/2)**2 + (-(-f(t, x, y, z)*v(t)**2*Derivative(f(t, x, y, z), x, z)/2 - v(t)**2*Derivative(f(t, x, y, z), x)*Derivative(f(t, x, y, z), z) - v(t)*Derivative(f(t, x, y, z), t, z)/2 - Derivative(f(t, x, y, z), z)*Derivative(v(t), t)/2)*sinh(eta_1)*cosh(eta_2)*cosh(eta_3) - (1.0*f(t, x, y, z)*v(t)**2*Derivative(f(t, x, y, z), (x, 2)) + 1.0*v(t)**2*Derivative(f(t, x, y, z), x)**2 + 0.25*v(t)**2*Derivative(f(t, x, y, z), y)**2 - 0.25*v(t)**2*Derivative(f(t, x, y, z), z)**2 + 1.0*v(t)*Derivative(f(t, x, y, z), t, x) + 1.0*Derivative(f(t, x, y, z), x)*Derivative(v(t), t))*sinh(eta_3) + v(t)**2*sinh(eta_2)*cosh(eta_3)*Derivative(f(t, x, y, z), y)*Derivative(f(t, x, y, z), z)/2 + v(t)*cosh(eta_1)*cosh(eta_2)*cosh(eta_3)*Derivative(f(t, x, y, z), x, z)/2)**2 + (0.75*(-Derivative(f(t, x, y, z), y)**2 - Derivative(f(t, x, y, z), z)**2)*v(t)**2*sinh(eta_1)*cosh(eta_2)*cosh(eta_3) - 0.5*(Derivative(f(t, x, y, z), (y, 2)) + Derivative(f(t, x, y, z), (z, 2)))*v(t)*cosh(eta_1)*cosh(eta_2)*cosh(eta_3) - (-f(t, x, y, z)*v(t)**2*Derivative(f(t, x, y, z), x, y)/2 - v(t)**2*Derivative(f(t, x, y, z), x)*Derivative(f(t, x, y, z), y) - v(t)*Derivative(f(t, x, y, z), t, y)/2 - Derivative(f(t, x, y, z), y)*Derivative(v(t), t)/2)*sinh(eta_2)*cosh(eta_3) - (-f(t, x, y, z)*v(t)**2*Derivative(f(t, x, y, z), x, z)/2 - v(t)**2*Derivative(f(t, x, y, z), x)*Derivative(f(t, x, y, z), z) - v(t)*Derivative(f(t, x, y, z), t, z)/2 - Derivative(f(t, x, y, z), z)*Derivative(v(t), t)/2)*sinh(eta_3))**2 + (-0.25*(-Derivative(f(t, x, y, z), y)**2 - Derivative(f(t, x, y, z), z)**2)*v(t)**2*cosh(eta_1)*cosh(eta_2)*cosh(eta_3) + 0.5*(Derivative(f(t, x, y, z), (y, 2)) + Derivative(f(t, x, y, z), (z, 2)))*v(t)*sinh(eta_1)*cosh(eta_2)*cosh(eta_3) - v(t)*sinh(eta_2)*cosh(eta_3)*Derivative(f(t, x, y, z), x, y)/2 - v(t)*sinh(eta_3)*Derivative(f(t, x, y, z), x, z)/2)*(0.25*(-Derivative(f(t, x, y, z), y)**2 - Derivative(f(t, x, y, z), z)**2)*v(t)**2*cosh(eta_1)*cosh(eta_2)*cosh(eta_3) - 0.5*(Derivative(f(t, x, y, z), (y, 2)) + Derivative(f(t, x, y, z), (z, 2)))*v(t)*sinh(eta_1)*cosh(eta_2)*cosh(eta_3) + v(t)*sinh(eta_2)*cosh(eta_3)*Derivative(f(t, x, y, z), x, y)/2 + v(t)*sinh(eta_3)*Derivative(f(t, x, y, z), x, z)/2))"
      ]
     },
     "metadata": {},
     "output_type": "display_data"
    }
   ],
   "source": [
    "display(warp_test.DEC)"
   ]
  },
  {
   "cell_type": "code",
   "execution_count": 122,
   "id": "3a370190-46f4-4368-962b-f5e27384375e",
   "metadata": {},
   "outputs": [
    {
     "data": {
      "text/latex": [
       "$\\displaystyle \\left[\\begin{matrix}0.5 \\left(\\frac{\\partial^{2}}{\\partial y^{2}} f{\\left(t,x,y,z \\right)} + \\frac{\\partial^{2}}{\\partial z^{2}} f{\\left(t,x,y,z \\right)}\\right) v{\\left(t \\right)}\\\\- \\frac{v{\\left(t \\right)} \\frac{\\partial^{2}}{\\partial y\\partial x} f{\\left(t,x,y,z \\right)}}{2}\\\\- \\frac{v{\\left(t \\right)} \\frac{\\partial^{2}}{\\partial z\\partial x} f{\\left(t,x,y,z \\right)}}{2}\\end{matrix}\\right]$"
      ],
      "text/plain": [
       "Matrix([\n",
       "[0.5*(Derivative(f(t, x, y, z), (y, 2)) + Derivative(f(t, x, y, z), (z, 2)))*v(t)],\n",
       "[                                         -v(t)*Derivative(f(t, x, y, z), x, y)/2],\n",
       "[                                         -v(t)*Derivative(f(t, x, y, z), x, z)/2]])"
      ]
     },
     "metadata": {},
     "output_type": "display_data"
    }
   ],
   "source": [
    "display(warp_test.Momentum)"
   ]
  },
  {
   "cell_type": "code",
   "execution_count": 123,
   "id": "c6fda32b-715f-413a-9a78-d33ca9b56abe",
   "metadata": {},
   "outputs": [
    {
     "data": {
      "text/latex": [
       "$\\displaystyle 2 v{\\left(t \\right)} \\frac{\\partial}{\\partial x} f{\\left(t,x,y,z \\right)}$"
      ],
      "text/plain": [
       "2*v(t)*Derivative(f(t, x, y, z), x)"
      ]
     },
     "metadata": {},
     "output_type": "display_data"
    }
   ],
   "source": [
    "display(warp_test.expansion_scalar)"
   ]
  },
  {
   "cell_type": "code",
   "execution_count": 124,
   "id": "8afb3f50-9c5e-4d3b-924c-3448a8ef5017",
   "metadata": {},
   "outputs": [
    {
     "data": {
      "text/latex": [
       "$\\displaystyle 0.333333333333333 \\sqrt{3} \\sqrt{\\left(4 \\left(\\frac{\\partial}{\\partial x} f{\\left(t,x,y,z \\right)}\\right)^{2} + 3 \\left(\\frac{\\partial}{\\partial y} f{\\left(t,x,y,z \\right)}\\right)^{2} + 3 \\left(\\frac{\\partial}{\\partial z} f{\\left(t,x,y,z \\right)}\\right)^{2}\\right) v^{2}{\\left(t \\right)}}$"
      ],
      "text/plain": [
       "0.333333333333333*sqrt(3)*sqrt((4*Derivative(f(t, x, y, z), x)**2 + 3*Derivative(f(t, x, y, z), y)**2 + 3*Derivative(f(t, x, y, z), z)**2)*v(t)**2)"
      ]
     },
     "metadata": {},
     "output_type": "display_data"
    }
   ],
   "source": [
    "display(warp_test.shear_scalar)"
   ]
  },
  {
   "cell_type": "code",
   "execution_count": 125,
   "id": "543d93ba-8010-4d5c-8c89-3a6cebf9c294",
   "metadata": {},
   "outputs": [
    {
     "data": {
      "text/latex": [
       "$\\displaystyle 0$"
      ],
      "text/plain": [
       "0"
      ]
     },
     "metadata": {},
     "output_type": "display_data"
    }
   ],
   "source": [
    "display(warp_test.vorticity_scalar)"
   ]
  },
  {
   "cell_type": "code",
   "execution_count": 126,
   "id": "2c22b95f-d5b8-4f42-b617-e71f08503900",
   "metadata": {},
   "outputs": [
    {
     "data": {
      "text/latex": [
       "$\\displaystyle 1$"
      ],
      "text/plain": [
       "1"
      ]
     },
     "metadata": {},
     "output_type": "display_data"
    }
   ],
   "source": [
    "display(warp_test.alpha)"
   ]
  },
  {
   "cell_type": "code",
   "execution_count": 127,
   "id": "4e1295ce-cc66-4161-a399-5e256f94a4e3",
   "metadata": {},
   "outputs": [
    {
     "data": {
      "text/latex": [
       "$\\displaystyle - f{\\left(t,x,y,z \\right)} v{\\left(t \\right)}$"
      ],
      "text/plain": [
       "-f(t, x, y, z)*v(t)"
      ]
     },
     "metadata": {},
     "output_type": "display_data"
    }
   ],
   "source": [
    "display(warp_test.beta1)"
   ]
  },
  {
   "cell_type": "code",
   "execution_count": 128,
   "id": "ea771994-2407-4a03-910f-33f6160652a1",
   "metadata": {},
   "outputs": [
    {
     "data": {
      "text/latex": [
       "$\\displaystyle 0$"
      ],
      "text/plain": [
       "0"
      ]
     },
     "metadata": {},
     "output_type": "display_data"
    }
   ],
   "source": [
    "display(warp_test.beta2)"
   ]
  },
  {
   "cell_type": "code",
   "execution_count": 129,
   "id": "b784b658-c9fa-405f-8f3e-52bb7515af89",
   "metadata": {},
   "outputs": [
    {
     "data": {
      "text/latex": [
       "$\\displaystyle 0$"
      ],
      "text/plain": [
       "0"
      ]
     },
     "metadata": {},
     "output_type": "display_data"
    }
   ],
   "source": [
    "display(warp_test.beta3)"
   ]
  },
  {
   "cell_type": "code",
   "execution_count": 130,
   "id": "07714680-d222-4b8e-a948-1458fd690a23",
   "metadata": {},
   "outputs": [
    {
     "data": {
      "text/latex": [
       "$\\displaystyle f^{2}{\\left(t,x,y,z \\right)} v^{2}{\\left(t \\right)}$"
      ],
      "text/plain": [
       "f(t, x, y, z)**2*v(t)**2"
      ]
     },
     "metadata": {},
     "output_type": "display_data"
    }
   ],
   "source": [
    "display(warp_test.beta_beta)"
   ]
  },
  {
   "cell_type": "code",
   "execution_count": 131,
   "id": "9bb416aa-81ca-4b89-b3fa-7f0566ba100d",
   "metadata": {},
   "outputs": [
    {
     "data": {
      "text/latex": [
       "$\\displaystyle \\left[\\begin{matrix}1 & 0 & 0\\\\0 & 1 & 0\\\\0 & 0 & 1\\end{matrix}\\right]$"
      ],
      "text/plain": [
       "Matrix([\n",
       "[1, 0, 0],\n",
       "[0, 1, 0],\n",
       "[0, 0, 1]])"
      ]
     },
     "metadata": {},
     "output_type": "display_data"
    }
   ],
   "source": [
    "display(warp_test.Gamma)"
   ]
  },
  {
   "cell_type": "code",
   "execution_count": 132,
   "id": "0d9dcf83-afe6-413c-9016-556db07ef989",
   "metadata": {},
   "outputs": [
    {
     "data": {
      "text/latex": [
       "$\\displaystyle v{\\left(t \\right)} \\frac{\\partial}{\\partial x} f{\\left(t,x,y,z \\right)}$"
      ],
      "text/plain": [
       "v(t)*Derivative(f(t, x, y, z), x)"
      ]
     },
     "metadata": {},
     "output_type": "display_data"
    }
   ],
   "source": [
    "display(warp_test.K)"
   ]
  },
  {
   "cell_type": "code",
   "execution_count": 81,
   "id": "0b05870a-d4e4-4a39-831c-eca11a9e7687",
   "metadata": {},
   "outputs": [],
   "source": [
    "    #Numerical Evaluation\n",
    "\n",
    "\n",
    "    #to display\n",
    "    \n",
    "    #beta1,2,3 [unit = 1]\n",
    "    #gamma matrix [unit = 1]\n",
    "    #alpha [unit = 1]\n",
    "    #T^^ for n0 (conversion needed) [unit = J m^-3]\n",
    "    #T^^ for minimum values among all observer (conversion needed) [unit = J m^-3]\n",
    "    #stress scalar (might be the same as expansion scalar) [unit = J m^-3]\n",
    "    #shear scalar [unit = m^-1]\n",
    "    #vorticity scalar [unit = m^-1]\n",
    "    #K scalar [unit = m^-1]\n",
    "    #Momentum flow (conversion needed with extra /c to go back to momentum)  [unit = kg m s^-1 m^-3]\n",
    "    #expansion scalar [unit = m^-1]\n",
    "    #NEC (conversion needed) [unit = J m^-3]\n",
    "    #WEC (conversion needed) [unit = J m^-3]\n",
    "    #SEC (conversion needed) [unit = J m^-3]\n",
    "    #DEC (conversion needed) [unit = J m^-3]\n",
    "    \n",
    "    \n",
    "    \n",
    "    gravity_const=6.6743*1e-11\n",
    "    c_speed_const=299792458\n",
    "    pi_8=8*np.pi\n",
    "    physical_energy_conversion=c_speed_const**4/pi_8/gravity_const\n",
    "    physical_momentum_conversion=physical_energy_conversion/c_speed_const\n",
    "\n",
    "    #additional notes:\n",
    "    #   time must be given in distance (thus multiply by c).\n",
    "    #   R = 1/m^2\n",
    "    #   g=1\n",
    "    #   Tuv = c^4/8piG = J/m^3\n",
    "    \n"
   ]
  },
  {
   "cell_type": "code",
   "execution_count": null,
   "id": "8274a3ac-2c79-4e8f-9103-e74c28db20c4",
   "metadata": {},
   "outputs": [],
   "source": []
  },
  {
   "cell_type": "code",
   "execution_count": null,
   "id": "c9993d9f-7656-4751-b123-93750e39609f",
   "metadata": {},
   "outputs": [],
   "source": []
  }
 ],
 "metadata": {
  "kernelspec": {
   "display_name": "Python 3 (ipykernel)",
   "language": "python",
   "name": "python3"
  },
  "language_info": {
   "codemirror_mode": {
    "name": "ipython",
    "version": 3
   },
   "file_extension": ".py",
   "mimetype": "text/x-python",
   "name": "python",
   "nbconvert_exporter": "python",
   "pygments_lexer": "ipython3",
   "version": "3.9.7"
  }
 },
 "nbformat": 4,
 "nbformat_minor": 5
}
